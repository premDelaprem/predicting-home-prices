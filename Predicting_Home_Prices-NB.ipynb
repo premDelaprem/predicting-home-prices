{
 "cells": [
  {
   "cell_type": "markdown",
   "metadata": {},
   "source": [
    "### Contents ###\n",
    "The below information conveys strategies I used to build and evaluate a model to predict housing prices in Ames, Iowa as part of a Kaggle competition.\n",
    "\n",
    "---\n",
    "1. Data Cleaning\n",
    "> a. Observe missing values <br>\n",
    "> b. Dropping vs. Imputing <br>\n",
    "> c. Deciding imputing technique\n",
    "\n",
    "2. EDA, Feature Engineering & Selection\n",
    "> a. Scatter plots <br>\n",
    "> b. Correlations to determine importance of features <br>\n",
    "> c. Fine tuning selected features using Lasso\n",
    "> d. Outlier analysis\n",
    "> e. Preprocessing (scaling data, train/test splits, transforming data)\n",
    "\n",
    "3. Modeling, Evaluation, Comparisons\n",
    "> a. Building models <br>\n",
    "> b. Evaluating r2 scores <br>\n",
    "> c. Evaluating RMSE <br>\n",
    "\n",
    "4. Conclusion <br>\n",
    "---\n",
    "The remainder of the notebook contains my code, visualizations, and analysis of the housing dataset as I attempt to build a predictive model that focuses on minimizing root mean squared error (RMSE)."
   ]
  },
  {
   "cell_type": "markdown",
   "metadata": {},
   "source": [
    "### Part I: Imports, Reading Data, Basic Info"
   ]
  },
  {
   "cell_type": "code",
   "execution_count": 1,
   "metadata": {},
   "outputs": [
    {
     "name": "stderr",
     "output_type": "stream",
     "text": [
      "/opt/anaconda3/lib/python3.8/site-packages/pandas/core/computation/expressions.py:20: UserWarning: Pandas requires version '2.7.3' or newer of 'numexpr' (version '2.7.1' currently installed).\n",
      "  from pandas.core.computation.check import NUMEXPR_INSTALLED\n"
     ]
    }
   ],
   "source": [
    "# imports! \n",
    "import pandas as pd \n",
    "import numpy as np\n",
    "import matplotlib.pyplot as plt\n",
    "import seaborn as sns\n",
    "\n",
    "# more imports!\n",
    "from sklearn.model_selection import train_test_split, cross_val_score, GridSearchCV\n",
    "from sklearn.linear_model import LinearRegression # model for linear reg \n",
    "from sklearn.linear_model import LassoCV, RidgeCV # model for lasso & ridge\n",
    "from sklearn.metrics import mean_squared_error # metrics for evaluation\n",
    "from sklearn.preprocessing import StandardScaler, OneHotEncoder # for scaling data & encoding\n",
    "from sklearn.compose import ColumnTransformer"
   ]
  },
  {
   "cell_type": "code",
   "execution_count": 2,
   "metadata": {},
   "outputs": [],
   "source": [
    "# reading training and test data\n",
    "df_train = pd.read_csv('./starter_datasets/train.csv')\n",
    "df_test = pd.read_csv('./starter_datasets/test.csv')\n",
    "\n",
    "# goal: clean both datasets together, keep 'test' set away from 'train' to prevent data leakage, don't learn anything from test set"
   ]
  },
  {
   "cell_type": "code",
   "execution_count": 3,
   "metadata": {},
   "outputs": [
    {
     "name": "stdout",
     "output_type": "stream",
     "text": [
      "Original Train: (2051, 81)\n",
      "Original Test: (878, 80)\n",
      "Data has been split roughly 70/30, train/test\n"
     ]
    }
   ],
   "source": [
    "# dimensions of train, test\n",
    "print(f\"Original Train: {df_train.shape}\")\n",
    "print(f\"Original Test: {df_test.shape}\")\n",
    "\n",
    "# as expected, test is 1 column shy (saleprice outcome)\n",
    "# also, it appears train/test have roughly been split 70/30\n",
    "print(\"Data has been split roughly 70/30, train/test\")"
   ]
  },
  {
   "cell_type": "markdown",
   "metadata": {},
   "source": [
    "---"
   ]
  },
  {
   "cell_type": "markdown",
   "metadata": {},
   "source": [
    "### Part II: Data Cleaning"
   ]
  },
  {
   "cell_type": "markdown",
   "metadata": {},
   "source": [
    "First, let's observe what data we have: Numerical vs. Categorical."
   ]
  },
  {
   "cell_type": "code",
   "execution_count": 4,
   "metadata": {},
   "outputs": [
    {
     "data": {
      "text/html": [
       "<div>\n",
       "<style scoped>\n",
       "    .dataframe tbody tr th:only-of-type {\n",
       "        vertical-align: middle;\n",
       "    }\n",
       "\n",
       "    .dataframe tbody tr th {\n",
       "        vertical-align: top;\n",
       "    }\n",
       "\n",
       "    .dataframe thead th {\n",
       "        text-align: right;\n",
       "    }\n",
       "</style>\n",
       "<table border=\"1\" class=\"dataframe\">\n",
       "  <thead>\n",
       "    <tr style=\"text-align: right;\">\n",
       "      <th></th>\n",
       "      <th>Id</th>\n",
       "      <th>PID</th>\n",
       "      <th>MS SubClass</th>\n",
       "      <th>MS Zoning</th>\n",
       "      <th>Lot Frontage</th>\n",
       "      <th>Lot Area</th>\n",
       "      <th>Street</th>\n",
       "      <th>Alley</th>\n",
       "      <th>Lot Shape</th>\n",
       "      <th>Land Contour</th>\n",
       "      <th>...</th>\n",
       "      <th>Screen Porch</th>\n",
       "      <th>Pool Area</th>\n",
       "      <th>Pool QC</th>\n",
       "      <th>Fence</th>\n",
       "      <th>Misc Feature</th>\n",
       "      <th>Misc Val</th>\n",
       "      <th>Mo Sold</th>\n",
       "      <th>Yr Sold</th>\n",
       "      <th>Sale Type</th>\n",
       "      <th>SalePrice</th>\n",
       "    </tr>\n",
       "  </thead>\n",
       "  <tbody>\n",
       "    <tr>\n",
       "      <th>0</th>\n",
       "      <td>109</td>\n",
       "      <td>533352170</td>\n",
       "      <td>60</td>\n",
       "      <td>RL</td>\n",
       "      <td>NaN</td>\n",
       "      <td>13517</td>\n",
       "      <td>Pave</td>\n",
       "      <td>NaN</td>\n",
       "      <td>IR1</td>\n",
       "      <td>Lvl</td>\n",
       "      <td>...</td>\n",
       "      <td>0</td>\n",
       "      <td>0</td>\n",
       "      <td>NaN</td>\n",
       "      <td>NaN</td>\n",
       "      <td>NaN</td>\n",
       "      <td>0</td>\n",
       "      <td>3</td>\n",
       "      <td>2010</td>\n",
       "      <td>WD</td>\n",
       "      <td>130500</td>\n",
       "    </tr>\n",
       "    <tr>\n",
       "      <th>1</th>\n",
       "      <td>544</td>\n",
       "      <td>531379050</td>\n",
       "      <td>60</td>\n",
       "      <td>RL</td>\n",
       "      <td>43.0</td>\n",
       "      <td>11492</td>\n",
       "      <td>Pave</td>\n",
       "      <td>NaN</td>\n",
       "      <td>IR1</td>\n",
       "      <td>Lvl</td>\n",
       "      <td>...</td>\n",
       "      <td>0</td>\n",
       "      <td>0</td>\n",
       "      <td>NaN</td>\n",
       "      <td>NaN</td>\n",
       "      <td>NaN</td>\n",
       "      <td>0</td>\n",
       "      <td>4</td>\n",
       "      <td>2009</td>\n",
       "      <td>WD</td>\n",
       "      <td>220000</td>\n",
       "    </tr>\n",
       "    <tr>\n",
       "      <th>2</th>\n",
       "      <td>153</td>\n",
       "      <td>535304180</td>\n",
       "      <td>20</td>\n",
       "      <td>RL</td>\n",
       "      <td>68.0</td>\n",
       "      <td>7922</td>\n",
       "      <td>Pave</td>\n",
       "      <td>NaN</td>\n",
       "      <td>Reg</td>\n",
       "      <td>Lvl</td>\n",
       "      <td>...</td>\n",
       "      <td>0</td>\n",
       "      <td>0</td>\n",
       "      <td>NaN</td>\n",
       "      <td>NaN</td>\n",
       "      <td>NaN</td>\n",
       "      <td>0</td>\n",
       "      <td>1</td>\n",
       "      <td>2010</td>\n",
       "      <td>WD</td>\n",
       "      <td>109000</td>\n",
       "    </tr>\n",
       "    <tr>\n",
       "      <th>3</th>\n",
       "      <td>318</td>\n",
       "      <td>916386060</td>\n",
       "      <td>60</td>\n",
       "      <td>RL</td>\n",
       "      <td>73.0</td>\n",
       "      <td>9802</td>\n",
       "      <td>Pave</td>\n",
       "      <td>NaN</td>\n",
       "      <td>Reg</td>\n",
       "      <td>Lvl</td>\n",
       "      <td>...</td>\n",
       "      <td>0</td>\n",
       "      <td>0</td>\n",
       "      <td>NaN</td>\n",
       "      <td>NaN</td>\n",
       "      <td>NaN</td>\n",
       "      <td>0</td>\n",
       "      <td>4</td>\n",
       "      <td>2010</td>\n",
       "      <td>WD</td>\n",
       "      <td>174000</td>\n",
       "    </tr>\n",
       "    <tr>\n",
       "      <th>4</th>\n",
       "      <td>255</td>\n",
       "      <td>906425045</td>\n",
       "      <td>50</td>\n",
       "      <td>RL</td>\n",
       "      <td>82.0</td>\n",
       "      <td>14235</td>\n",
       "      <td>Pave</td>\n",
       "      <td>NaN</td>\n",
       "      <td>IR1</td>\n",
       "      <td>Lvl</td>\n",
       "      <td>...</td>\n",
       "      <td>0</td>\n",
       "      <td>0</td>\n",
       "      <td>NaN</td>\n",
       "      <td>NaN</td>\n",
       "      <td>NaN</td>\n",
       "      <td>0</td>\n",
       "      <td>3</td>\n",
       "      <td>2010</td>\n",
       "      <td>WD</td>\n",
       "      <td>138500</td>\n",
       "    </tr>\n",
       "  </tbody>\n",
       "</table>\n",
       "<p>5 rows × 81 columns</p>\n",
       "</div>"
      ],
      "text/plain": [
       "    Id        PID  MS SubClass MS Zoning  Lot Frontage  Lot Area Street Alley  \\\n",
       "0  109  533352170           60        RL           NaN     13517   Pave   NaN   \n",
       "1  544  531379050           60        RL          43.0     11492   Pave   NaN   \n",
       "2  153  535304180           20        RL          68.0      7922   Pave   NaN   \n",
       "3  318  916386060           60        RL          73.0      9802   Pave   NaN   \n",
       "4  255  906425045           50        RL          82.0     14235   Pave   NaN   \n",
       "\n",
       "  Lot Shape Land Contour  ... Screen Porch Pool Area Pool QC Fence  \\\n",
       "0       IR1          Lvl  ...            0         0     NaN   NaN   \n",
       "1       IR1          Lvl  ...            0         0     NaN   NaN   \n",
       "2       Reg          Lvl  ...            0         0     NaN   NaN   \n",
       "3       Reg          Lvl  ...            0         0     NaN   NaN   \n",
       "4       IR1          Lvl  ...            0         0     NaN   NaN   \n",
       "\n",
       "  Misc Feature Misc Val Mo Sold Yr Sold  Sale Type  SalePrice  \n",
       "0          NaN        0       3    2010        WD      130500  \n",
       "1          NaN        0       4    2009        WD      220000  \n",
       "2          NaN        0       1    2010        WD      109000  \n",
       "3          NaN        0       4    2010        WD      174000  \n",
       "4          NaN        0       3    2010        WD      138500  \n",
       "\n",
       "[5 rows x 81 columns]"
      ]
     },
     "execution_count": 4,
     "metadata": {},
     "output_type": "execute_result"
    }
   ],
   "source": [
    "df_train.head()"
   ]
  },
  {
   "cell_type": "code",
   "execution_count": 5,
   "metadata": {},
   "outputs": [],
   "source": [
    "numerical = list(df_train.select_dtypes(exclude = 'object').columns)\n",
    "categorical = list(df_train.select_dtypes(include = 'object').columns)\n",
    "\n",
    "# test\n",
    "numerical_test = list(df_test.select_dtypes(exclude = 'object').columns)\n",
    "categorical_test = list(df_test.select_dtypes(include = 'object').columns)"
   ]
  },
  {
   "cell_type": "markdown",
   "metadata": {},
   "source": [
    "#### All Categorical Variables: \n",
    "['MS Zoning',\n",
    " 'Street',\n",
    " 'Alley',\n",
    " 'Lot Shape',\n",
    " 'Land Contour',\n",
    " 'Utilities',\n",
    " 'Lot Config',\n",
    " 'Land Slope',\n",
    " 'Neighborhood',\n",
    " 'Condition 1',\n",
    " 'Condition 2',\n",
    " 'Bldg Type',\n",
    " 'House Style',\n",
    " 'Roof Style',\n",
    " 'Roof Matl',\n",
    " 'Exterior 1st',\n",
    " 'Exterior 2nd',\n",
    " 'Mas Vnr Type',\n",
    " 'Exter Qual',\n",
    " 'Exter Cond',\n",
    " 'Foundation',\n",
    " 'Bsmt Qual',\n",
    " 'Bsmt Cond',\n",
    " 'Bsmt Exposure',\n",
    " 'BsmtFin Type 1',\n",
    " 'BsmtFin Type 2',\n",
    " 'Heating',\n",
    " 'Heating QC',\n",
    " 'Central Air',\n",
    " 'Electrical',\n",
    " 'Kitchen Qual',\n",
    " 'Functional',\n",
    " 'Fireplace Qu',\n",
    " 'Garage Type',\n",
    " 'Garage Finish',\n",
    " 'Garage Qual',\n",
    " 'Garage Cond',\n",
    " 'Paved Drive',\n",
    " 'Pool QC',\n",
    " 'Fence',\n",
    " 'Misc Feature',\n",
    " 'Sale Type']"
   ]
  },
  {
   "cell_type": "markdown",
   "metadata": {},
   "source": [
    "I used: **df_train[categorical].iloc[:5, start : stop]** to go through the columns and verify these should be categorical. They check out.\n",
    "\n",
    "---"
   ]
  },
  {
   "cell_type": "markdown",
   "metadata": {},
   "source": [
    "#### All Numerical Variables: \n",
    "['Id',\n",
    " 'PID',\n",
    " 'MS SubClass',\n",
    " 'Lot Frontage',\n",
    " 'Lot Area',\n",
    " 'Overall Qual',\n",
    " 'Overall Cond',\n",
    " 'Year Built',\n",
    " 'Year Remod/Add',\n",
    " 'Mas Vnr Area',\n",
    " 'BsmtFin SF 1',\n",
    " 'BsmtFin SF 2',\n",
    " 'Bsmt Unf SF',\n",
    " 'Total Bsmt SF',\n",
    " '1st Flr SF',\n",
    " '2nd Flr SF',\n",
    " 'Low Qual Fin SF',\n",
    " 'Gr Liv Area',\n",
    " 'Bsmt Full Bath',\n",
    " 'Bsmt Half Bath',\n",
    " 'Full Bath',\n",
    " 'Half Bath',\n",
    " 'Bedroom AbvGr',\n",
    " 'Kitchen AbvGr',\n",
    " 'TotRms AbvGrd',\n",
    " 'Fireplaces',\n",
    " 'Garage Yr Blt',\n",
    " 'Garage Cars',\n",
    " 'Garage Area',\n",
    " 'Wood Deck SF',\n",
    " 'Open Porch SF',\n",
    " 'Enclosed Porch',\n",
    " '3Ssn Porch',\n",
    " 'Screen Porch',\n",
    " 'Pool Area',\n",
    " 'Misc Val',\n",
    " 'Mo Sold',\n",
    " 'Yr Sold',\n",
    " 'SalePrice']\n",
    " \n",
    " "
   ]
  },
  {
   "cell_type": "markdown",
   "metadata": {},
   "source": [
    "Again, I used: **df_train[numerical].iloc[:5, start : stop]** to go through the columns and verify if these should be numerical. Notes below!\n",
    "\n",
    "***Don't make sense as numerical*** <br>\n",
    "['Id', 'PID', ]\n",
    "\n",
    "***Change to int (don't make sense as float)*** <br>\n",
    "However, these have NaN values, so I will impute the missing values first before converting both to integer. (Later) <br>\n",
    "['Garage Yr Blt', 'Garage Cars']"
   ]
  },
  {
   "cell_type": "code",
   "execution_count": 6,
   "metadata": {},
   "outputs": [
    {
     "name": "stdout",
     "output_type": "stream",
     "text": [
      "Np.nan in 'Id': False\n",
      "Np.nan in 'PID': False\n"
     ]
    }
   ],
   "source": [
    "# Let's convert Id & PID to 'object' type\n",
    "\n",
    "# First, check if there are any np.nan values in 'Id'\n",
    "print(f\"Np.nan in 'Id': {np.nan in df_train['Id'].value_counts().index}\")\n",
    "print(f\"Np.nan in 'PID': {np.nan in df_train['PID'].value_counts().index}\")"
   ]
  },
  {
   "cell_type": "code",
   "execution_count": 7,
   "metadata": {},
   "outputs": [],
   "source": [
    "# Great, now I can convert both\n",
    "df_train['Id'] = df_train['Id'].astype(object)\n",
    "df_train['PID'] = df_train['PID'].astype(object)\n",
    "\n",
    "df_test['Id'] = df_test['Id'].astype(object)\n",
    "df_test['PID'] = df_test['PID'].astype(object)\n",
    "\n",
    "# Now, recall Numerical & Categorical lists to update them\n",
    "numerical_test = list(df_test.select_dtypes(exclude = 'object').columns)    # ID, PID removed\n",
    "categorical_test = list(df_test.select_dtypes(include = 'object').columns)    # ID, PID added"
   ]
  },
  {
   "cell_type": "markdown",
   "metadata": {},
   "source": [
    "---\n",
    "#### Dealing with Missing Values\n",
    "Here, I want to decide which variables have missing values and how many. If a ton of values are missing, it makes sense to drop the variable altogether. If there aren't too many missing values, it makes sense to impute the values so we can include them in our model (if necessary)."
   ]
  },
  {
   "cell_type": "code",
   "execution_count": 8,
   "metadata": {},
   "outputs": [
    {
     "name": "stdout",
     "output_type": "stream",
     "text": [
      "<class 'pandas.core.frame.DataFrame'>\n",
      "RangeIndex: 2051 entries, 0 to 2050\n",
      "Data columns (total 81 columns):\n",
      " #   Column           Non-Null Count  Dtype  \n",
      "---  ------           --------------  -----  \n",
      " 0   Id               2051 non-null   object \n",
      " 1   PID              2051 non-null   object \n",
      " 2   MS SubClass      2051 non-null   int64  \n",
      " 3   MS Zoning        2051 non-null   object \n",
      " 4   Lot Frontage     1721 non-null   float64\n",
      " 5   Lot Area         2051 non-null   int64  \n",
      " 6   Street           2051 non-null   object \n",
      " 7   Alley            140 non-null    object \n",
      " 8   Lot Shape        2051 non-null   object \n",
      " 9   Land Contour     2051 non-null   object \n",
      " 10  Utilities        2051 non-null   object \n",
      " 11  Lot Config       2051 non-null   object \n",
      " 12  Land Slope       2051 non-null   object \n",
      " 13  Neighborhood     2051 non-null   object \n",
      " 14  Condition 1      2051 non-null   object \n",
      " 15  Condition 2      2051 non-null   object \n",
      " 16  Bldg Type        2051 non-null   object \n",
      " 17  House Style      2051 non-null   object \n",
      " 18  Overall Qual     2051 non-null   int64  \n",
      " 19  Overall Cond     2051 non-null   int64  \n",
      " 20  Year Built       2051 non-null   int64  \n",
      " 21  Year Remod/Add   2051 non-null   int64  \n",
      " 22  Roof Style       2051 non-null   object \n",
      " 23  Roof Matl        2051 non-null   object \n",
      " 24  Exterior 1st     2051 non-null   object \n",
      " 25  Exterior 2nd     2051 non-null   object \n",
      " 26  Mas Vnr Type     2029 non-null   object \n",
      " 27  Mas Vnr Area     2029 non-null   float64\n",
      " 28  Exter Qual       2051 non-null   object \n",
      " 29  Exter Cond       2051 non-null   object \n",
      " 30  Foundation       2051 non-null   object \n",
      " 31  Bsmt Qual        1996 non-null   object \n",
      " 32  Bsmt Cond        1996 non-null   object \n",
      " 33  Bsmt Exposure    1993 non-null   object \n",
      " 34  BsmtFin Type 1   1996 non-null   object \n",
      " 35  BsmtFin SF 1     2050 non-null   float64\n",
      " 36  BsmtFin Type 2   1995 non-null   object \n",
      " 37  BsmtFin SF 2     2050 non-null   float64\n",
      " 38  Bsmt Unf SF      2050 non-null   float64\n",
      " 39  Total Bsmt SF    2050 non-null   float64\n",
      " 40  Heating          2051 non-null   object \n",
      " 41  Heating QC       2051 non-null   object \n",
      " 42  Central Air      2051 non-null   object \n",
      " 43  Electrical       2051 non-null   object \n",
      " 44  1st Flr SF       2051 non-null   int64  \n",
      " 45  2nd Flr SF       2051 non-null   int64  \n",
      " 46  Low Qual Fin SF  2051 non-null   int64  \n",
      " 47  Gr Liv Area      2051 non-null   int64  \n",
      " 48  Bsmt Full Bath   2049 non-null   float64\n",
      " 49  Bsmt Half Bath   2049 non-null   float64\n",
      " 50  Full Bath        2051 non-null   int64  \n",
      " 51  Half Bath        2051 non-null   int64  \n",
      " 52  Bedroom AbvGr    2051 non-null   int64  \n",
      " 53  Kitchen AbvGr    2051 non-null   int64  \n",
      " 54  Kitchen Qual     2051 non-null   object \n",
      " 55  TotRms AbvGrd    2051 non-null   int64  \n",
      " 56  Functional       2051 non-null   object \n",
      " 57  Fireplaces       2051 non-null   int64  \n",
      " 58  Fireplace Qu     1051 non-null   object \n",
      " 59  Garage Type      1938 non-null   object \n",
      " 60  Garage Yr Blt    1937 non-null   float64\n",
      " 61  Garage Finish    1937 non-null   object \n",
      " 62  Garage Cars      2050 non-null   float64\n",
      " 63  Garage Area      2050 non-null   float64\n",
      " 64  Garage Qual      1937 non-null   object \n",
      " 65  Garage Cond      1937 non-null   object \n",
      " 66  Paved Drive      2051 non-null   object \n",
      " 67  Wood Deck SF     2051 non-null   int64  \n",
      " 68  Open Porch SF    2051 non-null   int64  \n",
      " 69  Enclosed Porch   2051 non-null   int64  \n",
      " 70  3Ssn Porch       2051 non-null   int64  \n",
      " 71  Screen Porch     2051 non-null   int64  \n",
      " 72  Pool Area        2051 non-null   int64  \n",
      " 73  Pool QC          9 non-null      object \n",
      " 74  Fence            400 non-null    object \n",
      " 75  Misc Feature     65 non-null     object \n",
      " 76  Misc Val         2051 non-null   int64  \n",
      " 77  Mo Sold          2051 non-null   int64  \n",
      " 78  Yr Sold          2051 non-null   int64  \n",
      " 79  Sale Type        2051 non-null   object \n",
      " 80  SalePrice        2051 non-null   int64  \n",
      "dtypes: float64(11), int64(26), object(44)\n",
      "memory usage: 1.3+ MB\n"
     ]
    }
   ],
   "source": [
    "# hard to view which columns have how many missing values\n",
    "df_train.info()"
   ]
  },
  {
   "cell_type": "code",
   "execution_count": 9,
   "metadata": {},
   "outputs": [
    {
     "data": {
      "text/plain": [
       "Id                0\n",
       "PID               0\n",
       "MS SubClass       0\n",
       "MS Zoning         0\n",
       "Lot Frontage    330\n",
       "               ... \n",
       "Misc Val          0\n",
       "Mo Sold           0\n",
       "Yr Sold           0\n",
       "Sale Type         0\n",
       "SalePrice         0\n",
       "Length: 81, dtype: int64"
      ]
     },
     "execution_count": 9,
     "metadata": {},
     "output_type": "execute_result"
    }
   ],
   "source": [
    "df_train.isnull().sum()"
   ]
  },
  {
   "cell_type": "code",
   "execution_count": 10,
   "metadata": {},
   "outputs": [
    {
     "data": {
      "text/html": [
       "<div>\n",
       "<style scoped>\n",
       "    .dataframe tbody tr th:only-of-type {\n",
       "        vertical-align: middle;\n",
       "    }\n",
       "\n",
       "    .dataframe tbody tr th {\n",
       "        vertical-align: top;\n",
       "    }\n",
       "\n",
       "    .dataframe thead th {\n",
       "        text-align: right;\n",
       "    }\n",
       "</style>\n",
       "<table border=\"1\" class=\"dataframe\">\n",
       "  <thead>\n",
       "    <tr style=\"text-align: right;\">\n",
       "      <th></th>\n",
       "      <th>Avg. Missing</th>\n",
       "      <th>Total Missing</th>\n",
       "    </tr>\n",
       "  </thead>\n",
       "  <tbody>\n",
       "    <tr>\n",
       "      <th>Pool QC</th>\n",
       "      <td>0.995612</td>\n",
       "      <td>2042</td>\n",
       "    </tr>\n",
       "    <tr>\n",
       "      <th>Misc Feature</th>\n",
       "      <td>0.968308</td>\n",
       "      <td>1986</td>\n",
       "    </tr>\n",
       "    <tr>\n",
       "      <th>Alley</th>\n",
       "      <td>0.931741</td>\n",
       "      <td>1911</td>\n",
       "    </tr>\n",
       "    <tr>\n",
       "      <th>Fence</th>\n",
       "      <td>0.804973</td>\n",
       "      <td>1651</td>\n",
       "    </tr>\n",
       "    <tr>\n",
       "      <th>Fireplace Qu</th>\n",
       "      <td>0.487567</td>\n",
       "      <td>1000</td>\n",
       "    </tr>\n",
       "    <tr>\n",
       "      <th>Lot Frontage</th>\n",
       "      <td>0.160897</td>\n",
       "      <td>330</td>\n",
       "    </tr>\n",
       "    <tr>\n",
       "      <th>Garage Finish</th>\n",
       "      <td>0.055583</td>\n",
       "      <td>114</td>\n",
       "    </tr>\n",
       "    <tr>\n",
       "      <th>Garage Qual</th>\n",
       "      <td>0.055583</td>\n",
       "      <td>114</td>\n",
       "    </tr>\n",
       "    <tr>\n",
       "      <th>Garage Yr Blt</th>\n",
       "      <td>0.055583</td>\n",
       "      <td>114</td>\n",
       "    </tr>\n",
       "    <tr>\n",
       "      <th>Garage Cond</th>\n",
       "      <td>0.055583</td>\n",
       "      <td>114</td>\n",
       "    </tr>\n",
       "    <tr>\n",
       "      <th>Garage Type</th>\n",
       "      <td>0.055095</td>\n",
       "      <td>113</td>\n",
       "    </tr>\n",
       "    <tr>\n",
       "      <th>Bsmt Exposure</th>\n",
       "      <td>0.028279</td>\n",
       "      <td>58</td>\n",
       "    </tr>\n",
       "    <tr>\n",
       "      <th>BsmtFin Type 2</th>\n",
       "      <td>0.027304</td>\n",
       "      <td>56</td>\n",
       "    </tr>\n",
       "    <tr>\n",
       "      <th>BsmtFin Type 1</th>\n",
       "      <td>0.026816</td>\n",
       "      <td>55</td>\n",
       "    </tr>\n",
       "    <tr>\n",
       "      <th>Bsmt Cond</th>\n",
       "      <td>0.026816</td>\n",
       "      <td>55</td>\n",
       "    </tr>\n",
       "    <tr>\n",
       "      <th>Bsmt Qual</th>\n",
       "      <td>0.026816</td>\n",
       "      <td>55</td>\n",
       "    </tr>\n",
       "    <tr>\n",
       "      <th>Mas Vnr Area</th>\n",
       "      <td>0.010726</td>\n",
       "      <td>22</td>\n",
       "    </tr>\n",
       "    <tr>\n",
       "      <th>Mas Vnr Type</th>\n",
       "      <td>0.010726</td>\n",
       "      <td>22</td>\n",
       "    </tr>\n",
       "    <tr>\n",
       "      <th>Bsmt Half Bath</th>\n",
       "      <td>0.000975</td>\n",
       "      <td>2</td>\n",
       "    </tr>\n",
       "    <tr>\n",
       "      <th>Bsmt Full Bath</th>\n",
       "      <td>0.000975</td>\n",
       "      <td>2</td>\n",
       "    </tr>\n",
       "    <tr>\n",
       "      <th>Garage Area</th>\n",
       "      <td>0.000488</td>\n",
       "      <td>1</td>\n",
       "    </tr>\n",
       "    <tr>\n",
       "      <th>Total Bsmt SF</th>\n",
       "      <td>0.000488</td>\n",
       "      <td>1</td>\n",
       "    </tr>\n",
       "    <tr>\n",
       "      <th>Bsmt Unf SF</th>\n",
       "      <td>0.000488</td>\n",
       "      <td>1</td>\n",
       "    </tr>\n",
       "    <tr>\n",
       "      <th>BsmtFin SF 2</th>\n",
       "      <td>0.000488</td>\n",
       "      <td>1</td>\n",
       "    </tr>\n",
       "    <tr>\n",
       "      <th>BsmtFin SF 1</th>\n",
       "      <td>0.000488</td>\n",
       "      <td>1</td>\n",
       "    </tr>\n",
       "    <tr>\n",
       "      <th>Garage Cars</th>\n",
       "      <td>0.000488</td>\n",
       "      <td>1</td>\n",
       "    </tr>\n",
       "  </tbody>\n",
       "</table>\n",
       "</div>"
      ],
      "text/plain": [
       "                Avg. Missing  Total Missing\n",
       "Pool QC             0.995612           2042\n",
       "Misc Feature        0.968308           1986\n",
       "Alley               0.931741           1911\n",
       "Fence               0.804973           1651\n",
       "Fireplace Qu        0.487567           1000\n",
       "Lot Frontage        0.160897            330\n",
       "Garage Finish       0.055583            114\n",
       "Garage Qual         0.055583            114\n",
       "Garage Yr Blt       0.055583            114\n",
       "Garage Cond         0.055583            114\n",
       "Garage Type         0.055095            113\n",
       "Bsmt Exposure       0.028279             58\n",
       "BsmtFin Type 2      0.027304             56\n",
       "BsmtFin Type 1      0.026816             55\n",
       "Bsmt Cond           0.026816             55\n",
       "Bsmt Qual           0.026816             55\n",
       "Mas Vnr Area        0.010726             22\n",
       "Mas Vnr Type        0.010726             22\n",
       "Bsmt Half Bath      0.000975              2\n",
       "Bsmt Full Bath      0.000975              2\n",
       "Garage Area         0.000488              1\n",
       "Total Bsmt SF       0.000488              1\n",
       "Bsmt Unf SF         0.000488              1\n",
       "BsmtFin SF 2        0.000488              1\n",
       "BsmtFin SF 1        0.000488              1\n",
       "Garage Cars         0.000488              1"
      ]
     },
     "execution_count": 10,
     "metadata": {},
     "output_type": "execute_result"
    }
   ],
   "source": [
    "# making a missing values DF\n",
    "train_missing_vals = pd.DataFrame(df_train.isnull().mean(), columns = ['Avg. Missing']).sort_values(by = 'Avg. Missing', ascending = False)\n",
    "train_missing_vals['Total Missing'] = df_train.isnull().sum()\n",
    "\n",
    "test_missing_vals = pd.DataFrame(df_test.isnull().mean(), columns = ['Avg. Missing']).sort_values(by = 'Avg. Missing', ascending = False)\n",
    "test_missing_vals['Total Missing'] = df_test.isnull().sum()\n",
    "\n",
    "# let's see which have missing values at all --> 26 total vars have missing values > 0\n",
    "train_missing_vals[train_missing_vals['Avg. Missing'] > 0]"
   ]
  },
  {
   "cell_type": "code",
   "execution_count": 11,
   "metadata": {},
   "outputs": [
    {
     "data": {
      "image/png": "[encoded data removed]",
      "text/plain": [
       "<Figure size 1008x720 with 1 Axes>"
      ]
     },
     "metadata": {
      "needs_background": "light"
     },
     "output_type": "display_data"
    }
   ],
   "source": [
    "# graphing the number of missing values\n",
    "plt.figure(figsize = (14,10))\n",
    "plt.barh(y = train_missing_vals[train_missing_vals['Avg. Missing'] > 0].index, width = train_missing_vals[train_missing_vals['Avg. Missing'] > 0]['Avg. Missing'])\n",
    "plt.title('Average Missing Values', size = 16)\n",
    "plt.ylabel('Variable', size = 14)\n",
    "plt.xlabel('Average % Missing', size = 14);\n",
    "\n",
    "# saving\n",
    "plt.savefig('./project2_graphs/missing_vals.jpeg')"
   ]
  },
  {
   "cell_type": "markdown",
   "metadata": {},
   "source": [
    "Based on the chart, it makes sense to drop: **['Fireplace Qu', 'Fence', 'Alley', 'Misc Feature', 'Pool QC'].** <br>\n",
    "For the rest, we can impute missing values using mean, median, or mode."
   ]
  },
  {
   "cell_type": "code",
   "execution_count": 12,
   "metadata": {},
   "outputs": [],
   "source": [
    "#### MAJOR ALTERATION OF KEY DATAFRAME ####\n",
    "\n",
    "# Dropping ['Fireplace Qu', 'Fence', 'Alley', 'Misc Feature', 'Pool QC'] from df_train\n",
    "\n",
    "df_train.drop(columns = ['Fireplace Qu', 'Fence', 'Alley', 'Misc Feature', 'Pool QC'], inplace = True)\n",
    "\n",
    "df_test.drop(columns = ['Fireplace Qu', 'Fence', 'Alley', 'Misc Feature', 'Pool QC'], inplace = True)"
   ]
  },
  {
   "cell_type": "code",
   "execution_count": 13,
   "metadata": {},
   "outputs": [
    {
     "data": {
      "text/plain": [
       "((2051, 76), (878, 75))"
      ]
     },
     "execution_count": 13,
     "metadata": {},
     "output_type": "execute_result"
    }
   ],
   "source": [
    "# Verifying: 5 fewer columns\n",
    "df_train.shape, df_test.shape"
   ]
  },
  {
   "cell_type": "code",
   "execution_count": 14,
   "metadata": {},
   "outputs": [],
   "source": [
    "# let's add another column to represent the type of variable\n",
    "train_missing_vals['Var Type'] = ['numerical' if i in numerical else 'categorical' for i in train_missing_vals.index ]\n",
    "\n",
    "test_missing_vals['Var Type'] = ['numerical' if i in numerical_test else 'categorical' for i in test_missing_vals.index ]\n",
    "\n",
    "\n",
    "# these are the variables we need to do some imputations for\n",
    "impute_vars = train_missing_vals[(train_missing_vals['Avg. Missing'] > 0) & (train_missing_vals['Avg. Missing'] < 0.4)]\n",
    "\n",
    "impute_vars_test = test_missing_vals[(test_missing_vals['Avg. Missing'] > 0) & (test_missing_vals['Avg. Missing'] < 0.4)]"
   ]
  },
  {
   "cell_type": "code",
   "execution_count": 15,
   "metadata": {},
   "outputs": [
    {
     "data": {
      "text/html": [
       "<div>\n",
       "<style scoped>\n",
       "    .dataframe tbody tr th:only-of-type {\n",
       "        vertical-align: middle;\n",
       "    }\n",
       "\n",
       "    .dataframe tbody tr th {\n",
       "        vertical-align: top;\n",
       "    }\n",
       "\n",
       "    .dataframe thead th {\n",
       "        text-align: right;\n",
       "    }\n",
       "</style>\n",
       "<table border=\"1\" class=\"dataframe\">\n",
       "  <thead>\n",
       "    <tr style=\"text-align: right;\">\n",
       "      <th></th>\n",
       "      <th>Avg. Missing</th>\n",
       "      <th>Total Missing</th>\n",
       "      <th>Var Type</th>\n",
       "    </tr>\n",
       "  </thead>\n",
       "  <tbody>\n",
       "    <tr>\n",
       "      <th>Lot Frontage</th>\n",
       "      <td>0.160897</td>\n",
       "      <td>330</td>\n",
       "      <td>numerical</td>\n",
       "    </tr>\n",
       "    <tr>\n",
       "      <th>Garage Finish</th>\n",
       "      <td>0.055583</td>\n",
       "      <td>114</td>\n",
       "      <td>categorical</td>\n",
       "    </tr>\n",
       "    <tr>\n",
       "      <th>Garage Qual</th>\n",
       "      <td>0.055583</td>\n",
       "      <td>114</td>\n",
       "      <td>categorical</td>\n",
       "    </tr>\n",
       "    <tr>\n",
       "      <th>Garage Yr Blt</th>\n",
       "      <td>0.055583</td>\n",
       "      <td>114</td>\n",
       "      <td>numerical</td>\n",
       "    </tr>\n",
       "    <tr>\n",
       "      <th>Garage Cond</th>\n",
       "      <td>0.055583</td>\n",
       "      <td>114</td>\n",
       "      <td>categorical</td>\n",
       "    </tr>\n",
       "    <tr>\n",
       "      <th>Garage Type</th>\n",
       "      <td>0.055095</td>\n",
       "      <td>113</td>\n",
       "      <td>categorical</td>\n",
       "    </tr>\n",
       "    <tr>\n",
       "      <th>Bsmt Exposure</th>\n",
       "      <td>0.028279</td>\n",
       "      <td>58</td>\n",
       "      <td>categorical</td>\n",
       "    </tr>\n",
       "    <tr>\n",
       "      <th>BsmtFin Type 2</th>\n",
       "      <td>0.027304</td>\n",
       "      <td>56</td>\n",
       "      <td>categorical</td>\n",
       "    </tr>\n",
       "    <tr>\n",
       "      <th>BsmtFin Type 1</th>\n",
       "      <td>0.026816</td>\n",
       "      <td>55</td>\n",
       "      <td>categorical</td>\n",
       "    </tr>\n",
       "    <tr>\n",
       "      <th>Bsmt Cond</th>\n",
       "      <td>0.026816</td>\n",
       "      <td>55</td>\n",
       "      <td>categorical</td>\n",
       "    </tr>\n",
       "    <tr>\n",
       "      <th>Bsmt Qual</th>\n",
       "      <td>0.026816</td>\n",
       "      <td>55</td>\n",
       "      <td>categorical</td>\n",
       "    </tr>\n",
       "    <tr>\n",
       "      <th>Mas Vnr Area</th>\n",
       "      <td>0.010726</td>\n",
       "      <td>22</td>\n",
       "      <td>numerical</td>\n",
       "    </tr>\n",
       "    <tr>\n",
       "      <th>Mas Vnr Type</th>\n",
       "      <td>0.010726</td>\n",
       "      <td>22</td>\n",
       "      <td>categorical</td>\n",
       "    </tr>\n",
       "    <tr>\n",
       "      <th>Bsmt Half Bath</th>\n",
       "      <td>0.000975</td>\n",
       "      <td>2</td>\n",
       "      <td>numerical</td>\n",
       "    </tr>\n",
       "    <tr>\n",
       "      <th>Bsmt Full Bath</th>\n",
       "      <td>0.000975</td>\n",
       "      <td>2</td>\n",
       "      <td>numerical</td>\n",
       "    </tr>\n",
       "    <tr>\n",
       "      <th>Garage Area</th>\n",
       "      <td>0.000488</td>\n",
       "      <td>1</td>\n",
       "      <td>numerical</td>\n",
       "    </tr>\n",
       "    <tr>\n",
       "      <th>Total Bsmt SF</th>\n",
       "      <td>0.000488</td>\n",
       "      <td>1</td>\n",
       "      <td>numerical</td>\n",
       "    </tr>\n",
       "    <tr>\n",
       "      <th>Bsmt Unf SF</th>\n",
       "      <td>0.000488</td>\n",
       "      <td>1</td>\n",
       "      <td>numerical</td>\n",
       "    </tr>\n",
       "    <tr>\n",
       "      <th>BsmtFin SF 2</th>\n",
       "      <td>0.000488</td>\n",
       "      <td>1</td>\n",
       "      <td>numerical</td>\n",
       "    </tr>\n",
       "    <tr>\n",
       "      <th>BsmtFin SF 1</th>\n",
       "      <td>0.000488</td>\n",
       "      <td>1</td>\n",
       "      <td>numerical</td>\n",
       "    </tr>\n",
       "    <tr>\n",
       "      <th>Garage Cars</th>\n",
       "      <td>0.000488</td>\n",
       "      <td>1</td>\n",
       "      <td>numerical</td>\n",
       "    </tr>\n",
       "  </tbody>\n",
       "</table>\n",
       "</div>"
      ],
      "text/plain": [
       "                Avg. Missing  Total Missing     Var Type\n",
       "Lot Frontage        0.160897            330    numerical\n",
       "Garage Finish       0.055583            114  categorical\n",
       "Garage Qual         0.055583            114  categorical\n",
       "Garage Yr Blt       0.055583            114    numerical\n",
       "Garage Cond         0.055583            114  categorical\n",
       "Garage Type         0.055095            113  categorical\n",
       "Bsmt Exposure       0.028279             58  categorical\n",
       "BsmtFin Type 2      0.027304             56  categorical\n",
       "BsmtFin Type 1      0.026816             55  categorical\n",
       "Bsmt Cond           0.026816             55  categorical\n",
       "Bsmt Qual           0.026816             55  categorical\n",
       "Mas Vnr Area        0.010726             22    numerical\n",
       "Mas Vnr Type        0.010726             22  categorical\n",
       "Bsmt Half Bath      0.000975              2    numerical\n",
       "Bsmt Full Bath      0.000975              2    numerical\n",
       "Garage Area         0.000488              1    numerical\n",
       "Total Bsmt SF       0.000488              1    numerical\n",
       "Bsmt Unf SF         0.000488              1    numerical\n",
       "BsmtFin SF 2        0.000488              1    numerical\n",
       "BsmtFin SF 1        0.000488              1    numerical\n",
       "Garage Cars         0.000488              1    numerical"
      ]
     },
     "execution_count": 15,
     "metadata": {},
     "output_type": "execute_result"
    }
   ],
   "source": [
    "impute_vars"
   ]
  },
  {
   "cell_type": "markdown",
   "metadata": {},
   "source": [
    "#### Imputing Categorical Variables\n",
    "For the categorical ones, I'll use the **mode** to fill in the missing values. First, I'll test it on one (with inplace = False). After confirming my code works, I will write a loop to go through **all** categorical vars in ***impute_vars*** dataframe."
   ]
  },
  {
   "cell_type": "code",
   "execution_count": 16,
   "metadata": {},
   "outputs": [
    {
     "name": "stdout",
     "output_type": "stream",
     "text": [
      "Before Impute: 849\n",
      "After Impute: 963\n",
      "The count for 'Unf' went up by 114. There were 114 missing values for this variable, so this implies that our imputation using mode works. Noice. 😎\n"
     ]
    }
   ],
   "source": [
    "# This whole cell is just me testing the imputation using mode for 'Garage Finish' (a categorical var)\n",
    "print(f\"Before Impute: {df_train['Garage Finish'].value_counts()[0]}\")\n",
    "print(f\"After Impute: {df_train['Garage Finish'].fillna(value = df_train['Garage Finish'].mode()[0]).value_counts()[0]}\")\n",
    "\n",
    "print(\"The count for 'Unf' went up by 114. There were 114 missing values for this variable, so this implies that our imputation using mode works. Noice. 😎\")"
   ]
  },
  {
   "cell_type": "code",
   "execution_count": 17,
   "metadata": {},
   "outputs": [
    {
     "name": "stderr",
     "output_type": "stream",
     "text": [
      "<ipython-input-17-dd970deb0ac7>:3: FutureWarning: iteritems is deprecated and will be removed in a future version. Use .items instead.\n",
      "  for i, val in impute_vars['Var Type'].iteritems():    # Shoutout ChatGPT for .iteritems()\n"
     ]
    }
   ],
   "source": [
    "# Now, let's apply the above to ALL categorical variables that need imputing using the 'for' loop I wrote below:\n",
    "\n",
    "for i, val in impute_vars['Var Type'].iteritems():    # Shoutout ChatGPT for .iteritems()\n",
    "    if val == 'categorical':\n",
    "        df_train[i].fillna(value = df_train[i].mode()[0], inplace = True)\n",
    "        df_test[i].fillna(value = df_train[i].mode()[0], inplace = True)\n",
    "        \n",
    "        \n",
    "# # now testing      --> DATA LEAKAGE --> DON'T DO THIS (saving for reference)   \n",
    "# for i, val in impute_vars_test['Var Type'].iteritems():    # Shoutout ChatGPT for .iteritems()\n",
    "#     if val == 'categorical':\n",
    "#         df_test[i].fillna(value = df_test[i].mode()[0], inplace = True)"
   ]
  },
  {
   "cell_type": "code",
   "execution_count": 18,
   "metadata": {},
   "outputs": [
    {
     "data": {
      "text/plain": [
       "(0, 0)"
      ]
     },
     "execution_count": 18,
     "metadata": {},
     "output_type": "execute_result"
    }
   ],
   "source": [
    "# Testing!\n",
    "df_train['Garage Qual'].isna().sum(), df_test['Garage Qual'].isna().sum()    # missing values taken care of   # missing values taken care of"
   ]
  },
  {
   "cell_type": "markdown",
   "metadata": {},
   "source": [
    "#### Imputing Numerical Variables\n",
    "This will be more tricky, since I want to first decide whether to use the mean or median. From my stats classes, I remember that typically a variable is about normal if the mean is equal to the median and mode. <br> \n",
    "To determine whether to use mean or median, I will calculate the **skewness** for each numerical value. <br>\n",
    "Per \"https://community.gooddata.com/metrics-and-maql-kb-articles-43/normality-testing-skewness-and-kurtosis-241\", skewness > 1 or < -1 indicates high level of skew, which could imply presence of outliers.\n",
    "> 1. If skewness for the variable > 1 or < -1, I will impute with the median.\n",
    "> 2. Otherwise, I'll use the mean."
   ]
  },
  {
   "cell_type": "code",
   "execution_count": 19,
   "metadata": {},
   "outputs": [
    {
     "data": {
      "text/plain": [
       "0"
      ]
     },
     "execution_count": 19,
     "metadata": {},
     "output_type": "execute_result"
    }
   ],
   "source": [
    "# testing on 'Lot Frontage' variable w/out 'inplace = True'\n",
    "df_train['Lot Frontage'].fillna(value = df_train['Lot Frontage'].mean()).isna().sum()"
   ]
  },
  {
   "cell_type": "code",
   "execution_count": 20,
   "metadata": {},
   "outputs": [
    {
     "name": "stderr",
     "output_type": "stream",
     "text": [
      "<ipython-input-20-7be8444fdac3>:3: FutureWarning: iteritems is deprecated and will be removed in a future version. Use .items instead.\n",
      "  for i, val in impute_vars['Var Type'].iteritems():\n"
     ]
    }
   ],
   "source": [
    "# Like before, let's apply the .fillna() to all numerical vars\n",
    "\n",
    "for i, val in impute_vars['Var Type'].iteritems():\n",
    "    if val == 'numerical':\n",
    "        if abs(df_train[i].skew()) > 1: # highly skewed, impute w/ median\n",
    "            df_train[i].fillna(value = df_train[i].median(), inplace = True)   \n",
    "            df_test[i].fillna(value = df_train[i].median(), inplace = True)     \n",
    "\n",
    "        else: # impute w/ mean\n",
    "            df_train[i].fillna(value = df_train[i].mean(), inplace = True)\n",
    "            df_test[i].fillna(value = df_train[i].mean(), inplace = True)\n",
    "            \n",
    "            \n",
    "# # test --> DONT DO THIS (saving for reference)\n",
    "# for i, val in impute_vars_test['Var Type'].iteritems():\n",
    "#     if val == 'numerical':\n",
    "#         if abs(df_test[i].skew()) > 1: # highly skewed, impute w/ median\n",
    "#             df_test[i].fillna(value = df_test[i].median(), inplace = True)     \n",
    "#         else: # impute w/ mean\n",
    "#             df_test[i].fillna(value = df_test[i].mean(), inplace = True)"
   ]
  },
  {
   "cell_type": "code",
   "execution_count": 21,
   "metadata": {},
   "outputs": [
    {
     "data": {
      "text/plain": [
       "(0, 1)"
      ]
     },
     "execution_count": 21,
     "metadata": {},
     "output_type": "execute_result"
    }
   ],
   "source": [
    "# Testing!\n",
    "df_train.isna().sum().max(), df_test.isna().sum().max() # no more missing vals"
   ]
  },
  {
   "cell_type": "code",
   "execution_count": 22,
   "metadata": {},
   "outputs": [],
   "source": [
    "# Lastly, I'll also drop ID & PID since these won't be necessary for my regressions\n",
    "df_train.drop(columns = ['Id', 'PID'], inplace = True)\n",
    "\n",
    "df_test.drop(columns = ['Id', 'PID'], inplace = True)"
   ]
  },
  {
   "cell_type": "markdown",
   "metadata": {},
   "source": [
    "---"
   ]
  },
  {
   "cell_type": "markdown",
   "metadata": {},
   "source": [
    "### Part III: Feature Processing & Engineering"
   ]
  },
  {
   "cell_type": "code",
   "execution_count": 23,
   "metadata": {},
   "outputs": [
    {
     "data": {
      "text/html": [
       "<div>\n",
       "<style scoped>\n",
       "    .dataframe tbody tr th:only-of-type {\n",
       "        vertical-align: middle;\n",
       "    }\n",
       "\n",
       "    .dataframe tbody tr th {\n",
       "        vertical-align: top;\n",
       "    }\n",
       "\n",
       "    .dataframe thead th {\n",
       "        text-align: right;\n",
       "    }\n",
       "</style>\n",
       "<table border=\"1\" class=\"dataframe\">\n",
       "  <thead>\n",
       "    <tr style=\"text-align: right;\">\n",
       "      <th></th>\n",
       "      <th>MS SubClass</th>\n",
       "      <th>MS Zoning</th>\n",
       "      <th>Lot Frontage</th>\n",
       "      <th>Lot Area</th>\n",
       "      <th>Street</th>\n",
       "      <th>Lot Shape</th>\n",
       "      <th>Land Contour</th>\n",
       "      <th>Utilities</th>\n",
       "      <th>Lot Config</th>\n",
       "      <th>Land Slope</th>\n",
       "      <th>...</th>\n",
       "      <th>Open Porch SF</th>\n",
       "      <th>Enclosed Porch</th>\n",
       "      <th>3Ssn Porch</th>\n",
       "      <th>Screen Porch</th>\n",
       "      <th>Pool Area</th>\n",
       "      <th>Misc Val</th>\n",
       "      <th>Mo Sold</th>\n",
       "      <th>Yr Sold</th>\n",
       "      <th>Sale Type</th>\n",
       "      <th>SalePrice</th>\n",
       "    </tr>\n",
       "  </thead>\n",
       "  <tbody>\n",
       "    <tr>\n",
       "      <th>0</th>\n",
       "      <td>60</td>\n",
       "      <td>RL</td>\n",
       "      <td>68.0</td>\n",
       "      <td>13517</td>\n",
       "      <td>Pave</td>\n",
       "      <td>IR1</td>\n",
       "      <td>Lvl</td>\n",
       "      <td>AllPub</td>\n",
       "      <td>CulDSac</td>\n",
       "      <td>Gtl</td>\n",
       "      <td>...</td>\n",
       "      <td>44</td>\n",
       "      <td>0</td>\n",
       "      <td>0</td>\n",
       "      <td>0</td>\n",
       "      <td>0</td>\n",
       "      <td>0</td>\n",
       "      <td>3</td>\n",
       "      <td>2010</td>\n",
       "      <td>WD</td>\n",
       "      <td>130500</td>\n",
       "    </tr>\n",
       "    <tr>\n",
       "      <th>1</th>\n",
       "      <td>60</td>\n",
       "      <td>RL</td>\n",
       "      <td>43.0</td>\n",
       "      <td>11492</td>\n",
       "      <td>Pave</td>\n",
       "      <td>IR1</td>\n",
       "      <td>Lvl</td>\n",
       "      <td>AllPub</td>\n",
       "      <td>CulDSac</td>\n",
       "      <td>Gtl</td>\n",
       "      <td>...</td>\n",
       "      <td>74</td>\n",
       "      <td>0</td>\n",
       "      <td>0</td>\n",
       "      <td>0</td>\n",
       "      <td>0</td>\n",
       "      <td>0</td>\n",
       "      <td>4</td>\n",
       "      <td>2009</td>\n",
       "      <td>WD</td>\n",
       "      <td>220000</td>\n",
       "    </tr>\n",
       "    <tr>\n",
       "      <th>2</th>\n",
       "      <td>20</td>\n",
       "      <td>RL</td>\n",
       "      <td>68.0</td>\n",
       "      <td>7922</td>\n",
       "      <td>Pave</td>\n",
       "      <td>Reg</td>\n",
       "      <td>Lvl</td>\n",
       "      <td>AllPub</td>\n",
       "      <td>Inside</td>\n",
       "      <td>Gtl</td>\n",
       "      <td>...</td>\n",
       "      <td>52</td>\n",
       "      <td>0</td>\n",
       "      <td>0</td>\n",
       "      <td>0</td>\n",
       "      <td>0</td>\n",
       "      <td>0</td>\n",
       "      <td>1</td>\n",
       "      <td>2010</td>\n",
       "      <td>WD</td>\n",
       "      <td>109000</td>\n",
       "    </tr>\n",
       "    <tr>\n",
       "      <th>3</th>\n",
       "      <td>60</td>\n",
       "      <td>RL</td>\n",
       "      <td>73.0</td>\n",
       "      <td>9802</td>\n",
       "      <td>Pave</td>\n",
       "      <td>Reg</td>\n",
       "      <td>Lvl</td>\n",
       "      <td>AllPub</td>\n",
       "      <td>Inside</td>\n",
       "      <td>Gtl</td>\n",
       "      <td>...</td>\n",
       "      <td>0</td>\n",
       "      <td>0</td>\n",
       "      <td>0</td>\n",
       "      <td>0</td>\n",
       "      <td>0</td>\n",
       "      <td>0</td>\n",
       "      <td>4</td>\n",
       "      <td>2010</td>\n",
       "      <td>WD</td>\n",
       "      <td>174000</td>\n",
       "    </tr>\n",
       "    <tr>\n",
       "      <th>4</th>\n",
       "      <td>50</td>\n",
       "      <td>RL</td>\n",
       "      <td>82.0</td>\n",
       "      <td>14235</td>\n",
       "      <td>Pave</td>\n",
       "      <td>IR1</td>\n",
       "      <td>Lvl</td>\n",
       "      <td>AllPub</td>\n",
       "      <td>Inside</td>\n",
       "      <td>Gtl</td>\n",
       "      <td>...</td>\n",
       "      <td>59</td>\n",
       "      <td>0</td>\n",
       "      <td>0</td>\n",
       "      <td>0</td>\n",
       "      <td>0</td>\n",
       "      <td>0</td>\n",
       "      <td>3</td>\n",
       "      <td>2010</td>\n",
       "      <td>WD</td>\n",
       "      <td>138500</td>\n",
       "    </tr>\n",
       "  </tbody>\n",
       "</table>\n",
       "<p>5 rows × 74 columns</p>\n",
       "</div>"
      ],
      "text/plain": [
       "   MS SubClass MS Zoning  Lot Frontage  Lot Area Street Lot Shape  \\\n",
       "0           60        RL          68.0     13517   Pave       IR1   \n",
       "1           60        RL          43.0     11492   Pave       IR1   \n",
       "2           20        RL          68.0      7922   Pave       Reg   \n",
       "3           60        RL          73.0      9802   Pave       Reg   \n",
       "4           50        RL          82.0     14235   Pave       IR1   \n",
       "\n",
       "  Land Contour Utilities Lot Config Land Slope  ... Open Porch SF  \\\n",
       "0          Lvl    AllPub    CulDSac        Gtl  ...            44   \n",
       "1          Lvl    AllPub    CulDSac        Gtl  ...            74   \n",
       "2          Lvl    AllPub     Inside        Gtl  ...            52   \n",
       "3          Lvl    AllPub     Inside        Gtl  ...             0   \n",
       "4          Lvl    AllPub     Inside        Gtl  ...            59   \n",
       "\n",
       "  Enclosed Porch 3Ssn Porch Screen Porch Pool Area  Misc Val  Mo Sold  \\\n",
       "0              0          0            0         0         0        3   \n",
       "1              0          0            0         0         0        4   \n",
       "2              0          0            0         0         0        1   \n",
       "3              0          0            0         0         0        4   \n",
       "4              0          0            0         0         0        3   \n",
       "\n",
       "   Yr Sold  Sale Type SalePrice  \n",
       "0     2010        WD     130500  \n",
       "1     2009        WD     220000  \n",
       "2     2010        WD     109000  \n",
       "3     2010        WD     174000  \n",
       "4     2010        WD     138500  \n",
       "\n",
       "[5 rows x 74 columns]"
      ]
     },
     "execution_count": 23,
     "metadata": {},
     "output_type": "execute_result"
    }
   ],
   "source": [
    "df_train.head()"
   ]
  },
  {
   "cell_type": "code",
   "execution_count": 24,
   "metadata": {},
   "outputs": [],
   "source": [
    "# Since several changes have been made, I'll recall which variables are numerical vs. categorical\n",
    "numerical = list(df_train.select_dtypes(exclude = 'object').columns)\n",
    "categorical = list(df_train.select_dtypes(include = 'object').columns)\n",
    "\n",
    "numerical_test = list(df_test.select_dtypes(exclude = 'object').columns)\n",
    "categorical_test = list(df_test.select_dtypes(include = 'object').columns)"
   ]
  },
  {
   "cell_type": "markdown",
   "metadata": {},
   "source": [
    "Before continuing, I will process some of the numerical columns first, and then move to the categorical columns."
   ]
  },
  {
   "cell_type": "markdown",
   "metadata": {},
   "source": [
    "#### Numerical"
   ]
  },
  {
   "cell_type": "code",
   "execution_count": 25,
   "metadata": {},
   "outputs": [
    {
     "data": {
      "text/html": [
       "<div>\n",
       "<style scoped>\n",
       "    .dataframe tbody tr th:only-of-type {\n",
       "        vertical-align: middle;\n",
       "    }\n",
       "\n",
       "    .dataframe tbody tr th {\n",
       "        vertical-align: top;\n",
       "    }\n",
       "\n",
       "    .dataframe thead th {\n",
       "        text-align: right;\n",
       "    }\n",
       "</style>\n",
       "<table border=\"1\" class=\"dataframe\">\n",
       "  <thead>\n",
       "    <tr style=\"text-align: right;\">\n",
       "      <th></th>\n",
       "      <th>MS SubClass</th>\n",
       "      <th>Lot Frontage</th>\n",
       "      <th>Lot Area</th>\n",
       "      <th>Overall Qual</th>\n",
       "      <th>Overall Cond</th>\n",
       "      <th>Year Built</th>\n",
       "      <th>Year Remod/Add</th>\n",
       "      <th>Mas Vnr Area</th>\n",
       "      <th>BsmtFin SF 1</th>\n",
       "      <th>BsmtFin SF 2</th>\n",
       "    </tr>\n",
       "  </thead>\n",
       "  <tbody>\n",
       "    <tr>\n",
       "      <th>0</th>\n",
       "      <td>60</td>\n",
       "      <td>68.0</td>\n",
       "      <td>13517</td>\n",
       "      <td>6</td>\n",
       "      <td>8</td>\n",
       "      <td>1976</td>\n",
       "      <td>2005</td>\n",
       "      <td>289.0</td>\n",
       "      <td>533.0</td>\n",
       "      <td>0.0</td>\n",
       "    </tr>\n",
       "    <tr>\n",
       "      <th>1</th>\n",
       "      <td>60</td>\n",
       "      <td>43.0</td>\n",
       "      <td>11492</td>\n",
       "      <td>7</td>\n",
       "      <td>5</td>\n",
       "      <td>1996</td>\n",
       "      <td>1997</td>\n",
       "      <td>132.0</td>\n",
       "      <td>637.0</td>\n",
       "      <td>0.0</td>\n",
       "    </tr>\n",
       "    <tr>\n",
       "      <th>2</th>\n",
       "      <td>20</td>\n",
       "      <td>68.0</td>\n",
       "      <td>7922</td>\n",
       "      <td>5</td>\n",
       "      <td>7</td>\n",
       "      <td>1953</td>\n",
       "      <td>2007</td>\n",
       "      <td>0.0</td>\n",
       "      <td>731.0</td>\n",
       "      <td>0.0</td>\n",
       "    </tr>\n",
       "    <tr>\n",
       "      <th>3</th>\n",
       "      <td>60</td>\n",
       "      <td>73.0</td>\n",
       "      <td>9802</td>\n",
       "      <td>5</td>\n",
       "      <td>5</td>\n",
       "      <td>2006</td>\n",
       "      <td>2007</td>\n",
       "      <td>0.0</td>\n",
       "      <td>0.0</td>\n",
       "      <td>0.0</td>\n",
       "    </tr>\n",
       "    <tr>\n",
       "      <th>4</th>\n",
       "      <td>50</td>\n",
       "      <td>82.0</td>\n",
       "      <td>14235</td>\n",
       "      <td>6</td>\n",
       "      <td>8</td>\n",
       "      <td>1900</td>\n",
       "      <td>1993</td>\n",
       "      <td>0.0</td>\n",
       "      <td>0.0</td>\n",
       "      <td>0.0</td>\n",
       "    </tr>\n",
       "  </tbody>\n",
       "</table>\n",
       "</div>"
      ],
      "text/plain": [
       "   MS SubClass  Lot Frontage  Lot Area  Overall Qual  Overall Cond  \\\n",
       "0           60          68.0     13517             6             8   \n",
       "1           60          43.0     11492             7             5   \n",
       "2           20          68.0      7922             5             7   \n",
       "3           60          73.0      9802             5             5   \n",
       "4           50          82.0     14235             6             8   \n",
       "\n",
       "   Year Built  Year Remod/Add  Mas Vnr Area  BsmtFin SF 1  BsmtFin SF 2  \n",
       "0        1976            2005         289.0         533.0           0.0  \n",
       "1        1996            1997         132.0         637.0           0.0  \n",
       "2        1953            2007           0.0         731.0           0.0  \n",
       "3        2006            2007           0.0           0.0           0.0  \n",
       "4        1900            1993           0.0           0.0           0.0  "
      ]
     },
     "execution_count": 25,
     "metadata": {},
     "output_type": "execute_result"
    }
   ],
   "source": [
    "df_train[numerical].iloc[:5,:10]"
   ]
  },
  {
   "cell_type": "code",
   "execution_count": 26,
   "metadata": {},
   "outputs": [
    {
     "data": {
      "text/plain": [
       "0      190\n",
       "1       90\n",
       "2       60\n",
       "3       30\n",
       "4       20\n",
       "      ... \n",
       "873     60\n",
       "874     60\n",
       "875     20\n",
       "876     20\n",
       "877     20\n",
       "Name: MS SubClass, Length: 878, dtype: object"
      ]
     },
     "execution_count": 26,
     "metadata": {},
     "output_type": "execute_result"
    }
   ],
   "source": [
    "# MS SubClass should be an 'object' instead\n",
    "df_train['MS SubClass'].astype(object)\n",
    "\n",
    "df_test['MS SubClass'].astype(object)"
   ]
  },
  {
   "cell_type": "code",
   "execution_count": 27,
   "metadata": {},
   "outputs": [],
   "source": [
    "# making 'age' variables using year columns --> dataset collected in 2011, using 2011 as base\n",
    "df_train['age'] = 2011 - df_train['Year Built']\n",
    "df_train['sold_age'] = 2011 - df_train['Yr Sold']\n",
    "df_train['remodel_age'] = 2011 - df_train['Year Remod/Add']\n",
    "df_train['garage_age'] = 2011 - df_train['Garage Yr Blt']\n",
    "\n",
    "\n",
    "# test\n",
    "df_test['age'] = 2011 - df_test['Year Built']\n",
    "df_test['sold_age'] = 2011 - df_test['Yr Sold']\n",
    "df_test['remodel_age'] = 2011 - df_test['Year Remod/Add']\n",
    "df_test['garage_age'] = 2011 - df_test['Garage Yr Blt']"
   ]
  },
  {
   "cell_type": "code",
   "execution_count": 28,
   "metadata": {},
   "outputs": [],
   "source": [
    "# now, dropping the year columns\n",
    "df_train.drop(columns = ['Year Built'], inplace = True)\n",
    "df_train.drop(columns = ['Yr Sold'], inplace = True)\n",
    "df_train.drop(columns = ['Year Remod/Add'], inplace = True)\n",
    "df_train.drop(columns = ['Garage Yr Blt'], inplace = True)\n",
    "\n",
    "\n",
    "# test\n",
    "df_test.drop(columns = ['Year Built'], inplace = True)\n",
    "df_test.drop(columns = ['Yr Sold'], inplace = True)\n",
    "df_test.drop(columns = ['Year Remod/Add'], inplace = True)\n",
    "df_test.drop(columns = ['Garage Yr Blt'], inplace = True)"
   ]
  },
  {
   "cell_type": "code",
   "execution_count": 29,
   "metadata": {},
   "outputs": [],
   "source": [
    "# redefining numerical\n",
    "numerical = list(df_train.select_dtypes(exclude = 'object').columns)\n",
    "\n",
    "numerical_test = list(df_test.select_dtypes(exclude = 'object').columns)"
   ]
  },
  {
   "cell_type": "code",
   "execution_count": 30,
   "metadata": {},
   "outputs": [
    {
     "data": {
      "text/html": [
       "<div>\n",
       "<style scoped>\n",
       "    .dataframe tbody tr th:only-of-type {\n",
       "        vertical-align: middle;\n",
       "    }\n",
       "\n",
       "    .dataframe tbody tr th {\n",
       "        vertical-align: top;\n",
       "    }\n",
       "\n",
       "    .dataframe thead th {\n",
       "        text-align: right;\n",
       "    }\n",
       "</style>\n",
       "<table border=\"1\" class=\"dataframe\">\n",
       "  <thead>\n",
       "    <tr style=\"text-align: right;\">\n",
       "      <th></th>\n",
       "      <th>Misc Val</th>\n",
       "      <th>Mo Sold</th>\n",
       "      <th>SalePrice</th>\n",
       "      <th>age</th>\n",
       "      <th>sold_age</th>\n",
       "      <th>remodel_age</th>\n",
       "      <th>garage_age</th>\n",
       "    </tr>\n",
       "  </thead>\n",
       "  <tbody>\n",
       "    <tr>\n",
       "      <th>0</th>\n",
       "      <td>0</td>\n",
       "      <td>3</td>\n",
       "      <td>130500</td>\n",
       "      <td>35</td>\n",
       "      <td>1</td>\n",
       "      <td>6</td>\n",
       "      <td>35.0</td>\n",
       "    </tr>\n",
       "    <tr>\n",
       "      <th>1</th>\n",
       "      <td>0</td>\n",
       "      <td>4</td>\n",
       "      <td>220000</td>\n",
       "      <td>15</td>\n",
       "      <td>2</td>\n",
       "      <td>14</td>\n",
       "      <td>14.0</td>\n",
       "    </tr>\n",
       "    <tr>\n",
       "      <th>2</th>\n",
       "      <td>0</td>\n",
       "      <td>1</td>\n",
       "      <td>109000</td>\n",
       "      <td>58</td>\n",
       "      <td>1</td>\n",
       "      <td>4</td>\n",
       "      <td>58.0</td>\n",
       "    </tr>\n",
       "    <tr>\n",
       "      <th>3</th>\n",
       "      <td>0</td>\n",
       "      <td>4</td>\n",
       "      <td>174000</td>\n",
       "      <td>5</td>\n",
       "      <td>1</td>\n",
       "      <td>4</td>\n",
       "      <td>4.0</td>\n",
       "    </tr>\n",
       "    <tr>\n",
       "      <th>4</th>\n",
       "      <td>0</td>\n",
       "      <td>3</td>\n",
       "      <td>138500</td>\n",
       "      <td>111</td>\n",
       "      <td>1</td>\n",
       "      <td>18</td>\n",
       "      <td>54.0</td>\n",
       "    </tr>\n",
       "  </tbody>\n",
       "</table>\n",
       "</div>"
      ],
      "text/plain": [
       "   Misc Val  Mo Sold  SalePrice  age  sold_age  remodel_age  garage_age\n",
       "0         0        3     130500   35         1            6        35.0\n",
       "1         0        4     220000   15         2           14        14.0\n",
       "2         0        1     109000   58         1            4        58.0\n",
       "3         0        4     174000    5         1            4         4.0\n",
       "4         0        3     138500  111         1           18        54.0"
      ]
     },
     "execution_count": 30,
     "metadata": {},
     "output_type": "execute_result"
    }
   ],
   "source": [
    "df_train[numerical].iloc[:5, 30:]"
   ]
  },
  {
   "cell_type": "code",
   "execution_count": 31,
   "metadata": {},
   "outputs": [],
   "source": [
    "# Creating Binary Variables for certain home features\n",
    "# 1 = yes, 0 = no\n",
    "\n",
    "# Basement? \n",
    "df_train['basement_binary'] = [1 if i > 0 else 0 for i in df_train['Total Bsmt SF'].values]\n",
    "df_test['basement_binary'] = [1 if i > 0 else 0 for i in df_test['Total Bsmt SF'].values]\n",
    "\n",
    "\n",
    "# Fireplace?\n",
    "df_train['fireplace_binary'] = [1 if i > 0 else 0 for i in df_train['Fireplaces'].values]\n",
    "df_test['fireplace_binary'] = [1 if i > 0 else 0 for i in df_test['Fireplaces'].values]\n",
    "\n",
    "\n",
    "# Garage?\n",
    "df_train['garage_binary'] = [1 if i > 0 else 0 for i in df_train['Garage Area'].values]\n",
    "df_test['garage_binary'] = [1 if i > 0 else 0 for i in df_test['Garage Area'].values]\n",
    "\n",
    "\n",
    "# Wood Deck?\n",
    "df_train['wooddeck_binary'] = [1 if i > 0 else 0 for i in df_train['Wood Deck SF'].values]\n",
    "df_test['wooddeck_binary'] = [1 if i > 0 else 0 for i in df_test['Wood Deck SF'].values]\n",
    "\n",
    "\n",
    "# TOTAL PORCH SQ_FT\n",
    "df_train['total_porch_sqft'] = df_train['Open Porch SF'] + df_train['Enclosed Porch'] + df_train['3Ssn Porch'] + df_train['Screen Porch']\n",
    "df_test['total_porch_sqft'] = df_test['Open Porch SF'] + df_test['Enclosed Porch'] + df_test['3Ssn Porch'] + df_test['Screen Porch']\n",
    "\n",
    "\n",
    "# Has porch? (any porch at all?)\n",
    "df_train['porch_binary'] = [1 if i > 0 else 0 for i in df_train['total_porch_sqft'].values]\n",
    "df_test['porch_binary'] = [1 if i > 0 else 0 for i in df_test['total_porch_sqft'].values]\n",
    "\n",
    "\n",
    "# Pool?\n",
    "df_train['pool_binary'] = [1 if i > 0 else 0 for i in df_train['Pool Area'].values]\n",
    "df_test['pool_binary'] = [1 if i > 0 else 0 for i in df_test['Pool Area'].values]"
   ]
  },
  {
   "cell_type": "markdown",
   "metadata": {},
   "source": [
    "I made the above 7 variables to get a better sense of whether these features are actually present in the home or not, instead of representing every bit by numbers or square footage."
   ]
  },
  {
   "cell_type": "code",
   "execution_count": 32,
   "metadata": {},
   "outputs": [],
   "source": [
    "# redefining numerical\n",
    "numerical = list(df_train.select_dtypes(exclude = 'object').columns)\n",
    "numerical_test = list(df_test.select_dtypes(exclude = 'object').columns)"
   ]
  },
  {
   "cell_type": "markdown",
   "metadata": {},
   "source": [
    "#### Categorical"
   ]
  },
  {
   "cell_type": "code",
   "execution_count": 33,
   "metadata": {},
   "outputs": [
    {
     "data": {
      "text/html": [
       "<div>\n",
       "<style scoped>\n",
       "    .dataframe tbody tr th:only-of-type {\n",
       "        vertical-align: middle;\n",
       "    }\n",
       "\n",
       "    .dataframe tbody tr th {\n",
       "        vertical-align: top;\n",
       "    }\n",
       "\n",
       "    .dataframe thead th {\n",
       "        text-align: right;\n",
       "    }\n",
       "</style>\n",
       "<table border=\"1\" class=\"dataframe\">\n",
       "  <thead>\n",
       "    <tr style=\"text-align: right;\">\n",
       "      <th></th>\n",
       "      <th>Functional</th>\n",
       "      <th>Garage Type</th>\n",
       "      <th>Garage Finish</th>\n",
       "      <th>Garage Qual</th>\n",
       "      <th>Garage Cond</th>\n",
       "      <th>Paved Drive</th>\n",
       "      <th>Sale Type</th>\n",
       "    </tr>\n",
       "  </thead>\n",
       "  <tbody>\n",
       "    <tr>\n",
       "      <th>0</th>\n",
       "      <td>Typ</td>\n",
       "      <td>Attchd</td>\n",
       "      <td>RFn</td>\n",
       "      <td>TA</td>\n",
       "      <td>TA</td>\n",
       "      <td>Y</td>\n",
       "      <td>WD</td>\n",
       "    </tr>\n",
       "    <tr>\n",
       "      <th>1</th>\n",
       "      <td>Typ</td>\n",
       "      <td>Attchd</td>\n",
       "      <td>RFn</td>\n",
       "      <td>TA</td>\n",
       "      <td>TA</td>\n",
       "      <td>Y</td>\n",
       "      <td>WD</td>\n",
       "    </tr>\n",
       "    <tr>\n",
       "      <th>2</th>\n",
       "      <td>Typ</td>\n",
       "      <td>Detchd</td>\n",
       "      <td>Unf</td>\n",
       "      <td>TA</td>\n",
       "      <td>TA</td>\n",
       "      <td>Y</td>\n",
       "      <td>WD</td>\n",
       "    </tr>\n",
       "    <tr>\n",
       "      <th>3</th>\n",
       "      <td>Typ</td>\n",
       "      <td>BuiltIn</td>\n",
       "      <td>Fin</td>\n",
       "      <td>TA</td>\n",
       "      <td>TA</td>\n",
       "      <td>Y</td>\n",
       "      <td>WD</td>\n",
       "    </tr>\n",
       "    <tr>\n",
       "      <th>4</th>\n",
       "      <td>Typ</td>\n",
       "      <td>Detchd</td>\n",
       "      <td>Unf</td>\n",
       "      <td>TA</td>\n",
       "      <td>TA</td>\n",
       "      <td>N</td>\n",
       "      <td>WD</td>\n",
       "    </tr>\n",
       "  </tbody>\n",
       "</table>\n",
       "</div>"
      ],
      "text/plain": [
       "  Functional Garage Type Garage Finish Garage Qual Garage Cond Paved Drive  \\\n",
       "0        Typ      Attchd           RFn          TA          TA           Y   \n",
       "1        Typ      Attchd           RFn          TA          TA           Y   \n",
       "2        Typ      Detchd           Unf          TA          TA           Y   \n",
       "3        Typ     BuiltIn           Fin          TA          TA           Y   \n",
       "4        Typ      Detchd           Unf          TA          TA           N   \n",
       "\n",
       "  Sale Type  \n",
       "0       WD   \n",
       "1       WD   \n",
       "2       WD   \n",
       "3       WD   \n",
       "4       WD   "
      ]
     },
     "execution_count": 33,
     "metadata": {},
     "output_type": "execute_result"
    }
   ],
   "source": [
    "# go through the columns and observe (alter col index)\n",
    "df_train[categorical].iloc[:5, 30:]"
   ]
  },
  {
   "cell_type": "code",
   "execution_count": 34,
   "metadata": {},
   "outputs": [],
   "source": [
    "# binarize Central Air to 1 or 0 --> indicate whether house has central air\n",
    "df_train['Central Air'].replace({'Y': 1, 'N': 0}, inplace = True)\n",
    "\n",
    "df_test['Central Air'].replace({'Y': 1, 'N': 0}, inplace = True)"
   ]
  },
  {
   "cell_type": "code",
   "execution_count": 35,
   "metadata": {},
   "outputs": [],
   "source": [
    "# binarize Paved Drive to 1 or 0\n",
    "df_train['Paved Drive'].replace({'Y' : 1, 'P' : 1, 'N' : 0}, inplace = True)\n",
    "\n",
    "df_test['Paved Drive'].replace({'Y' : 1, 'P' : 1, 'N' : 0}, inplace = True)"
   ]
  },
  {
   "cell_type": "code",
   "execution_count": 36,
   "metadata": {},
   "outputs": [],
   "source": [
    "# renaming\n",
    "df_train.rename(columns = {'Central Air' : 'air_binary', 'Paved Drive' : 'paved_binary'}, inplace = True)\n",
    "\n",
    "df_test.rename(columns = {'Central Air' : 'air_binary', 'Paved Drive' : 'paved_binary'}, inplace = True)"
   ]
  },
  {
   "cell_type": "code",
   "execution_count": 37,
   "metadata": {},
   "outputs": [],
   "source": [
    "# redefining categorical\n",
    "categorical = list(df_train.select_dtypes(include = 'object').columns)\n",
    "\n",
    "categorical_test = list(df_test.select_dtypes(include = 'object').columns)"
   ]
  },
  {
   "cell_type": "markdown",
   "metadata": {},
   "source": [
    "Binarizing the couple variables above would have made 2 new numerical vars. I will now redefine categorical, just to keep the list updated (like I did with numerical)."
   ]
  },
  {
   "cell_type": "code",
   "execution_count": 38,
   "metadata": {},
   "outputs": [
    {
     "data": {
      "text/plain": [
       "((2051, 81), (878, 80))"
      ]
     },
     "execution_count": 38,
     "metadata": {},
     "output_type": "execute_result"
    }
   ],
   "source": [
    "# new df_train/test dimensions\n",
    "df_train.shape, df_test.shape"
   ]
  },
  {
   "cell_type": "markdown",
   "metadata": {},
   "source": [
    "### OneHotEncoding & Transforming\n",
    "Now, we need to use OneHotEncoder to make dummies and ensure that they will be present in both df_train **and** df_test. <br>\n",
    "Note: We will only use this on our categorical columns using 'categorical' and 'categorical_test' lists we made above."
   ]
  },
  {
   "cell_type": "code",
   "execution_count": 39,
   "metadata": {},
   "outputs": [],
   "source": [
    "# instantiate ohe\n",
    "ohe = OneHotEncoder(drop = 'first', \n",
    "                   handle_unknown = 'ignore',\n",
    "                   sparse_output = False)"
   ]
  },
  {
   "cell_type": "code",
   "execution_count": 40,
   "metadata": {},
   "outputs": [],
   "source": [
    "# now instantiate ColumnTransformer (this will allow us to CHOOSE which columns to dummify using our categorical lists)\n",
    "ctx = ColumnTransformer(\n",
    "    transformers = [ # list of tuples\n",
    "        #('alias first', instandiated_transformer, list_of_cols_to_apply)\n",
    "        ('one_hot', ohe, categorical) # categorical list we defined\n",
    "    ], remainder = 'passthrough', # don't drop other features\n",
    "    verbose_feature_names_out = False\n",
    ")"
   ]
  },
  {
   "cell_type": "code",
   "execution_count": 41,
   "metadata": {},
   "outputs": [
    {
     "data": {
      "text/html": [
       "<style>#sk-container-id-1 {color: black;background-color: white;}#sk-container-id-1 pre{padding: 0;}#sk-container-id-1 div.sk-toggleable {background-color: white;}#sk-container-id-1 label.sk-toggleable__label {cursor: pointer;display: block;width: 100%;margin-bottom: 0;padding: 0.3em;box-sizing: border-box;text-align: center;}#sk-container-id-1 label.sk-toggleable__label-arrow:before {content: \"▸\";float: left;margin-right: 0.25em;color: #696969;}#sk-container-id-1 label.sk-toggleable__label-arrow:hover:before {color: black;}#sk-container-id-1 div.sk-estimator:hover label.sk-toggleable__label-arrow:before {color: black;}#sk-container-id-1 div.sk-toggleable__content {max-height: 0;max-width: 0;overflow: hidden;text-align: left;background-color: #f0f8ff;}#sk-container-id-1 div.sk-toggleable__content pre {margin: 0.2em;color: black;border-radius: 0.25em;background-color: #f0f8ff;}#sk-container-id-1 input.sk-toggleable__control:checked~div.sk-toggleable__content {max-height: 200px;max-width: 100%;overflow: auto;}#sk-container-id-1 input.sk-toggleable__control:checked~label.sk-toggleable__label-arrow:before {content: \"▾\";}#sk-container-id-1 div.sk-estimator input.sk-toggleable__control:checked~label.sk-toggleable__label {background-color: #d4ebff;}#sk-container-id-1 div.sk-label input.sk-toggleable__control:checked~label.sk-toggleable__label {background-color: #d4ebff;}#sk-container-id-1 input.sk-hidden--visually {border: 0;clip: rect(1px 1px 1px 1px);clip: rect(1px, 1px, 1px, 1px);height: 1px;margin: -1px;overflow: hidden;padding: 0;position: absolute;width: 1px;}#sk-container-id-1 div.sk-estimator {font-family: monospace;background-color: #f0f8ff;border: 1px dotted black;border-radius: 0.25em;box-sizing: border-box;margin-bottom: 0.5em;}#sk-container-id-1 div.sk-estimator:hover {background-color: #d4ebff;}#sk-container-id-1 div.sk-parallel-item::after {content: \"\";width: 100%;border-bottom: 1px solid gray;flex-grow: 1;}#sk-container-id-1 div.sk-label:hover label.sk-toggleable__label {background-color: #d4ebff;}#sk-container-id-1 div.sk-serial::before {content: \"\";position: absolute;border-left: 1px solid gray;box-sizing: border-box;top: 0;bottom: 0;left: 50%;z-index: 0;}#sk-container-id-1 div.sk-serial {display: flex;flex-direction: column;align-items: center;background-color: white;padding-right: 0.2em;padding-left: 0.2em;position: relative;}#sk-container-id-1 div.sk-item {position: relative;z-index: 1;}#sk-container-id-1 div.sk-parallel {display: flex;align-items: stretch;justify-content: center;background-color: white;position: relative;}#sk-container-id-1 div.sk-item::before, #sk-container-id-1 div.sk-parallel-item::before {content: \"\";position: absolute;border-left: 1px solid gray;box-sizing: border-box;top: 0;bottom: 0;left: 50%;z-index: -1;}#sk-container-id-1 div.sk-parallel-item {display: flex;flex-direction: column;z-index: 1;position: relative;background-color: white;}#sk-container-id-1 div.sk-parallel-item:first-child::after {align-self: flex-end;width: 50%;}#sk-container-id-1 div.sk-parallel-item:last-child::after {align-self: flex-start;width: 50%;}#sk-container-id-1 div.sk-parallel-item:only-child::after {width: 0;}#sk-container-id-1 div.sk-dashed-wrapped {border: 1px dashed gray;margin: 0 0.4em 0.5em 0.4em;box-sizing: border-box;padding-bottom: 0.4em;background-color: white;}#sk-container-id-1 div.sk-label label {font-family: monospace;font-weight: bold;display: inline-block;line-height: 1.2em;}#sk-container-id-1 div.sk-label-container {text-align: center;}#sk-container-id-1 div.sk-container {/* jupyter's `normalize.less` sets `[hidden] { display: none; }` but bootstrap.min.css set `[hidden] { display: none !important; }` so we also need the `!important` here to be able to override the default hidden behavior on the sphinx rendered scikit-learn.org. See: https://github.com/scikit-learn/scikit-learn/issues/21755 */display: inline-block !important;position: relative;}#sk-container-id-1 div.sk-text-repr-fallback {display: none;}</style><div id=\"sk-container-id-1\" class=\"sk-top-container\"><div class=\"sk-text-repr-fallback\"><pre>ColumnTransformer(remainder=&#x27;passthrough&#x27;,\n",
       "                  transformers=[(&#x27;one_hot&#x27;,\n",
       "                                 OneHotEncoder(drop=&#x27;first&#x27;,\n",
       "                                               handle_unknown=&#x27;ignore&#x27;,\n",
       "                                               sparse_output=False),\n",
       "                                 [&#x27;MS Zoning&#x27;, &#x27;Street&#x27;, &#x27;Lot Shape&#x27;,\n",
       "                                  &#x27;Land Contour&#x27;, &#x27;Utilities&#x27;, &#x27;Lot Config&#x27;,\n",
       "                                  &#x27;Land Slope&#x27;, &#x27;Neighborhood&#x27;, &#x27;Condition 1&#x27;,\n",
       "                                  &#x27;Condition 2&#x27;, &#x27;Bldg Type&#x27;, &#x27;House Style&#x27;,\n",
       "                                  &#x27;Roof Style&#x27;, &#x27;Roof Matl&#x27;, &#x27;Exterior 1st&#x27;,\n",
       "                                  &#x27;Exterior 2nd&#x27;, &#x27;Mas Vnr Type&#x27;, &#x27;Exter Qual&#x27;,\n",
       "                                  &#x27;Exter Cond&#x27;, &#x27;Foundation&#x27;, &#x27;Bsmt Qual&#x27;,\n",
       "                                  &#x27;Bsmt Cond&#x27;, &#x27;Bsmt Exposure&#x27;,\n",
       "                                  &#x27;BsmtFin Type 1&#x27;, &#x27;BsmtFin Type 2&#x27;, &#x27;Heating&#x27;,\n",
       "                                  &#x27;Heating QC&#x27;, &#x27;Electrical&#x27;, &#x27;Kitchen Qual&#x27;,\n",
       "                                  &#x27;Functional&#x27;, ...])],\n",
       "                  verbose_feature_names_out=False)</pre><b>In a Jupyter environment, please rerun this cell to show the HTML representation or trust the notebook. <br />On GitHub, the HTML representation is unable to render, please try loading this page with nbviewer.org.</b></div><div class=\"sk-container\" hidden><div class=\"sk-item sk-dashed-wrapped\"><div class=\"sk-label-container\"><div class=\"sk-label sk-toggleable\"><input class=\"sk-toggleable__control sk-hidden--visually\" id=\"sk-estimator-id-1\" type=\"checkbox\" ><label for=\"sk-estimator-id-1\" class=\"sk-toggleable__label sk-toggleable__label-arrow\">ColumnTransformer</label><div class=\"sk-toggleable__content\"><pre>ColumnTransformer(remainder=&#x27;passthrough&#x27;,\n",
       "                  transformers=[(&#x27;one_hot&#x27;,\n",
       "                                 OneHotEncoder(drop=&#x27;first&#x27;,\n",
       "                                               handle_unknown=&#x27;ignore&#x27;,\n",
       "                                               sparse_output=False),\n",
       "                                 [&#x27;MS Zoning&#x27;, &#x27;Street&#x27;, &#x27;Lot Shape&#x27;,\n",
       "                                  &#x27;Land Contour&#x27;, &#x27;Utilities&#x27;, &#x27;Lot Config&#x27;,\n",
       "                                  &#x27;Land Slope&#x27;, &#x27;Neighborhood&#x27;, &#x27;Condition 1&#x27;,\n",
       "                                  &#x27;Condition 2&#x27;, &#x27;Bldg Type&#x27;, &#x27;House Style&#x27;,\n",
       "                                  &#x27;Roof Style&#x27;, &#x27;Roof Matl&#x27;, &#x27;Exterior 1st&#x27;,\n",
       "                                  &#x27;Exterior 2nd&#x27;, &#x27;Mas Vnr Type&#x27;, &#x27;Exter Qual&#x27;,\n",
       "                                  &#x27;Exter Cond&#x27;, &#x27;Foundation&#x27;, &#x27;Bsmt Qual&#x27;,\n",
       "                                  &#x27;Bsmt Cond&#x27;, &#x27;Bsmt Exposure&#x27;,\n",
       "                                  &#x27;BsmtFin Type 1&#x27;, &#x27;BsmtFin Type 2&#x27;, &#x27;Heating&#x27;,\n",
       "                                  &#x27;Heating QC&#x27;, &#x27;Electrical&#x27;, &#x27;Kitchen Qual&#x27;,\n",
       "                                  &#x27;Functional&#x27;, ...])],\n",
       "                  verbose_feature_names_out=False)</pre></div></div></div><div class=\"sk-parallel\"><div class=\"sk-parallel-item\"><div class=\"sk-item\"><div class=\"sk-label-container\"><div class=\"sk-label sk-toggleable\"><input class=\"sk-toggleable__control sk-hidden--visually\" id=\"sk-estimator-id-2\" type=\"checkbox\" ><label for=\"sk-estimator-id-2\" class=\"sk-toggleable__label sk-toggleable__label-arrow\">one_hot</label><div class=\"sk-toggleable__content\"><pre>[&#x27;MS Zoning&#x27;, &#x27;Street&#x27;, &#x27;Lot Shape&#x27;, &#x27;Land Contour&#x27;, &#x27;Utilities&#x27;, &#x27;Lot Config&#x27;, &#x27;Land Slope&#x27;, &#x27;Neighborhood&#x27;, &#x27;Condition 1&#x27;, &#x27;Condition 2&#x27;, &#x27;Bldg Type&#x27;, &#x27;House Style&#x27;, &#x27;Roof Style&#x27;, &#x27;Roof Matl&#x27;, &#x27;Exterior 1st&#x27;, &#x27;Exterior 2nd&#x27;, &#x27;Mas Vnr Type&#x27;, &#x27;Exter Qual&#x27;, &#x27;Exter Cond&#x27;, &#x27;Foundation&#x27;, &#x27;Bsmt Qual&#x27;, &#x27;Bsmt Cond&#x27;, &#x27;Bsmt Exposure&#x27;, &#x27;BsmtFin Type 1&#x27;, &#x27;BsmtFin Type 2&#x27;, &#x27;Heating&#x27;, &#x27;Heating QC&#x27;, &#x27;Electrical&#x27;, &#x27;Kitchen Qual&#x27;, &#x27;Functional&#x27;, &#x27;Garage Type&#x27;, &#x27;Garage Finish&#x27;, &#x27;Garage Qual&#x27;, &#x27;Garage Cond&#x27;, &#x27;Sale Type&#x27;]</pre></div></div></div><div class=\"sk-serial\"><div class=\"sk-item\"><div class=\"sk-estimator sk-toggleable\"><input class=\"sk-toggleable__control sk-hidden--visually\" id=\"sk-estimator-id-3\" type=\"checkbox\" ><label for=\"sk-estimator-id-3\" class=\"sk-toggleable__label sk-toggleable__label-arrow\">OneHotEncoder</label><div class=\"sk-toggleable__content\"><pre>OneHotEncoder(drop=&#x27;first&#x27;, handle_unknown=&#x27;ignore&#x27;, sparse_output=False)</pre></div></div></div></div></div></div><div class=\"sk-parallel-item\"><div class=\"sk-item\"><div class=\"sk-label-container\"><div class=\"sk-label sk-toggleable\"><input class=\"sk-toggleable__control sk-hidden--visually\" id=\"sk-estimator-id-4\" type=\"checkbox\" ><label for=\"sk-estimator-id-4\" class=\"sk-toggleable__label sk-toggleable__label-arrow\">remainder</label><div class=\"sk-toggleable__content\"><pre>[&#x27;MS SubClass&#x27;, &#x27;Lot Frontage&#x27;, &#x27;Lot Area&#x27;, &#x27;Overall Qual&#x27;, &#x27;Overall Cond&#x27;, &#x27;Mas Vnr Area&#x27;, &#x27;BsmtFin SF 1&#x27;, &#x27;BsmtFin SF 2&#x27;, &#x27;Bsmt Unf SF&#x27;, &#x27;Total Bsmt SF&#x27;, &#x27;air_binary&#x27;, &#x27;1st Flr SF&#x27;, &#x27;2nd Flr SF&#x27;, &#x27;Low Qual Fin SF&#x27;, &#x27;Gr Liv Area&#x27;, &#x27;Bsmt Full Bath&#x27;, &#x27;Bsmt Half Bath&#x27;, &#x27;Full Bath&#x27;, &#x27;Half Bath&#x27;, &#x27;Bedroom AbvGr&#x27;, &#x27;Kitchen AbvGr&#x27;, &#x27;TotRms AbvGrd&#x27;, &#x27;Fireplaces&#x27;, &#x27;Garage Cars&#x27;, &#x27;Garage Area&#x27;, &#x27;paved_binary&#x27;, &#x27;Wood Deck SF&#x27;, &#x27;Open Porch SF&#x27;, &#x27;Enclosed Porch&#x27;, &#x27;3Ssn Porch&#x27;, &#x27;Screen Porch&#x27;, &#x27;Pool Area&#x27;, &#x27;Misc Val&#x27;, &#x27;Mo Sold&#x27;, &#x27;age&#x27;, &#x27;sold_age&#x27;, &#x27;remodel_age&#x27;, &#x27;garage_age&#x27;, &#x27;basement_binary&#x27;, &#x27;fireplace_binary&#x27;, &#x27;garage_binary&#x27;, &#x27;wooddeck_binary&#x27;, &#x27;total_porch_sqft&#x27;, &#x27;porch_binary&#x27;, &#x27;pool_binary&#x27;]</pre></div></div></div><div class=\"sk-serial\"><div class=\"sk-item\"><div class=\"sk-estimator sk-toggleable\"><input class=\"sk-toggleable__control sk-hidden--visually\" id=\"sk-estimator-id-5\" type=\"checkbox\" ><label for=\"sk-estimator-id-5\" class=\"sk-toggleable__label sk-toggleable__label-arrow\">passthrough</label><div class=\"sk-toggleable__content\"><pre>passthrough</pre></div></div></div></div></div></div></div></div></div></div>"
      ],
      "text/plain": [
       "ColumnTransformer(remainder='passthrough',\n",
       "                  transformers=[('one_hot',\n",
       "                                 OneHotEncoder(drop='first',\n",
       "                                               handle_unknown='ignore',\n",
       "                                               sparse_output=False),\n",
       "                                 ['MS Zoning', 'Street', 'Lot Shape',\n",
       "                                  'Land Contour', 'Utilities', 'Lot Config',\n",
       "                                  'Land Slope', 'Neighborhood', 'Condition 1',\n",
       "                                  'Condition 2', 'Bldg Type', 'House Style',\n",
       "                                  'Roof Style', 'Roof Matl', 'Exterior 1st',\n",
       "                                  'Exterior 2nd', 'Mas Vnr Type', 'Exter Qual',\n",
       "                                  'Exter Cond', 'Foundation', 'Bsmt Qual',\n",
       "                                  'Bsmt Cond', 'Bsmt Exposure',\n",
       "                                  'BsmtFin Type 1', 'BsmtFin Type 2', 'Heating',\n",
       "                                  'Heating QC', 'Electrical', 'Kitchen Qual',\n",
       "                                  'Functional', ...])],\n",
       "                  verbose_feature_names_out=False)"
      ]
     },
     "execution_count": 41,
     "metadata": {},
     "output_type": "execute_result"
    }
   ],
   "source": [
    "# fit to WHOLE training set\n",
    "ctx.fit(df_train.drop(columns = ['SalePrice']))"
   ]
  },
  {
   "cell_type": "code",
   "execution_count": 42,
   "metadata": {},
   "outputs": [
    {
     "name": "stderr",
     "output_type": "stream",
     "text": [
      "/opt/anaconda3/lib/python3.8/site-packages/sklearn/preprocessing/_encoders.py:202: UserWarning: Found unknown categories in columns [13, 14, 15, 16, 25, 27, 28, 34] during transform. These unknown categories will be encoded as all zeros\n",
      "  warnings.warn(\n"
     ]
    }
   ],
   "source": [
    "# now that the fitting is done, we can actually transform our df_train & df_test\n",
    "\n",
    "# transform train\n",
    "df_train_2 = ctx.transform(df_train)\n",
    "\n",
    "#transform test\n",
    "df_test_2 = ctx.transform(df_test)"
   ]
  },
  {
   "cell_type": "code",
   "execution_count": 43,
   "metadata": {},
   "outputs": [],
   "source": [
    "# Great, now we can recreate these into dataframes\n",
    "df_train_2 = pd.DataFrame(df_train_2,\n",
    "                          columns = ctx.get_feature_names_out())\n",
    "\n",
    "df_test_2 = pd.DataFrame(df_test_2,\n",
    "                         columns = ctx.get_feature_names_out())"
   ]
  },
  {
   "cell_type": "code",
   "execution_count": 44,
   "metadata": {},
   "outputs": [],
   "source": [
    "# add back on 'SalePrice' to our new encoded TRAINING dataframe\n",
    "df_train_2['SalePrice'] = df_train['SalePrice']"
   ]
  },
  {
   "cell_type": "code",
   "execution_count": 45,
   "metadata": {},
   "outputs": [
    {
     "name": "stdout",
     "output_type": "stream",
     "text": [
      "This is exactly what we expect to see: 'SalePrice'\n"
     ]
    }
   ],
   "source": [
    "# let's confirm, what's missing in test?\n",
    "for col in list(df_train_2.columns):\n",
    "    if col not in df_test_2:\n",
    "        print(f\"This is exactly what we expect to see: '{col}'\")"
   ]
  },
  {
   "cell_type": "code",
   "execution_count": 46,
   "metadata": {},
   "outputs": [
    {
     "name": "stdout",
     "output_type": "stream",
     "text": [
      "Encoded Training CSV DF: (2051, 239)\n",
      "Encoded Testing CSV DF: (878, 238)\n"
     ]
    }
   ],
   "source": [
    "# verifying the shape of both dataframes\n",
    "print(f\"Encoded Training CSV DF: {df_train_2.shape}\")\n",
    "print(f\"Encoded Testing CSV DF: {df_test_2.shape}\")"
   ]
  },
  {
   "cell_type": "markdown",
   "metadata": {},
   "source": [
    "Great, now we have a ton of variables/features to work with. I will now move on to EDA to mostly perform correlation analysis and choose the best features."
   ]
  },
  {
   "cell_type": "markdown",
   "metadata": {},
   "source": [
    "---\n",
    "\n",
    "### Part IV: Quick EDA & Feature Selection Set 1"
   ]
  },
  {
   "cell_type": "markdown",
   "metadata": {},
   "source": [
    "**sqrt(2051) = ~ 45, goal is to stay under 45 features**"
   ]
  },
  {
   "cell_type": "code",
   "execution_count": 47,
   "metadata": {},
   "outputs": [],
   "source": [
    "corrs = pd.DataFrame(df_train_2.corr()['SalePrice']).sort_values(by = 'SalePrice', ascending = False)"
   ]
  },
  {
   "cell_type": "code",
   "execution_count": 48,
   "metadata": {},
   "outputs": [
    {
     "data": {
      "text/html": [
       "<div>\n",
       "<style scoped>\n",
       "    .dataframe tbody tr th:only-of-type {\n",
       "        vertical-align: middle;\n",
       "    }\n",
       "\n",
       "    .dataframe tbody tr th {\n",
       "        vertical-align: top;\n",
       "    }\n",
       "\n",
       "    .dataframe thead th {\n",
       "        text-align: right;\n",
       "    }\n",
       "</style>\n",
       "<table border=\"1\" class=\"dataframe\">\n",
       "  <thead>\n",
       "    <tr style=\"text-align: right;\">\n",
       "      <th></th>\n",
       "      <th>SalePrice</th>\n",
       "    </tr>\n",
       "  </thead>\n",
       "  <tbody>\n",
       "    <tr>\n",
       "      <th>Overall Qual</th>\n",
       "      <td>0.800207</td>\n",
       "    </tr>\n",
       "    <tr>\n",
       "      <th>Gr Liv Area</th>\n",
       "      <td>0.697038</td>\n",
       "    </tr>\n",
       "    <tr>\n",
       "      <th>Garage Area</th>\n",
       "      <td>0.650246</td>\n",
       "    </tr>\n",
       "    <tr>\n",
       "      <th>Garage Cars</th>\n",
       "      <td>0.648197</td>\n",
       "    </tr>\n",
       "    <tr>\n",
       "      <th>Total Bsmt SF</th>\n",
       "      <td>0.628754</td>\n",
       "    </tr>\n",
       "    <tr>\n",
       "      <th>1st Flr SF</th>\n",
       "      <td>0.618486</td>\n",
       "    </tr>\n",
       "    <tr>\n",
       "      <th>Full Bath</th>\n",
       "      <td>0.537969</td>\n",
       "    </tr>\n",
       "    <tr>\n",
       "      <th>Foundation_PConc</th>\n",
       "      <td>0.529047</td>\n",
       "    </tr>\n",
       "    <tr>\n",
       "      <th>TotRms AbvGrd</th>\n",
       "      <td>0.504014</td>\n",
       "    </tr>\n",
       "    <tr>\n",
       "      <th>Mas Vnr Area</th>\n",
       "      <td>0.503579</td>\n",
       "    </tr>\n",
       "    <tr>\n",
       "      <th>Bsmt Qual_TA</th>\n",
       "      <td>-0.505320</td>\n",
       "    </tr>\n",
       "    <tr>\n",
       "      <th>garage_age</th>\n",
       "      <td>-0.516738</td>\n",
       "    </tr>\n",
       "    <tr>\n",
       "      <th>Garage Finish_Unf</th>\n",
       "      <td>-0.532545</td>\n",
       "    </tr>\n",
       "    <tr>\n",
       "      <th>Kitchen Qual_TA</th>\n",
       "      <td>-0.540860</td>\n",
       "    </tr>\n",
       "    <tr>\n",
       "      <th>remodel_age</th>\n",
       "      <td>-0.550370</td>\n",
       "    </tr>\n",
       "    <tr>\n",
       "      <th>age</th>\n",
       "      <td>-0.571849</td>\n",
       "    </tr>\n",
       "    <tr>\n",
       "      <th>Exter Qual_TA</th>\n",
       "      <td>-0.600362</td>\n",
       "    </tr>\n",
       "  </tbody>\n",
       "</table>\n",
       "</div>"
      ],
      "text/plain": [
       "                   SalePrice\n",
       "Overall Qual        0.800207\n",
       "Gr Liv Area         0.697038\n",
       "Garage Area         0.650246\n",
       "Garage Cars         0.648197\n",
       "Total Bsmt SF       0.628754\n",
       "1st Flr SF          0.618486\n",
       "Full Bath           0.537969\n",
       "Foundation_PConc    0.529047\n",
       "TotRms AbvGrd       0.504014\n",
       "Mas Vnr Area        0.503579\n",
       "Bsmt Qual_TA       -0.505320\n",
       "garage_age         -0.516738\n",
       "Garage Finish_Unf  -0.532545\n",
       "Kitchen Qual_TA    -0.540860\n",
       "remodel_age        -0.550370\n",
       "age                -0.571849\n",
       "Exter Qual_TA      -0.600362"
      ]
     },
     "execution_count": 48,
     "metadata": {},
     "output_type": "execute_result"
    }
   ],
   "source": [
    "# let's choose our first features by filtering abs(correlation) > 0.5\n",
    "corrs[(abs(corrs['SalePrice']) > 0.5) & (corrs.index != 'SalePrice')]"
   ]
  },
  {
   "cell_type": "code",
   "execution_count": 49,
   "metadata": {},
   "outputs": [
    {
     "data": {
      "image/png": "[encoded data removed]",
      "text/plain": [
       "<Figure size 576x720 with 2 Axes>"
      ]
     },
     "metadata": {
      "needs_background": "light"
     },
     "output_type": "display_data"
    }
   ],
   "source": [
    "# let's plot a heatmap of correlations and visually see any that are abs() > 0.5\n",
    "plt.figure(figsize = (8, 10))\n",
    "sns.heatmap(corrs[(abs(corrs['SalePrice']) > 0.5) & (corrs.index != 'SalePrice')], vmin = -1, vmax = 1, annot = True);"
   ]
  },
  {
   "cell_type": "code",
   "execution_count": 50,
   "metadata": {},
   "outputs": [],
   "source": [
    "# storing feature set 1 into a list\n",
    "features_1 = list(corrs[(abs(corrs['SalePrice']) > 0.5) & (corrs.index != 'SalePrice')].index)"
   ]
  },
  {
   "cell_type": "code",
   "execution_count": 51,
   "metadata": {},
   "outputs": [
    {
     "data": {
      "text/plain": [
       "['Overall Qual',\n",
       " 'Gr Liv Area',\n",
       " 'Garage Area',\n",
       " 'Garage Cars',\n",
       " 'Total Bsmt SF',\n",
       " '1st Flr SF',\n",
       " 'Full Bath',\n",
       " 'Foundation_PConc',\n",
       " 'TotRms AbvGrd',\n",
       " 'Mas Vnr Area',\n",
       " 'Bsmt Qual_TA',\n",
       " 'garage_age',\n",
       " 'Garage Finish_Unf',\n",
       " 'Kitchen Qual_TA',\n",
       " 'remodel_age',\n",
       " 'age',\n",
       " 'Exter Qual_TA']"
      ]
     },
     "execution_count": 51,
     "metadata": {},
     "output_type": "execute_result"
    }
   ],
   "source": [
    "# However, this feature set contains dummy variables, some of which are missing their complementary dummies\n",
    "# So, let's add them in as features\n",
    "features_1"
   ]
  },
  {
   "cell_type": "code",
   "execution_count": 52,
   "metadata": {},
   "outputs": [],
   "source": [
    "for i in list(df_train_2.columns): \n",
    "    if 'Foundation_' in i:\n",
    "        features_1.append(i)\n",
    "    elif 'Bsmt Qual_' in i:\n",
    "        features_1.append(i)\n",
    "    elif 'Garage Finish_' in i:\n",
    "        features_1.append(i)\n",
    "    elif 'Kitchen Qual_' in i:\n",
    "        features_1.append(i)\n",
    "    elif 'Exter Qual_' in i:\n",
    "        features_1.append(i)\n",
    "    else:\n",
    "        pass"
   ]
  },
  {
   "cell_type": "code",
   "execution_count": 53,
   "metadata": {},
   "outputs": [
    {
     "data": {
      "text/plain": [
       "['Overall Qual',\n",
       " 'Gr Liv Area',\n",
       " 'Garage Area',\n",
       " 'Garage Cars',\n",
       " 'Total Bsmt SF',\n",
       " '1st Flr SF',\n",
       " 'Full Bath',\n",
       " 'Foundation_PConc',\n",
       " 'TotRms AbvGrd',\n",
       " 'Mas Vnr Area',\n",
       " 'Bsmt Qual_TA',\n",
       " 'garage_age',\n",
       " 'Garage Finish_Unf',\n",
       " 'Kitchen Qual_TA',\n",
       " 'remodel_age',\n",
       " 'age',\n",
       " 'Exter Qual_TA',\n",
       " 'Exter Qual_Fa',\n",
       " 'Exter Qual_Gd',\n",
       " 'Exter Qual_TA',\n",
       " 'Foundation_CBlock',\n",
       " 'Foundation_PConc',\n",
       " 'Foundation_Slab',\n",
       " 'Foundation_Stone',\n",
       " 'Foundation_Wood',\n",
       " 'Bsmt Qual_Fa',\n",
       " 'Bsmt Qual_Gd',\n",
       " 'Bsmt Qual_Po',\n",
       " 'Bsmt Qual_TA',\n",
       " 'Kitchen Qual_Fa',\n",
       " 'Kitchen Qual_Gd',\n",
       " 'Kitchen Qual_TA',\n",
       " 'Garage Finish_RFn',\n",
       " 'Garage Finish_Unf']"
      ]
     },
     "execution_count": 53,
     "metadata": {},
     "output_type": "execute_result"
    }
   ],
   "source": [
    "# great, now we have a more full feature set #1\n",
    "features_1"
   ]
  },
  {
   "cell_type": "markdown",
   "metadata": {},
   "source": [
    "### Part V: Modeling & Evaluation"
   ]
  },
  {
   "cell_type": "markdown",
   "metadata": {},
   "source": [
    "#### Feature Set #1"
   ]
  },
  {
   "cell_type": "code",
   "execution_count": 54,
   "metadata": {},
   "outputs": [],
   "source": [
    "# Let's make X & y for this first round of performance testing\n",
    "X_set1 = df_train_2[features_1]\n",
    "y_set1 = df_train_2['SalePrice']"
   ]
  },
  {
   "cell_type": "code",
   "execution_count": 55,
   "metadata": {},
   "outputs": [],
   "source": [
    "# train/test splits\n",
    "X_set1_train, X_set1_test, y_set1_train, y_set1_test = train_test_split(X_set1, y_set1, test_size = 0.2, random_state = 42) # random_state for replicability"
   ]
  },
  {
   "cell_type": "code",
   "execution_count": 56,
   "metadata": {},
   "outputs": [],
   "source": [
    "# Scaling the data\n",
    "sc = StandardScaler()\n",
    "\n",
    "# fit_transform the X_set1_train\n",
    "Z_set1_train = sc.fit_transform(X_set1_train)\n",
    "\n",
    "# just transform X_set1_test\n",
    "Z_set1_test = sc.transform(X_set1_test)"
   ]
  },
  {
   "cell_type": "markdown",
   "metadata": {},
   "source": [
    "#### 1. Model 1 - MLR"
   ]
  },
  {
   "cell_type": "code",
   "execution_count": 57,
   "metadata": {},
   "outputs": [
    {
     "data": {
      "text/html": [
       "<style>#sk-container-id-2 {color: black;background-color: white;}#sk-container-id-2 pre{padding: 0;}#sk-container-id-2 div.sk-toggleable {background-color: white;}#sk-container-id-2 label.sk-toggleable__label {cursor: pointer;display: block;width: 100%;margin-bottom: 0;padding: 0.3em;box-sizing: border-box;text-align: center;}#sk-container-id-2 label.sk-toggleable__label-arrow:before {content: \"▸\";float: left;margin-right: 0.25em;color: #696969;}#sk-container-id-2 label.sk-toggleable__label-arrow:hover:before {color: black;}#sk-container-id-2 div.sk-estimator:hover label.sk-toggleable__label-arrow:before {color: black;}#sk-container-id-2 div.sk-toggleable__content {max-height: 0;max-width: 0;overflow: hidden;text-align: left;background-color: #f0f8ff;}#sk-container-id-2 div.sk-toggleable__content pre {margin: 0.2em;color: black;border-radius: 0.25em;background-color: #f0f8ff;}#sk-container-id-2 input.sk-toggleable__control:checked~div.sk-toggleable__content {max-height: 200px;max-width: 100%;overflow: auto;}#sk-container-id-2 input.sk-toggleable__control:checked~label.sk-toggleable__label-arrow:before {content: \"▾\";}#sk-container-id-2 div.sk-estimator input.sk-toggleable__control:checked~label.sk-toggleable__label {background-color: #d4ebff;}#sk-container-id-2 div.sk-label input.sk-toggleable__control:checked~label.sk-toggleable__label {background-color: #d4ebff;}#sk-container-id-2 input.sk-hidden--visually {border: 0;clip: rect(1px 1px 1px 1px);clip: rect(1px, 1px, 1px, 1px);height: 1px;margin: -1px;overflow: hidden;padding: 0;position: absolute;width: 1px;}#sk-container-id-2 div.sk-estimator {font-family: monospace;background-color: #f0f8ff;border: 1px dotted black;border-radius: 0.25em;box-sizing: border-box;margin-bottom: 0.5em;}#sk-container-id-2 div.sk-estimator:hover {background-color: #d4ebff;}#sk-container-id-2 div.sk-parallel-item::after {content: \"\";width: 100%;border-bottom: 1px solid gray;flex-grow: 1;}#sk-container-id-2 div.sk-label:hover label.sk-toggleable__label {background-color: #d4ebff;}#sk-container-id-2 div.sk-serial::before {content: \"\";position: absolute;border-left: 1px solid gray;box-sizing: border-box;top: 0;bottom: 0;left: 50%;z-index: 0;}#sk-container-id-2 div.sk-serial {display: flex;flex-direction: column;align-items: center;background-color: white;padding-right: 0.2em;padding-left: 0.2em;position: relative;}#sk-container-id-2 div.sk-item {position: relative;z-index: 1;}#sk-container-id-2 div.sk-parallel {display: flex;align-items: stretch;justify-content: center;background-color: white;position: relative;}#sk-container-id-2 div.sk-item::before, #sk-container-id-2 div.sk-parallel-item::before {content: \"\";position: absolute;border-left: 1px solid gray;box-sizing: border-box;top: 0;bottom: 0;left: 50%;z-index: -1;}#sk-container-id-2 div.sk-parallel-item {display: flex;flex-direction: column;z-index: 1;position: relative;background-color: white;}#sk-container-id-2 div.sk-parallel-item:first-child::after {align-self: flex-end;width: 50%;}#sk-container-id-2 div.sk-parallel-item:last-child::after {align-self: flex-start;width: 50%;}#sk-container-id-2 div.sk-parallel-item:only-child::after {width: 0;}#sk-container-id-2 div.sk-dashed-wrapped {border: 1px dashed gray;margin: 0 0.4em 0.5em 0.4em;box-sizing: border-box;padding-bottom: 0.4em;background-color: white;}#sk-container-id-2 div.sk-label label {font-family: monospace;font-weight: bold;display: inline-block;line-height: 1.2em;}#sk-container-id-2 div.sk-label-container {text-align: center;}#sk-container-id-2 div.sk-container {/* jupyter's `normalize.less` sets `[hidden] { display: none; }` but bootstrap.min.css set `[hidden] { display: none !important; }` so we also need the `!important` here to be able to override the default hidden behavior on the sphinx rendered scikit-learn.org. See: https://github.com/scikit-learn/scikit-learn/issues/21755 */display: inline-block !important;position: relative;}#sk-container-id-2 div.sk-text-repr-fallback {display: none;}</style><div id=\"sk-container-id-2\" class=\"sk-top-container\"><div class=\"sk-text-repr-fallback\"><pre>LinearRegression()</pre><b>In a Jupyter environment, please rerun this cell to show the HTML representation or trust the notebook. <br />On GitHub, the HTML representation is unable to render, please try loading this page with nbviewer.org.</b></div><div class=\"sk-container\" hidden><div class=\"sk-item\"><div class=\"sk-estimator sk-toggleable\"><input class=\"sk-toggleable__control sk-hidden--visually\" id=\"sk-estimator-id-6\" type=\"checkbox\" checked><label for=\"sk-estimator-id-6\" class=\"sk-toggleable__label sk-toggleable__label-arrow\">LinearRegression</label><div class=\"sk-toggleable__content\"><pre>LinearRegression()</pre></div></div></div></div></div>"
      ],
      "text/plain": [
       "LinearRegression()"
      ]
     },
     "execution_count": 57,
     "metadata": {},
     "output_type": "execute_result"
    }
   ],
   "source": [
    "# instantiate model\n",
    "model1_lr = LinearRegression()\n",
    "\n",
    "# fit the model on transformed TRAIN data\n",
    "model1_lr.fit(Z_set1_train, y_set1_train)"
   ]
  },
  {
   "cell_type": "code",
   "execution_count": 58,
   "metadata": {},
   "outputs": [
    {
     "name": "stdout",
     "output_type": "stream",
     "text": [
      "LinearRegression - Training Score: 0.827\n",
      "LinearRegression - Test Score: 0.8739\n"
     ]
    }
   ],
   "source": [
    "print(f\"LinearRegression - Training Score: {round(model1_lr.score(Z_set1_train, y_set1_train), 4)}\")\n",
    "print(f\"LinearRegression - Test Score: {round(model1_lr.score(Z_set1_test, y_set1_test), 4)}\")"
   ]
  },
  {
   "cell_type": "markdown",
   "metadata": {},
   "source": [
    "These R2 scores seem encouraging, though I am a bit skeptical that the model performed better on the test set that it did on the training set. <br>\n",
    "However, the model may have some merit for predictive purposes."
   ]
  },
  {
   "cell_type": "code",
   "execution_count": 59,
   "metadata": {},
   "outputs": [],
   "source": [
    "# Now, let's predict y's using the testing set and observe the RMSE\n",
    "y_set1_preds = model1_lr.predict(Z_set1_test)"
   ]
  },
  {
   "cell_type": "code",
   "execution_count": 60,
   "metadata": {},
   "outputs": [
    {
     "data": {
      "text/plain": [
       "27374.585430043346"
      ]
     },
     "execution_count": 60,
     "metadata": {},
     "output_type": "execute_result"
    }
   ],
   "source": [
    "# RMSE\n",
    "mean_squared_error(y_set1_test, y_set1_preds, squared = False )"
   ]
  },
  {
   "cell_type": "code",
   "execution_count": 61,
   "metadata": {},
   "outputs": [],
   "source": [
    "# storing evaluation metrics for this model\n",
    "model1_lr_scores = {\"Name\": \"MLR Model 1\",\"Training\": round(model1_lr.score(Z_set1_train, y_set1_train), 4),\n",
    "                   \"Test\": round(model1_lr.score(Z_set1_test, y_set1_test), 4),\n",
    "                   \"RMSE\": round(mean_squared_error(y_set1_test, y_set1_preds, squared = False ), 2)} "
   ]
  },
  {
   "cell_type": "code",
   "execution_count": 62,
   "metadata": {},
   "outputs": [
    {
     "data": {
      "image/png": "[encoded data removed]",
      "text/plain": [
       "<Figure size 720x720 with 1 Axes>"
      ]
     },
     "metadata": {
      "needs_background": "light"
     },
     "output_type": "display_data"
    }
   ],
   "source": [
    "# Plotting Model 1 - Pred vs. Actual\n",
    "plt.figure(figsize = (10,10))\n",
    "plt.scatter(x = y_set1_test, y = y_set1_preds)\n",
    "plt.title(\"Model 1 before Log Transformation - Predicted vs. Actual\", size =15)\n",
    "plt.xlabel(\"Actual\", size = 12)\n",
    "plt.ylabel(\"Predicted\", size = 12)\n",
    "\n",
    "# text\n",
    "text4 = f\"RMSE: {round(mean_squared_error(y_set1_test, y_set1_preds, squared = False), 2)}\"\n",
    "plt.text(0.05, 0.95, text4, transform=plt.gca().transAxes, fontsize=16,\n",
    "         verticalalignment='top', bbox=dict(boxstyle='round', facecolor='wheat', alpha=0.5));\n",
    "\n",
    "# save figure\n",
    "plt.savefig('./project2_graphs/model1_pred_vs_actual.jpeg')"
   ]
  },
  {
   "cell_type": "code",
   "execution_count": 63,
   "metadata": {},
   "outputs": [],
   "source": [
    "# let's re-read the test.csv set into a new DF called testcsv --> we will need this to recall the 'Id' variable we dropped before\n",
    "testcsv = pd.read_csv('./starter_datasets/test.csv')"
   ]
  },
  {
   "cell_type": "code",
   "execution_count": 64,
   "metadata": {},
   "outputs": [],
   "source": [
    "# scaling our official test set prior to predicting values for test\n",
    "test1_sc = sc.transform(df_test_2[features_1])"
   ]
  },
  {
   "cell_type": "code",
   "execution_count": 65,
   "metadata": {},
   "outputs": [],
   "source": [
    "# predicting values for test, storing in DF\n",
    "sub_model1_fixed = pd.DataFrame(model1_lr.predict(test1_sc), columns = ['SalePrice'], index = testcsv['Id']) # 'Id' column from OG test.csv"
   ]
  },
  {
   "cell_type": "code",
   "execution_count": 66,
   "metadata": {},
   "outputs": [],
   "source": [
    "# saving DF as submission #1\n",
    "sub_model1_fixed.to_csv('./project2_output/sub_model1.csv')"
   ]
  },
  {
   "cell_type": "markdown",
   "metadata": {},
   "source": [
    "---"
   ]
  },
  {
   "cell_type": "markdown",
   "metadata": {},
   "source": [
    "#### Model 1 - MLR post Log Transformation"
   ]
  },
  {
   "cell_type": "markdown",
   "metadata": {},
   "source": [
    "After a ton of research and getting advice, I learned of log transforming target variables that do not follow normal distributions. Let's first examine the distribution of 'SalePrice'."
   ]
  },
  {
   "cell_type": "code",
   "execution_count": 67,
   "metadata": {},
   "outputs": [
    {
     "data": {
      "image/png": "[encoded data removed]",
      "text/plain": [
       "<Figure size 576x576 with 1 Axes>"
      ]
     },
     "metadata": {
      "needs_background": "light"
     },
     "output_type": "display_data"
    }
   ],
   "source": [
    "# log(target) distribution\n",
    "plt.figure(figsize = (8,8))\n",
    "plt.title(\"Distribution Before Log Transformation\", size = 15)\n",
    "plt.hist(df_train_2['SalePrice'], bins = 50, color = 'gray')\n",
    "plt.xlabel('SalePrice', size = 12)\n",
    "plt.ylabel('Freq', size = 12)\n",
    "\n",
    "# text\n",
    "text = f\"Skew: {round(df_train_2['SalePrice'].skew(), 2)}\"\n",
    "plt.text(0.70, 0.95, text, transform=plt.gca().transAxes, fontsize=16,\n",
    "         verticalalignment='top', bbox=dict(boxstyle='round', facecolor='wheat', alpha=0.5));\n",
    "\n",
    "# save fig\n",
    "plt.savefig('./project2_graphs/saleprice_before_log.jpeg')"
   ]
  },
  {
   "cell_type": "code",
   "execution_count": 68,
   "metadata": {},
   "outputs": [
    {
     "data": {
      "image/png": "[encoded data removed]",
      "text/plain": [
       "<Figure size 576x576 with 1 Axes>"
      ]
     },
     "metadata": {
      "needs_background": "light"
     },
     "output_type": "display_data"
    }
   ],
   "source": [
    "# log(target) distribution\n",
    "plt.figure(figsize = (8,8))\n",
    "plt.title(\"Distribution After Log Transformation\", size = 16)\n",
    "plt.hist(np.log(df_train_2['SalePrice']), bins = 50, color = 'blue')\n",
    "plt.xlabel('Log SalePrice', size = 12)\n",
    "plt.ylabel('Freq', size = 12);\n",
    "\n",
    "# text\n",
    "text2 = f\"Skew: {round(np.log(df_train_2['SalePrice']).skew(), 2)}\"\n",
    "plt.text(0.05, 0.95, text2, transform=plt.gca().transAxes, fontsize=16,\n",
    "         verticalalignment='top', bbox=dict(boxstyle='round', facecolor='wheat', alpha=0.5));\n",
    "\n",
    "# save fig\n",
    "plt.savefig('./project2_graphs/saleprice_after_log.jpeg')"
   ]
  },
  {
   "cell_type": "markdown",
   "metadata": {},
   "source": [
    "The log transformation substantially improves the 'normality' of our target variable!"
   ]
  },
  {
   "cell_type": "code",
   "execution_count": 69,
   "metadata": {},
   "outputs": [
    {
     "data": {
      "text/html": [
       "<style>#sk-container-id-3 {color: black;background-color: white;}#sk-container-id-3 pre{padding: 0;}#sk-container-id-3 div.sk-toggleable {background-color: white;}#sk-container-id-3 label.sk-toggleable__label {cursor: pointer;display: block;width: 100%;margin-bottom: 0;padding: 0.3em;box-sizing: border-box;text-align: center;}#sk-container-id-3 label.sk-toggleable__label-arrow:before {content: \"▸\";float: left;margin-right: 0.25em;color: #696969;}#sk-container-id-3 label.sk-toggleable__label-arrow:hover:before {color: black;}#sk-container-id-3 div.sk-estimator:hover label.sk-toggleable__label-arrow:before {color: black;}#sk-container-id-3 div.sk-toggleable__content {max-height: 0;max-width: 0;overflow: hidden;text-align: left;background-color: #f0f8ff;}#sk-container-id-3 div.sk-toggleable__content pre {margin: 0.2em;color: black;border-radius: 0.25em;background-color: #f0f8ff;}#sk-container-id-3 input.sk-toggleable__control:checked~div.sk-toggleable__content {max-height: 200px;max-width: 100%;overflow: auto;}#sk-container-id-3 input.sk-toggleable__control:checked~label.sk-toggleable__label-arrow:before {content: \"▾\";}#sk-container-id-3 div.sk-estimator input.sk-toggleable__control:checked~label.sk-toggleable__label {background-color: #d4ebff;}#sk-container-id-3 div.sk-label input.sk-toggleable__control:checked~label.sk-toggleable__label {background-color: #d4ebff;}#sk-container-id-3 input.sk-hidden--visually {border: 0;clip: rect(1px 1px 1px 1px);clip: rect(1px, 1px, 1px, 1px);height: 1px;margin: -1px;overflow: hidden;padding: 0;position: absolute;width: 1px;}#sk-container-id-3 div.sk-estimator {font-family: monospace;background-color: #f0f8ff;border: 1px dotted black;border-radius: 0.25em;box-sizing: border-box;margin-bottom: 0.5em;}#sk-container-id-3 div.sk-estimator:hover {background-color: #d4ebff;}#sk-container-id-3 div.sk-parallel-item::after {content: \"\";width: 100%;border-bottom: 1px solid gray;flex-grow: 1;}#sk-container-id-3 div.sk-label:hover label.sk-toggleable__label {background-color: #d4ebff;}#sk-container-id-3 div.sk-serial::before {content: \"\";position: absolute;border-left: 1px solid gray;box-sizing: border-box;top: 0;bottom: 0;left: 50%;z-index: 0;}#sk-container-id-3 div.sk-serial {display: flex;flex-direction: column;align-items: center;background-color: white;padding-right: 0.2em;padding-left: 0.2em;position: relative;}#sk-container-id-3 div.sk-item {position: relative;z-index: 1;}#sk-container-id-3 div.sk-parallel {display: flex;align-items: stretch;justify-content: center;background-color: white;position: relative;}#sk-container-id-3 div.sk-item::before, #sk-container-id-3 div.sk-parallel-item::before {content: \"\";position: absolute;border-left: 1px solid gray;box-sizing: border-box;top: 0;bottom: 0;left: 50%;z-index: -1;}#sk-container-id-3 div.sk-parallel-item {display: flex;flex-direction: column;z-index: 1;position: relative;background-color: white;}#sk-container-id-3 div.sk-parallel-item:first-child::after {align-self: flex-end;width: 50%;}#sk-container-id-3 div.sk-parallel-item:last-child::after {align-self: flex-start;width: 50%;}#sk-container-id-3 div.sk-parallel-item:only-child::after {width: 0;}#sk-container-id-3 div.sk-dashed-wrapped {border: 1px dashed gray;margin: 0 0.4em 0.5em 0.4em;box-sizing: border-box;padding-bottom: 0.4em;background-color: white;}#sk-container-id-3 div.sk-label label {font-family: monospace;font-weight: bold;display: inline-block;line-height: 1.2em;}#sk-container-id-3 div.sk-label-container {text-align: center;}#sk-container-id-3 div.sk-container {/* jupyter's `normalize.less` sets `[hidden] { display: none; }` but bootstrap.min.css set `[hidden] { display: none !important; }` so we also need the `!important` here to be able to override the default hidden behavior on the sphinx rendered scikit-learn.org. See: https://github.com/scikit-learn/scikit-learn/issues/21755 */display: inline-block !important;position: relative;}#sk-container-id-3 div.sk-text-repr-fallback {display: none;}</style><div id=\"sk-container-id-3\" class=\"sk-top-container\"><div class=\"sk-text-repr-fallback\"><pre>LinearRegression()</pre><b>In a Jupyter environment, please rerun this cell to show the HTML representation or trust the notebook. <br />On GitHub, the HTML representation is unable to render, please try loading this page with nbviewer.org.</b></div><div class=\"sk-container\" hidden><div class=\"sk-item\"><div class=\"sk-estimator sk-toggleable\"><input class=\"sk-toggleable__control sk-hidden--visually\" id=\"sk-estimator-id-7\" type=\"checkbox\" checked><label for=\"sk-estimator-id-7\" class=\"sk-toggleable__label sk-toggleable__label-arrow\">LinearRegression</label><div class=\"sk-toggleable__content\"><pre>LinearRegression()</pre></div></div></div></div></div>"
      ],
      "text/plain": [
       "LinearRegression()"
      ]
     },
     "execution_count": 69,
     "metadata": {},
     "output_type": "execute_result"
    }
   ],
   "source": [
    "model2_lr_log = LinearRegression()\n",
    "model2_lr_log.fit(Z_set1_train, np.log(y_set1_train))"
   ]
  },
  {
   "cell_type": "code",
   "execution_count": 70,
   "metadata": {},
   "outputs": [
    {
     "data": {
      "text/plain": [
       "0.8368755909510686"
      ]
     },
     "execution_count": 70,
     "metadata": {},
     "output_type": "execute_result"
    }
   ],
   "source": [
    "model2_lr_log.score(Z_set1_train, np.log(y_set1_train))"
   ]
  },
  {
   "cell_type": "code",
   "execution_count": 71,
   "metadata": {},
   "outputs": [
    {
     "data": {
      "text/plain": [
       "0.8349555586269002"
      ]
     },
     "execution_count": 71,
     "metadata": {},
     "output_type": "execute_result"
    }
   ],
   "source": [
    "model2_lr_log.score(Z_set1_test, np.log(y_set1_test))"
   ]
  },
  {
   "cell_type": "code",
   "execution_count": 72,
   "metadata": {},
   "outputs": [],
   "source": [
    "y_log_preds_model2 = model2_lr_log.predict(Z_set1_test)"
   ]
  },
  {
   "cell_type": "code",
   "execution_count": 73,
   "metadata": {},
   "outputs": [
    {
     "data": {
      "text/plain": [
       "25911.354524009304"
      ]
     },
     "execution_count": 73,
     "metadata": {},
     "output_type": "execute_result"
    }
   ],
   "source": [
    "# NOTE: remember, for the actual 'SalePrice' predictions, must use np.exp() to convert the prediction back into 'SalePrice' regular magnitude/unit\n",
    "mean_squared_error(y_set1_test, np.exp(y_log_preds_model2), squared = False)"
   ]
  },
  {
   "cell_type": "code",
   "execution_count": 74,
   "metadata": {},
   "outputs": [],
   "source": [
    "# store scores for this model\n",
    "model2_log_scores = {\"Name\": \"MLR Log Transform\", \"Training\" : round(model2_lr_log.score(Z_set1_train, np.log(y_set1_train)), 4),\n",
    "                    \"Test\" : round(model2_lr_log.score(Z_set1_test, np.log(y_set1_test)), 4),\n",
    "                    \"RMSE\": round(mean_squared_error(y_set1_test, np.exp(y_log_preds_model2), squared = False), 2)}"
   ]
  },
  {
   "cell_type": "markdown",
   "metadata": {},
   "source": [
    "The log transformation on our 'SalePrice' target does a MUCH better job at tightening up our predictions and reducing RMSE. This holds good merit for purposes of prediction."
   ]
  },
  {
   "cell_type": "code",
   "execution_count": 75,
   "metadata": {},
   "outputs": [
    {
     "data": {
      "image/png": "[encoded data removed]",
      "text/plain": [
       "<Figure size 720x720 with 1 Axes>"
      ]
     },
     "metadata": {
      "needs_background": "light"
     },
     "output_type": "display_data"
    }
   ],
   "source": [
    "# Plotting Model 1 after Log Transformation - Pred vs. Actual\n",
    "plt.figure(figsize = (10,10))\n",
    "plt.scatter(x = y_set1_test, y = np.exp(y_log_preds_model2))\n",
    "plt.title(\"Model 1 after Log Transformation - Predicted vs. Actual\", size = 15)\n",
    "plt.xlabel(\"Actual\", size = 12)\n",
    "plt.ylabel(\"Predicted\", size = 12)\n",
    "\n",
    "text5 = f\"RMSE: {round(mean_squared_error(y_set1_test, np.exp(y_log_preds_model2), squared = False), 2)}\"\n",
    "plt.text(0.05, 0.95, text5, transform=plt.gca().transAxes, fontsize=16,\n",
    "         verticalalignment='top', bbox=dict(boxstyle='round', facecolor='wheat', alpha=0.5));\n",
    "\n",
    "# save figure\n",
    "plt.savefig('./project2_graphs/model1_log_pred_vs_actual.jpeg')"
   ]
  },
  {
   "cell_type": "code",
   "execution_count": 76,
   "metadata": {},
   "outputs": [],
   "source": [
    "# saving & submitting results of this model\n",
    "test3_sc = sc.transform(df_test_2[features_1])\n",
    "sub_model1_log = pd.DataFrame(np.exp(model2_lr_log.predict(test3_sc)), columns = ['SalePrice'], index = testcsv['Id'])\n",
    "sub_model1_log.to_csv('./project2_output/sub_model1_log.csv')"
   ]
  },
  {
   "cell_type": "markdown",
   "metadata": {},
   "source": [
    "---\n",
    "#### Model 2 - RidgeCV"
   ]
  },
  {
   "cell_type": "markdown",
   "metadata": {},
   "source": [
    "For Model 2, I'll use the same feature set as before, but this time we will perform l2 regularization using Ridge. Since I want to know what is the best alpha to use, I will pass a list of alphas for Ridge to try. <br> \n",
    "Since we've discovered that log transforming our target variable improves our RMSE, and therefore our predictive power, let's apply the same strategy to both Ridge and Lasso."
   ]
  },
  {
   "cell_type": "code",
   "execution_count": 77,
   "metadata": {},
   "outputs": [
    {
     "data": {
      "text/html": [
       "<style>#sk-container-id-4 {color: black;background-color: white;}#sk-container-id-4 pre{padding: 0;}#sk-container-id-4 div.sk-toggleable {background-color: white;}#sk-container-id-4 label.sk-toggleable__label {cursor: pointer;display: block;width: 100%;margin-bottom: 0;padding: 0.3em;box-sizing: border-box;text-align: center;}#sk-container-id-4 label.sk-toggleable__label-arrow:before {content: \"▸\";float: left;margin-right: 0.25em;color: #696969;}#sk-container-id-4 label.sk-toggleable__label-arrow:hover:before {color: black;}#sk-container-id-4 div.sk-estimator:hover label.sk-toggleable__label-arrow:before {color: black;}#sk-container-id-4 div.sk-toggleable__content {max-height: 0;max-width: 0;overflow: hidden;text-align: left;background-color: #f0f8ff;}#sk-container-id-4 div.sk-toggleable__content pre {margin: 0.2em;color: black;border-radius: 0.25em;background-color: #f0f8ff;}#sk-container-id-4 input.sk-toggleable__control:checked~div.sk-toggleable__content {max-height: 200px;max-width: 100%;overflow: auto;}#sk-container-id-4 input.sk-toggleable__control:checked~label.sk-toggleable__label-arrow:before {content: \"▾\";}#sk-container-id-4 div.sk-estimator input.sk-toggleable__control:checked~label.sk-toggleable__label {background-color: #d4ebff;}#sk-container-id-4 div.sk-label input.sk-toggleable__control:checked~label.sk-toggleable__label {background-color: #d4ebff;}#sk-container-id-4 input.sk-hidden--visually {border: 0;clip: rect(1px 1px 1px 1px);clip: rect(1px, 1px, 1px, 1px);height: 1px;margin: -1px;overflow: hidden;padding: 0;position: absolute;width: 1px;}#sk-container-id-4 div.sk-estimator {font-family: monospace;background-color: #f0f8ff;border: 1px dotted black;border-radius: 0.25em;box-sizing: border-box;margin-bottom: 0.5em;}#sk-container-id-4 div.sk-estimator:hover {background-color: #d4ebff;}#sk-container-id-4 div.sk-parallel-item::after {content: \"\";width: 100%;border-bottom: 1px solid gray;flex-grow: 1;}#sk-container-id-4 div.sk-label:hover label.sk-toggleable__label {background-color: #d4ebff;}#sk-container-id-4 div.sk-serial::before {content: \"\";position: absolute;border-left: 1px solid gray;box-sizing: border-box;top: 0;bottom: 0;left: 50%;z-index: 0;}#sk-container-id-4 div.sk-serial {display: flex;flex-direction: column;align-items: center;background-color: white;padding-right: 0.2em;padding-left: 0.2em;position: relative;}#sk-container-id-4 div.sk-item {position: relative;z-index: 1;}#sk-container-id-4 div.sk-parallel {display: flex;align-items: stretch;justify-content: center;background-color: white;position: relative;}#sk-container-id-4 div.sk-item::before, #sk-container-id-4 div.sk-parallel-item::before {content: \"\";position: absolute;border-left: 1px solid gray;box-sizing: border-box;top: 0;bottom: 0;left: 50%;z-index: -1;}#sk-container-id-4 div.sk-parallel-item {display: flex;flex-direction: column;z-index: 1;position: relative;background-color: white;}#sk-container-id-4 div.sk-parallel-item:first-child::after {align-self: flex-end;width: 50%;}#sk-container-id-4 div.sk-parallel-item:last-child::after {align-self: flex-start;width: 50%;}#sk-container-id-4 div.sk-parallel-item:only-child::after {width: 0;}#sk-container-id-4 div.sk-dashed-wrapped {border: 1px dashed gray;margin: 0 0.4em 0.5em 0.4em;box-sizing: border-box;padding-bottom: 0.4em;background-color: white;}#sk-container-id-4 div.sk-label label {font-family: monospace;font-weight: bold;display: inline-block;line-height: 1.2em;}#sk-container-id-4 div.sk-label-container {text-align: center;}#sk-container-id-4 div.sk-container {/* jupyter's `normalize.less` sets `[hidden] { display: none; }` but bootstrap.min.css set `[hidden] { display: none !important; }` so we also need the `!important` here to be able to override the default hidden behavior on the sphinx rendered scikit-learn.org. See: https://github.com/scikit-learn/scikit-learn/issues/21755 */display: inline-block !important;position: relative;}#sk-container-id-4 div.sk-text-repr-fallback {display: none;}</style><div id=\"sk-container-id-4\" class=\"sk-top-container\"><div class=\"sk-text-repr-fallback\"><pre>RidgeCV(alphas=array([1.00000000e+00, 1.12332403e+00, 1.26185688e+00, 1.41747416e+00,\n",
       "       1.59228279e+00, 1.78864953e+00, 2.00923300e+00, 2.25701972e+00,\n",
       "       2.53536449e+00, 2.84803587e+00, 3.19926714e+00, 3.59381366e+00,\n",
       "       4.03701726e+00, 4.53487851e+00, 5.09413801e+00, 5.72236766e+00,\n",
       "       6.42807312e+00, 7.22080902e+00, 8.11130831e+00, 9.11162756e+00,\n",
       "       1.02353102e+01, 1.14975700e+0...\n",
       "       6.89261210e+03, 7.74263683e+03, 8.69749003e+03, 9.77009957e+03,\n",
       "       1.09749877e+04, 1.23284674e+04, 1.38488637e+04, 1.55567614e+04,\n",
       "       1.74752840e+04, 1.96304065e+04, 2.20513074e+04, 2.47707636e+04,\n",
       "       2.78255940e+04, 3.12571585e+04, 3.51119173e+04, 3.94420606e+04,\n",
       "       4.43062146e+04, 4.97702356e+04, 5.59081018e+04, 6.28029144e+04,\n",
       "       7.05480231e+04, 7.92482898e+04, 8.90215085e+04, 1.00000000e+05]),\n",
       "        cv=5)</pre><b>In a Jupyter environment, please rerun this cell to show the HTML representation or trust the notebook. <br />On GitHub, the HTML representation is unable to render, please try loading this page with nbviewer.org.</b></div><div class=\"sk-container\" hidden><div class=\"sk-item\"><div class=\"sk-estimator sk-toggleable\"><input class=\"sk-toggleable__control sk-hidden--visually\" id=\"sk-estimator-id-8\" type=\"checkbox\" checked><label for=\"sk-estimator-id-8\" class=\"sk-toggleable__label sk-toggleable__label-arrow\">RidgeCV</label><div class=\"sk-toggleable__content\"><pre>RidgeCV(alphas=array([1.00000000e+00, 1.12332403e+00, 1.26185688e+00, 1.41747416e+00,\n",
       "       1.59228279e+00, 1.78864953e+00, 2.00923300e+00, 2.25701972e+00,\n",
       "       2.53536449e+00, 2.84803587e+00, 3.19926714e+00, 3.59381366e+00,\n",
       "       4.03701726e+00, 4.53487851e+00, 5.09413801e+00, 5.72236766e+00,\n",
       "       6.42807312e+00, 7.22080902e+00, 8.11130831e+00, 9.11162756e+00,\n",
       "       1.02353102e+01, 1.14975700e+0...\n",
       "       6.89261210e+03, 7.74263683e+03, 8.69749003e+03, 9.77009957e+03,\n",
       "       1.09749877e+04, 1.23284674e+04, 1.38488637e+04, 1.55567614e+04,\n",
       "       1.74752840e+04, 1.96304065e+04, 2.20513074e+04, 2.47707636e+04,\n",
       "       2.78255940e+04, 3.12571585e+04, 3.51119173e+04, 3.94420606e+04,\n",
       "       4.43062146e+04, 4.97702356e+04, 5.59081018e+04, 6.28029144e+04,\n",
       "       7.05480231e+04, 7.92482898e+04, 8.90215085e+04, 1.00000000e+05]),\n",
       "        cv=5)</pre></div></div></div></div></div>"
      ],
      "text/plain": [
       "RidgeCV(alphas=array([1.00000000e+00, 1.12332403e+00, 1.26185688e+00, 1.41747416e+00,\n",
       "       1.59228279e+00, 1.78864953e+00, 2.00923300e+00, 2.25701972e+00,\n",
       "       2.53536449e+00, 2.84803587e+00, 3.19926714e+00, 3.59381366e+00,\n",
       "       4.03701726e+00, 4.53487851e+00, 5.09413801e+00, 5.72236766e+00,\n",
       "       6.42807312e+00, 7.22080902e+00, 8.11130831e+00, 9.11162756e+00,\n",
       "       1.02353102e+01, 1.14975700e+0...\n",
       "       6.89261210e+03, 7.74263683e+03, 8.69749003e+03, 9.77009957e+03,\n",
       "       1.09749877e+04, 1.23284674e+04, 1.38488637e+04, 1.55567614e+04,\n",
       "       1.74752840e+04, 1.96304065e+04, 2.20513074e+04, 2.47707636e+04,\n",
       "       2.78255940e+04, 3.12571585e+04, 3.51119173e+04, 3.94420606e+04,\n",
       "       4.43062146e+04, 4.97702356e+04, 5.59081018e+04, 6.28029144e+04,\n",
       "       7.05480231e+04, 7.92482898e+04, 8.90215085e+04, 1.00000000e+05]),\n",
       "        cv=5)"
      ]
     },
     "execution_count": 77,
     "metadata": {},
     "output_type": "execute_result"
    }
   ],
   "source": [
    "# let's make a ton of alphas to check\n",
    "alphas = np.logspace(0, 5, 100)\n",
    "\n",
    "# Instantiate model --> Cross-validate over our list of ridge alphas.\n",
    "ridge_cv = RidgeCV(alphas = alphas, cv = 5)\n",
    "\n",
    "# Fit model using best ridge alpha! --> remember, always fit model on training\n",
    "ridge_cv.fit(Z_set1_train, np.log(y_set1_train))"
   ]
  },
  {
   "cell_type": "code",
   "execution_count": 78,
   "metadata": {},
   "outputs": [
    {
     "data": {
      "text/plain": [
       "93.26033468832199"
      ]
     },
     "execution_count": 78,
     "metadata": {},
     "output_type": "execute_result"
    }
   ],
   "source": [
    "# optimal alpha value\n",
    "ridge_cv.alpha_"
   ]
  },
  {
   "cell_type": "code",
   "execution_count": 79,
   "metadata": {},
   "outputs": [
    {
     "data": {
      "text/plain": [
       "0.8179382987738938"
      ]
     },
     "execution_count": 79,
     "metadata": {},
     "output_type": "execute_result"
    }
   ],
   "source": [
    "# best score from ridge CV\n",
    "ridge_cv.best_score_"
   ]
  },
  {
   "cell_type": "code",
   "execution_count": 80,
   "metadata": {},
   "outputs": [
    {
     "name": "stdout",
     "output_type": "stream",
     "text": [
      "Ridge, Training Score: 0.8357\n",
      "Ridge, Test Score: 0.8298\n"
     ]
    }
   ],
   "source": [
    "# Train vs. Test Score\n",
    "print(f\"Ridge, Training Score: {round(ridge_cv.score(Z_set1_train, np.log(y_set1_train)), 4)}\")\n",
    "print(f\"Ridge, Test Score: {round(ridge_cv.score(Z_set1_test, np.log(y_set1_test)), 4)}\")"
   ]
  },
  {
   "cell_type": "code",
   "execution_count": 81,
   "metadata": {},
   "outputs": [],
   "source": [
    "# ridge predictions!\n",
    "y_set1_ridge_preds = ridge_cv.predict(Z_set1_test)"
   ]
  },
  {
   "cell_type": "code",
   "execution_count": 82,
   "metadata": {},
   "outputs": [
    {
     "data": {
      "text/plain": [
       "26559.09"
      ]
     },
     "execution_count": 82,
     "metadata": {},
     "output_type": "execute_result"
    }
   ],
   "source": [
    "# RMSE\n",
    "round(mean_squared_error(y_set1_test, np.exp(y_set1_ridge_preds), squared = False), 2)\n",
    "\n",
    "# RMSE is slightly worse than our MLR Log model"
   ]
  },
  {
   "cell_type": "code",
   "execution_count": 83,
   "metadata": {},
   "outputs": [],
   "source": [
    "# storing the scores for Ridge\n",
    "ridge_cv_scores = {\"Name\": \"Ridge\",\"Training\": round(ridge_cv.score(Z_set1_train, np.log(y_set1_train)), 4),\n",
    "                   \"Test\": round(ridge_cv.score(Z_set1_test, np.log(y_set1_test)), 4),\n",
    "                   \"RMSE\": round(mean_squared_error(y_set1_test, np.exp(y_set1_ridge_preds), squared = False), 2)} "
   ]
  },
  {
   "cell_type": "code",
   "execution_count": 84,
   "metadata": {},
   "outputs": [],
   "source": [
    "# Ridge Prediction on Real Test set\n",
    "\n",
    "test2_sc = sc.transform(df_test_2[features_1])\n",
    "sub_ridgecv_log = pd.DataFrame(np.exp(ridge_cv.predict(test2_sc)), columns = ['SalePrice'], index = testcsv['Id']) # 'Id' column from OG test.csv\n",
    "sub_ridgecv_log.to_csv('./project2_output/sub_ridgecv_log.csv')"
   ]
  },
  {
   "cell_type": "markdown",
   "metadata": {},
   "source": [
    "---\n",
    "#### Model 3 - LassoCV"
   ]
  },
  {
   "cell_type": "markdown",
   "metadata": {},
   "source": [
    "This time, I'll use Lasso to figure out which features in my current feature set could be zeroed out. I'll use the remaining as \"feature_1b\", or feature set 1b."
   ]
  },
  {
   "cell_type": "code",
   "execution_count": 85,
   "metadata": {},
   "outputs": [
    {
     "data": {
      "text/html": [
       "<style>#sk-container-id-5 {color: black;background-color: white;}#sk-container-id-5 pre{padding: 0;}#sk-container-id-5 div.sk-toggleable {background-color: white;}#sk-container-id-5 label.sk-toggleable__label {cursor: pointer;display: block;width: 100%;margin-bottom: 0;padding: 0.3em;box-sizing: border-box;text-align: center;}#sk-container-id-5 label.sk-toggleable__label-arrow:before {content: \"▸\";float: left;margin-right: 0.25em;color: #696969;}#sk-container-id-5 label.sk-toggleable__label-arrow:hover:before {color: black;}#sk-container-id-5 div.sk-estimator:hover label.sk-toggleable__label-arrow:before {color: black;}#sk-container-id-5 div.sk-toggleable__content {max-height: 0;max-width: 0;overflow: hidden;text-align: left;background-color: #f0f8ff;}#sk-container-id-5 div.sk-toggleable__content pre {margin: 0.2em;color: black;border-radius: 0.25em;background-color: #f0f8ff;}#sk-container-id-5 input.sk-toggleable__control:checked~div.sk-toggleable__content {max-height: 200px;max-width: 100%;overflow: auto;}#sk-container-id-5 input.sk-toggleable__control:checked~label.sk-toggleable__label-arrow:before {content: \"▾\";}#sk-container-id-5 div.sk-estimator input.sk-toggleable__control:checked~label.sk-toggleable__label {background-color: #d4ebff;}#sk-container-id-5 div.sk-label input.sk-toggleable__control:checked~label.sk-toggleable__label {background-color: #d4ebff;}#sk-container-id-5 input.sk-hidden--visually {border: 0;clip: rect(1px 1px 1px 1px);clip: rect(1px, 1px, 1px, 1px);height: 1px;margin: -1px;overflow: hidden;padding: 0;position: absolute;width: 1px;}#sk-container-id-5 div.sk-estimator {font-family: monospace;background-color: #f0f8ff;border: 1px dotted black;border-radius: 0.25em;box-sizing: border-box;margin-bottom: 0.5em;}#sk-container-id-5 div.sk-estimator:hover {background-color: #d4ebff;}#sk-container-id-5 div.sk-parallel-item::after {content: \"\";width: 100%;border-bottom: 1px solid gray;flex-grow: 1;}#sk-container-id-5 div.sk-label:hover label.sk-toggleable__label {background-color: #d4ebff;}#sk-container-id-5 div.sk-serial::before {content: \"\";position: absolute;border-left: 1px solid gray;box-sizing: border-box;top: 0;bottom: 0;left: 50%;z-index: 0;}#sk-container-id-5 div.sk-serial {display: flex;flex-direction: column;align-items: center;background-color: white;padding-right: 0.2em;padding-left: 0.2em;position: relative;}#sk-container-id-5 div.sk-item {position: relative;z-index: 1;}#sk-container-id-5 div.sk-parallel {display: flex;align-items: stretch;justify-content: center;background-color: white;position: relative;}#sk-container-id-5 div.sk-item::before, #sk-container-id-5 div.sk-parallel-item::before {content: \"\";position: absolute;border-left: 1px solid gray;box-sizing: border-box;top: 0;bottom: 0;left: 50%;z-index: -1;}#sk-container-id-5 div.sk-parallel-item {display: flex;flex-direction: column;z-index: 1;position: relative;background-color: white;}#sk-container-id-5 div.sk-parallel-item:first-child::after {align-self: flex-end;width: 50%;}#sk-container-id-5 div.sk-parallel-item:last-child::after {align-self: flex-start;width: 50%;}#sk-container-id-5 div.sk-parallel-item:only-child::after {width: 0;}#sk-container-id-5 div.sk-dashed-wrapped {border: 1px dashed gray;margin: 0 0.4em 0.5em 0.4em;box-sizing: border-box;padding-bottom: 0.4em;background-color: white;}#sk-container-id-5 div.sk-label label {font-family: monospace;font-weight: bold;display: inline-block;line-height: 1.2em;}#sk-container-id-5 div.sk-label-container {text-align: center;}#sk-container-id-5 div.sk-container {/* jupyter's `normalize.less` sets `[hidden] { display: none; }` but bootstrap.min.css set `[hidden] { display: none !important; }` so we also need the `!important` here to be able to override the default hidden behavior on the sphinx rendered scikit-learn.org. See: https://github.com/scikit-learn/scikit-learn/issues/21755 */display: inline-block !important;position: relative;}#sk-container-id-5 div.sk-text-repr-fallback {display: none;}</style><div id=\"sk-container-id-5\" class=\"sk-top-container\"><div class=\"sk-text-repr-fallback\"><pre>LassoCV(alphas=array([0.001     , 0.00562341, 0.03162278, 0.17782794, 1.        ]),\n",
       "        cv=5)</pre><b>In a Jupyter environment, please rerun this cell to show the HTML representation or trust the notebook. <br />On GitHub, the HTML representation is unable to render, please try loading this page with nbviewer.org.</b></div><div class=\"sk-container\" hidden><div class=\"sk-item\"><div class=\"sk-estimator sk-toggleable\"><input class=\"sk-toggleable__control sk-hidden--visually\" id=\"sk-estimator-id-9\" type=\"checkbox\" checked><label for=\"sk-estimator-id-9\" class=\"sk-toggleable__label sk-toggleable__label-arrow\">LassoCV</label><div class=\"sk-toggleable__content\"><pre>LassoCV(alphas=array([0.001     , 0.00562341, 0.03162278, 0.17782794, 1.        ]),\n",
       "        cv=5)</pre></div></div></div></div></div>"
      ],
      "text/plain": [
       "LassoCV(alphas=array([0.001     , 0.00562341, 0.03162278, 0.17782794, 1.        ]),\n",
       "        cv=5)"
      ]
     },
     "execution_count": 85,
     "metadata": {},
     "output_type": "execute_result"
    }
   ],
   "source": [
    "# Like Ridge, set up a list of Lasso alphas to check\n",
    "l_alphas = np.logspace(-3, 0, 5)\n",
    "\n",
    "# Cross-validate over our list of Lasso alphas.\n",
    "lasso_cv = LassoCV(alphas = l_alphas, cv = 5)\n",
    "\n",
    "# Fits model using best ridge alpha!\n",
    "lasso_cv.fit(Z_set1_train, np.log(y_set1_train))"
   ]
  },
  {
   "cell_type": "code",
   "execution_count": 86,
   "metadata": {},
   "outputs": [
    {
     "data": {
      "text/plain": [
       "0.001"
      ]
     },
     "execution_count": 86,
     "metadata": {},
     "output_type": "execute_result"
    }
   ],
   "source": [
    "lasso_cv.alpha_"
   ]
  },
  {
   "cell_type": "code",
   "execution_count": 87,
   "metadata": {},
   "outputs": [
    {
     "name": "stdout",
     "output_type": "stream",
     "text": [
      "Training: 0.8365\n",
      "Test: 0.8348\n"
     ]
    }
   ],
   "source": [
    "print(\"Training:\",round(lasso_cv.score(Z_set1_train, np.log(y_set1_train)), 4))\n",
    "print(\"Test:\", round(lasso_cv.score(Z_set1_test, np.log(y_set1_test)), 4))"
   ]
  },
  {
   "cell_type": "code",
   "execution_count": 88,
   "metadata": {},
   "outputs": [],
   "source": [
    "# LassoCV predictions\n",
    "y_set1_lasso_preds = lasso_cv.predict(Z_set1_test)"
   ]
  },
  {
   "cell_type": "code",
   "execution_count": 89,
   "metadata": {},
   "outputs": [
    {
     "data": {
      "text/plain": [
       "26063.2"
      ]
     },
     "execution_count": 89,
     "metadata": {},
     "output_type": "execute_result"
    }
   ],
   "source": [
    "# RMSE\n",
    "round(mean_squared_error(y_set1_test, np.exp(y_set1_lasso_preds), squared = False), 2)\n",
    "\n",
    "# RMSE is better than Ridge model, but just slightly worse than our MLR"
   ]
  },
  {
   "cell_type": "code",
   "execution_count": 90,
   "metadata": {},
   "outputs": [],
   "source": [
    "# storing the scores for Lasso\n",
    "lasso_cv_scores = {\"Name\": \"Lasso 1\",\"Training\": round(lasso_cv.score(Z_set1_train, np.log(y_set1_train)), 4),\n",
    "                   \"Test\": round(lasso_cv.score(Z_set1_test, np.log(y_set1_test)), 4),\n",
    "                   \"RMSE\": round(mean_squared_error(y_set1_test, np.exp(y_set1_lasso_preds), squared = False), 2)} "
   ]
  },
  {
   "cell_type": "code",
   "execution_count": 91,
   "metadata": {},
   "outputs": [],
   "source": [
    "# Ridge Prediction on Real Test set\n",
    "\n",
    "test4_sc = sc.transform(df_test_2[features_1])\n",
    "sub_lassocv_log = pd.DataFrame(np.exp(lasso_cv.predict(test4_sc)), columns = ['SalePrice'], index = testcsv['Id']) # 'Id' column from OG test.csv\n",
    "sub_lassocv_log.to_csv('./project2_output/sub_lassocv_log.csv')"
   ]
  },
  {
   "cell_type": "markdown",
   "metadata": {},
   "source": [
    "Lasso's current performance is nearly comparable to that of my original MLR model using the first feature set. <br>\n",
    "Let's shift attention to the coefficients Lasso zeroes out. The goal is to keep any that have NOT been completely reduced."
   ]
  },
  {
   "cell_type": "code",
   "execution_count": 92,
   "metadata": {},
   "outputs": [],
   "source": [
    "# investigating Lasso coefs\n",
    "lasso_coefs = lasso_cv.coef_\n",
    "\n",
    "pd.Series(lasso_coefs)\n",
    "\n",
    "# LASSO can aid in feature selection, select the features that LASSO did not zero out coefs\n",
    "lasso_coefs = pd.Series(lasso_coefs, features_1)\n",
    "\n",
    "# save this as a DataFrame\n",
    "lasso_coefs = pd.DataFrame(lasso_coefs.sort_values(ascending = False), columns = ['Coeff'])"
   ]
  },
  {
   "cell_type": "code",
   "execution_count": 93,
   "metadata": {},
   "outputs": [
    {
     "name": "stdout",
     "output_type": "stream",
     "text": [
      "Our features were reduced by 6. From 34 to 28\n"
     ]
    }
   ],
   "source": [
    "# Now, let's make feature set 2 selecting only the variables that Lasso did NOT zero out\n",
    "features_2 = list(lasso_coefs[lasso_coefs['Coeff'] != 0].index)\n",
    "\n",
    "print(f\"Our features were reduced by 6. From {len(features_1)} to {len(features_2)}\")"
   ]
  },
  {
   "cell_type": "markdown",
   "metadata": {},
   "source": [
    "---\n",
    "### Feature Set 2\n",
    "\n",
    "Since the last set showed that MLR and Lasso performed better, let's continue with both of those but on a slightly more select set of features --> features_2."
   ]
  },
  {
   "cell_type": "markdown",
   "metadata": {},
   "source": [
    "#### MLR (w/ log transformation & filtered features)"
   ]
  },
  {
   "cell_type": "code",
   "execution_count": 94,
   "metadata": {},
   "outputs": [],
   "source": [
    "# new X & y for 2nd round of performance testing\n",
    "X_set2 = df_train_2[features_2]\n",
    "y_set2 = df_train_2['SalePrice']"
   ]
  },
  {
   "cell_type": "code",
   "execution_count": 95,
   "metadata": {},
   "outputs": [],
   "source": [
    "# new train/test splits\n",
    "X_set2_train, X_set2_test, y_set2_train, y_set2_test = train_test_split(X_set2, y_set2, test_size = 0.2, random_state = 42) # random_state for replicability"
   ]
  },
  {
   "cell_type": "code",
   "execution_count": 96,
   "metadata": {},
   "outputs": [],
   "source": [
    "# new scaling\n",
    "sc = StandardScaler()\n",
    "\n",
    "# fit_transform the X_set1_train\n",
    "Z_set2_train = sc.fit_transform(X_set2_train)\n",
    "\n",
    "# just transform X_set1_test\n",
    "Z_set2_test = sc.transform(X_set2_test)"
   ]
  },
  {
   "cell_type": "code",
   "execution_count": 97,
   "metadata": {},
   "outputs": [
    {
     "data": {
      "text/html": [
       "<style>#sk-container-id-6 {color: black;background-color: white;}#sk-container-id-6 pre{padding: 0;}#sk-container-id-6 div.sk-toggleable {background-color: white;}#sk-container-id-6 label.sk-toggleable__label {cursor: pointer;display: block;width: 100%;margin-bottom: 0;padding: 0.3em;box-sizing: border-box;text-align: center;}#sk-container-id-6 label.sk-toggleable__label-arrow:before {content: \"▸\";float: left;margin-right: 0.25em;color: #696969;}#sk-container-id-6 label.sk-toggleable__label-arrow:hover:before {color: black;}#sk-container-id-6 div.sk-estimator:hover label.sk-toggleable__label-arrow:before {color: black;}#sk-container-id-6 div.sk-toggleable__content {max-height: 0;max-width: 0;overflow: hidden;text-align: left;background-color: #f0f8ff;}#sk-container-id-6 div.sk-toggleable__content pre {margin: 0.2em;color: black;border-radius: 0.25em;background-color: #f0f8ff;}#sk-container-id-6 input.sk-toggleable__control:checked~div.sk-toggleable__content {max-height: 200px;max-width: 100%;overflow: auto;}#sk-container-id-6 input.sk-toggleable__control:checked~label.sk-toggleable__label-arrow:before {content: \"▾\";}#sk-container-id-6 div.sk-estimator input.sk-toggleable__control:checked~label.sk-toggleable__label {background-color: #d4ebff;}#sk-container-id-6 div.sk-label input.sk-toggleable__control:checked~label.sk-toggleable__label {background-color: #d4ebff;}#sk-container-id-6 input.sk-hidden--visually {border: 0;clip: rect(1px 1px 1px 1px);clip: rect(1px, 1px, 1px, 1px);height: 1px;margin: -1px;overflow: hidden;padding: 0;position: absolute;width: 1px;}#sk-container-id-6 div.sk-estimator {font-family: monospace;background-color: #f0f8ff;border: 1px dotted black;border-radius: 0.25em;box-sizing: border-box;margin-bottom: 0.5em;}#sk-container-id-6 div.sk-estimator:hover {background-color: #d4ebff;}#sk-container-id-6 div.sk-parallel-item::after {content: \"\";width: 100%;border-bottom: 1px solid gray;flex-grow: 1;}#sk-container-id-6 div.sk-label:hover label.sk-toggleable__label {background-color: #d4ebff;}#sk-container-id-6 div.sk-serial::before {content: \"\";position: absolute;border-left: 1px solid gray;box-sizing: border-box;top: 0;bottom: 0;left: 50%;z-index: 0;}#sk-container-id-6 div.sk-serial {display: flex;flex-direction: column;align-items: center;background-color: white;padding-right: 0.2em;padding-left: 0.2em;position: relative;}#sk-container-id-6 div.sk-item {position: relative;z-index: 1;}#sk-container-id-6 div.sk-parallel {display: flex;align-items: stretch;justify-content: center;background-color: white;position: relative;}#sk-container-id-6 div.sk-item::before, #sk-container-id-6 div.sk-parallel-item::before {content: \"\";position: absolute;border-left: 1px solid gray;box-sizing: border-box;top: 0;bottom: 0;left: 50%;z-index: -1;}#sk-container-id-6 div.sk-parallel-item {display: flex;flex-direction: column;z-index: 1;position: relative;background-color: white;}#sk-container-id-6 div.sk-parallel-item:first-child::after {align-self: flex-end;width: 50%;}#sk-container-id-6 div.sk-parallel-item:last-child::after {align-self: flex-start;width: 50%;}#sk-container-id-6 div.sk-parallel-item:only-child::after {width: 0;}#sk-container-id-6 div.sk-dashed-wrapped {border: 1px dashed gray;margin: 0 0.4em 0.5em 0.4em;box-sizing: border-box;padding-bottom: 0.4em;background-color: white;}#sk-container-id-6 div.sk-label label {font-family: monospace;font-weight: bold;display: inline-block;line-height: 1.2em;}#sk-container-id-6 div.sk-label-container {text-align: center;}#sk-container-id-6 div.sk-container {/* jupyter's `normalize.less` sets `[hidden] { display: none; }` but bootstrap.min.css set `[hidden] { display: none !important; }` so we also need the `!important` here to be able to override the default hidden behavior on the sphinx rendered scikit-learn.org. See: https://github.com/scikit-learn/scikit-learn/issues/21755 */display: inline-block !important;position: relative;}#sk-container-id-6 div.sk-text-repr-fallback {display: none;}</style><div id=\"sk-container-id-6\" class=\"sk-top-container\"><div class=\"sk-text-repr-fallback\"><pre>LinearRegression()</pre><b>In a Jupyter environment, please rerun this cell to show the HTML representation or trust the notebook. <br />On GitHub, the HTML representation is unable to render, please try loading this page with nbviewer.org.</b></div><div class=\"sk-container\" hidden><div class=\"sk-item\"><div class=\"sk-estimator sk-toggleable\"><input class=\"sk-toggleable__control sk-hidden--visually\" id=\"sk-estimator-id-10\" type=\"checkbox\" checked><label for=\"sk-estimator-id-10\" class=\"sk-toggleable__label sk-toggleable__label-arrow\">LinearRegression</label><div class=\"sk-toggleable__content\"><pre>LinearRegression()</pre></div></div></div></div></div>"
      ],
      "text/plain": [
       "LinearRegression()"
      ]
     },
     "execution_count": 97,
     "metadata": {},
     "output_type": "execute_result"
    }
   ],
   "source": [
    "# instantiate model\n",
    "model3 = LinearRegression()\n",
    "model3.fit(Z_set2_train, np.log(y_set2_train))"
   ]
  },
  {
   "cell_type": "code",
   "execution_count": 98,
   "metadata": {},
   "outputs": [
    {
     "name": "stdout",
     "output_type": "stream",
     "text": [
      "0.8368698319298807 0.8348768658539463\n"
     ]
    },
    {
     "data": {
      "text/plain": [
       "25896.95535867405"
      ]
     },
     "execution_count": 98,
     "metadata": {},
     "output_type": "execute_result"
    }
   ],
   "source": [
    "# model evaluation\n",
    "print(model3.score(Z_set2_train, np.log(y_set2_train)), model3.score(Z_set2_test, np.log(y_set2_test)))\n",
    "\n",
    "# predictions\n",
    "y_model3_preds = model3.predict(Z_set2_test)\n",
    "\n",
    "# RMSE\n",
    "mean_squared_error(y_set2_test, np.exp(y_model3_preds), squared = False)"
   ]
  },
  {
   "cell_type": "markdown",
   "metadata": {},
   "source": [
    "This model is promising! The RMSE is slightly more improved than our original MLR model (log transformed) using the original feature set."
   ]
  },
  {
   "cell_type": "code",
   "execution_count": 99,
   "metadata": {},
   "outputs": [],
   "source": [
    "# store scores for this model\n",
    "model3_scores = {\"Name\": \"MLR Log Model 2\",\"Training\" : round(model3.score(Z_set2_train, np.log(y_set2_train)), 4),\n",
    "                    \"Test\" : round(model3.score(Z_set2_test, np.log(y_set2_test)), 4),\n",
    "                    \"RMSE\": round(mean_squared_error(y_set2_test, np.exp(y_model3_preds), squared = False), 2)}"
   ]
  },
  {
   "cell_type": "code",
   "execution_count": 100,
   "metadata": {},
   "outputs": [],
   "source": [
    "# saving & submitting results of this model\n",
    "test4_sc = sc.transform(df_test_2[features_2])\n",
    "sub_model3 = pd.DataFrame(np.exp(model3.predict(test4_sc)), columns = ['SalePrice'], index = testcsv['Id'])\n",
    "sub_model3.to_csv('./project2_output/sub_model3.csv')"
   ]
  },
  {
   "cell_type": "markdown",
   "metadata": {},
   "source": [
    "---\n",
    "#### Lasso (using feature set 2)"
   ]
  },
  {
   "cell_type": "code",
   "execution_count": 101,
   "metadata": {},
   "outputs": [
    {
     "data": {
      "text/html": [
       "<style>#sk-container-id-7 {color: black;background-color: white;}#sk-container-id-7 pre{padding: 0;}#sk-container-id-7 div.sk-toggleable {background-color: white;}#sk-container-id-7 label.sk-toggleable__label {cursor: pointer;display: block;width: 100%;margin-bottom: 0;padding: 0.3em;box-sizing: border-box;text-align: center;}#sk-container-id-7 label.sk-toggleable__label-arrow:before {content: \"▸\";float: left;margin-right: 0.25em;color: #696969;}#sk-container-id-7 label.sk-toggleable__label-arrow:hover:before {color: black;}#sk-container-id-7 div.sk-estimator:hover label.sk-toggleable__label-arrow:before {color: black;}#sk-container-id-7 div.sk-toggleable__content {max-height: 0;max-width: 0;overflow: hidden;text-align: left;background-color: #f0f8ff;}#sk-container-id-7 div.sk-toggleable__content pre {margin: 0.2em;color: black;border-radius: 0.25em;background-color: #f0f8ff;}#sk-container-id-7 input.sk-toggleable__control:checked~div.sk-toggleable__content {max-height: 200px;max-width: 100%;overflow: auto;}#sk-container-id-7 input.sk-toggleable__control:checked~label.sk-toggleable__label-arrow:before {content: \"▾\";}#sk-container-id-7 div.sk-estimator input.sk-toggleable__control:checked~label.sk-toggleable__label {background-color: #d4ebff;}#sk-container-id-7 div.sk-label input.sk-toggleable__control:checked~label.sk-toggleable__label {background-color: #d4ebff;}#sk-container-id-7 input.sk-hidden--visually {border: 0;clip: rect(1px 1px 1px 1px);clip: rect(1px, 1px, 1px, 1px);height: 1px;margin: -1px;overflow: hidden;padding: 0;position: absolute;width: 1px;}#sk-container-id-7 div.sk-estimator {font-family: monospace;background-color: #f0f8ff;border: 1px dotted black;border-radius: 0.25em;box-sizing: border-box;margin-bottom: 0.5em;}#sk-container-id-7 div.sk-estimator:hover {background-color: #d4ebff;}#sk-container-id-7 div.sk-parallel-item::after {content: \"\";width: 100%;border-bottom: 1px solid gray;flex-grow: 1;}#sk-container-id-7 div.sk-label:hover label.sk-toggleable__label {background-color: #d4ebff;}#sk-container-id-7 div.sk-serial::before {content: \"\";position: absolute;border-left: 1px solid gray;box-sizing: border-box;top: 0;bottom: 0;left: 50%;z-index: 0;}#sk-container-id-7 div.sk-serial {display: flex;flex-direction: column;align-items: center;background-color: white;padding-right: 0.2em;padding-left: 0.2em;position: relative;}#sk-container-id-7 div.sk-item {position: relative;z-index: 1;}#sk-container-id-7 div.sk-parallel {display: flex;align-items: stretch;justify-content: center;background-color: white;position: relative;}#sk-container-id-7 div.sk-item::before, #sk-container-id-7 div.sk-parallel-item::before {content: \"\";position: absolute;border-left: 1px solid gray;box-sizing: border-box;top: 0;bottom: 0;left: 50%;z-index: -1;}#sk-container-id-7 div.sk-parallel-item {display: flex;flex-direction: column;z-index: 1;position: relative;background-color: white;}#sk-container-id-7 div.sk-parallel-item:first-child::after {align-self: flex-end;width: 50%;}#sk-container-id-7 div.sk-parallel-item:last-child::after {align-self: flex-start;width: 50%;}#sk-container-id-7 div.sk-parallel-item:only-child::after {width: 0;}#sk-container-id-7 div.sk-dashed-wrapped {border: 1px dashed gray;margin: 0 0.4em 0.5em 0.4em;box-sizing: border-box;padding-bottom: 0.4em;background-color: white;}#sk-container-id-7 div.sk-label label {font-family: monospace;font-weight: bold;display: inline-block;line-height: 1.2em;}#sk-container-id-7 div.sk-label-container {text-align: center;}#sk-container-id-7 div.sk-container {/* jupyter's `normalize.less` sets `[hidden] { display: none; }` but bootstrap.min.css set `[hidden] { display: none !important; }` so we also need the `!important` here to be able to override the default hidden behavior on the sphinx rendered scikit-learn.org. See: https://github.com/scikit-learn/scikit-learn/issues/21755 */display: inline-block !important;position: relative;}#sk-container-id-7 div.sk-text-repr-fallback {display: none;}</style><div id=\"sk-container-id-7\" class=\"sk-top-container\"><div class=\"sk-text-repr-fallback\"><pre>LassoCV(alphas=array([0.001     , 0.00562341, 0.03162278, 0.17782794, 1.        ]),\n",
       "        cv=5)</pre><b>In a Jupyter environment, please rerun this cell to show the HTML representation or trust the notebook. <br />On GitHub, the HTML representation is unable to render, please try loading this page with nbviewer.org.</b></div><div class=\"sk-container\" hidden><div class=\"sk-item\"><div class=\"sk-estimator sk-toggleable\"><input class=\"sk-toggleable__control sk-hidden--visually\" id=\"sk-estimator-id-11\" type=\"checkbox\" checked><label for=\"sk-estimator-id-11\" class=\"sk-toggleable__label sk-toggleable__label-arrow\">LassoCV</label><div class=\"sk-toggleable__content\"><pre>LassoCV(alphas=array([0.001     , 0.00562341, 0.03162278, 0.17782794, 1.        ]),\n",
       "        cv=5)</pre></div></div></div></div></div>"
      ],
      "text/plain": [
       "LassoCV(alphas=array([0.001     , 0.00562341, 0.03162278, 0.17782794, 1.        ]),\n",
       "        cv=5)"
      ]
     },
     "execution_count": 101,
     "metadata": {},
     "output_type": "execute_result"
    }
   ],
   "source": [
    "# Like Ridge, set up a list of Lasso alphas to check\n",
    "l_alphas = np.logspace(-3, 0, 5)\n",
    "\n",
    "# Cross-validate over our list of Lasso alphas.\n",
    "lasso_cv = LassoCV(alphas = l_alphas, cv = 5)\n",
    "\n",
    "# Fits model using best ridge alpha!\n",
    "lasso_cv.fit(Z_set2_train, np.log(y_set2_train))"
   ]
  },
  {
   "cell_type": "code",
   "execution_count": 102,
   "metadata": {},
   "outputs": [
    {
     "data": {
      "text/plain": [
       "0.001"
      ]
     },
     "execution_count": 102,
     "metadata": {},
     "output_type": "execute_result"
    }
   ],
   "source": [
    "lasso_cv.alpha_"
   ]
  },
  {
   "cell_type": "code",
   "execution_count": 103,
   "metadata": {},
   "outputs": [
    {
     "name": "stdout",
     "output_type": "stream",
     "text": [
      "Training: 0.8365\n",
      "Test: 0.8348\n"
     ]
    }
   ],
   "source": [
    "print(\"Training:\",round(lasso_cv.score(Z_set2_train, np.log(y_set2_train)), 4))\n",
    "print(\"Test:\", round(lasso_cv.score(Z_set2_test, np.log(y_set2_test)), 4))"
   ]
  },
  {
   "cell_type": "code",
   "execution_count": 104,
   "metadata": {},
   "outputs": [
    {
     "data": {
      "text/plain": [
       "26062.27"
      ]
     },
     "execution_count": 104,
     "metadata": {},
     "output_type": "execute_result"
    }
   ],
   "source": [
    "# LassoCV predictions\n",
    "y_set2_lasso_preds = lasso_cv.predict(Z_set2_test)\n",
    "\n",
    "# RMSE\n",
    "round(mean_squared_error(y_set2_test, np.exp(y_set2_lasso_preds), squared = False), 2)"
   ]
  },
  {
   "cell_type": "code",
   "execution_count": 105,
   "metadata": {},
   "outputs": [],
   "source": [
    "# storing the scores for Lasso\n",
    "lasso_cv_scores2 = {\"Name\": \"Lasso 2\",\"Training\": round(lasso_cv.score(Z_set2_train, np.log(y_set2_train)), 4),\n",
    "                   \"Test\": round(lasso_cv.score(Z_set2_test, np.log(y_set2_test)), 4),\n",
    "                   \"RMSE\": round(mean_squared_error(y_set2_test, np.exp(y_set2_lasso_preds), squared = False), 2)} "
   ]
  },
  {
   "cell_type": "markdown",
   "metadata": {},
   "source": [
    "Looks like this Lasso's prediction is not as strong as the MLR either, so perhaps what needs to change completely to further improve the RMSE is the feature set itself."
   ]
  },
  {
   "cell_type": "markdown",
   "metadata": {},
   "source": [
    "---"
   ]
  },
  {
   "cell_type": "markdown",
   "metadata": {},
   "source": [
    "### Final Model - Trimming Outliers"
   ]
  },
  {
   "cell_type": "code",
   "execution_count": 106,
   "metadata": {},
   "outputs": [
    {
     "data": {
      "text/plain": [
       "['Overall Qual',\n",
       " 'Gr Liv Area',\n",
       " 'Garage Cars',\n",
       " '1st Flr SF',\n",
       " 'Foundation_CBlock',\n",
       " 'Foundation_PConc',\n",
       " 'Total Bsmt SF',\n",
       " 'garage_age',\n",
       " 'Garage Area',\n",
       " 'TotRms AbvGrd',\n",
       " 'Foundation_Wood',\n",
       " 'Foundation_Stone',\n",
       " 'Foundation_PConc',\n",
       " 'Kitchen Qual_TA',\n",
       " 'Garage Finish_RFn',\n",
       " 'Exter Qual_Gd',\n",
       " 'Bsmt Qual_Po',\n",
       " 'Foundation_Slab',\n",
       " 'Bsmt Qual_Fa',\n",
       " 'Bsmt Qual_Gd',\n",
       " 'Kitchen Qual_Fa',\n",
       " 'Garage Finish_Unf',\n",
       " 'Exter Qual_Fa',\n",
       " 'Kitchen Qual_Gd',\n",
       " 'Bsmt Qual_TA',\n",
       " 'age',\n",
       " 'remodel_age',\n",
       " 'Kitchen Qual_TA']"
      ]
     },
     "execution_count": 106,
     "metadata": {},
     "output_type": "execute_result"
    }
   ],
   "source": [
    "# of the features, maybe 1 or more are extreme outliers?\n",
    "features_2"
   ]
  },
  {
   "cell_type": "code",
   "execution_count": 107,
   "metadata": {},
   "outputs": [],
   "source": [
    "features_2_skew = [df_train_2[feat].skew() for feat in features_2]"
   ]
  },
  {
   "cell_type": "code",
   "execution_count": 108,
   "metadata": {},
   "outputs": [],
   "source": [
    "features_2_skew = pd.DataFrame(data = features_2_skew, index = features_2, columns = ['Skew'])"
   ]
  },
  {
   "cell_type": "code",
   "execution_count": 109,
   "metadata": {},
   "outputs": [
    {
     "data": {
      "text/html": [
       "<div>\n",
       "<style scoped>\n",
       "    .dataframe tbody tr th:only-of-type {\n",
       "        vertical-align: middle;\n",
       "    }\n",
       "\n",
       "    .dataframe tbody tr th {\n",
       "        vertical-align: top;\n",
       "    }\n",
       "\n",
       "    .dataframe thead th {\n",
       "        text-align: right;\n",
       "    }\n",
       "</style>\n",
       "<table border=\"1\" class=\"dataframe\">\n",
       "  <thead>\n",
       "    <tr style=\"text-align: right;\">\n",
       "      <th></th>\n",
       "      <th>Skew</th>\n",
       "    </tr>\n",
       "  </thead>\n",
       "  <tbody>\n",
       "    <tr>\n",
       "      <th>Gr Liv Area</th>\n",
       "      <td>1.281492</td>\n",
       "    </tr>\n",
       "    <tr>\n",
       "      <th>1st Flr SF</th>\n",
       "      <td>1.635146</td>\n",
       "    </tr>\n",
       "    <tr>\n",
       "      <th>Total Bsmt SF</th>\n",
       "      <td>1.389436</td>\n",
       "    </tr>\n",
       "    <tr>\n",
       "      <th>Foundation_Wood</th>\n",
       "      <td>31.999977</td>\n",
       "    </tr>\n",
       "    <tr>\n",
       "      <th>Foundation_Stone</th>\n",
       "      <td>20.194030</td>\n",
       "    </tr>\n",
       "    <tr>\n",
       "      <th>Bsmt Qual_Po</th>\n",
       "      <td>45.287967</td>\n",
       "    </tr>\n",
       "    <tr>\n",
       "      <th>Foundation_Slab</th>\n",
       "      <td>7.577887</td>\n",
       "    </tr>\n",
       "    <tr>\n",
       "      <th>Bsmt Qual_Fa</th>\n",
       "      <td>5.590991</td>\n",
       "    </tr>\n",
       "    <tr>\n",
       "      <th>Kitchen Qual_Fa</th>\n",
       "      <td>6.381325</td>\n",
       "    </tr>\n",
       "    <tr>\n",
       "      <th>Exter Qual_Fa</th>\n",
       "      <td>8.718292</td>\n",
       "    </tr>\n",
       "  </tbody>\n",
       "</table>\n",
       "</div>"
      ],
      "text/plain": [
       "                       Skew\n",
       "Gr Liv Area        1.281492\n",
       "1st Flr SF         1.635146\n",
       "Total Bsmt SF      1.389436\n",
       "Foundation_Wood   31.999977\n",
       "Foundation_Stone  20.194030\n",
       "Bsmt Qual_Po      45.287967\n",
       "Foundation_Slab    7.577887\n",
       "Bsmt Qual_Fa       5.590991\n",
       "Kitchen Qual_Fa    6.381325\n",
       "Exter Qual_Fa      8.718292"
      ]
     },
     "execution_count": 109,
     "metadata": {},
     "output_type": "execute_result"
    }
   ],
   "source": [
    "# these are the MOST skewed variables in feature set 2\n",
    "features_2_skew[features_2_skew['Skew'] > 1]\n",
    "\n",
    "# of these, 'Gr Liv Area' had the strongest correlation w/ 'SalePrice'"
   ]
  },
  {
   "cell_type": "code",
   "execution_count": 110,
   "metadata": {},
   "outputs": [
    {
     "data": {
      "image/png": "[encoded data removed]",
      "text/plain": [
       "<Figure size 720x720 with 1 Axes>"
      ]
     },
     "metadata": {
      "needs_background": "light"
     },
     "output_type": "display_data"
    }
   ],
   "source": [
    "plt.figure(figsize = (10,10))\n",
    "plt.title(\"Distribution of 'Gr Liv Area'\", size = 15)\n",
    "plt.hist(df_train_2['Gr Liv Area'], bins = 20)\n",
    "\n",
    "# text\n",
    "text3 = f\"Skew: 1.28\"\n",
    "plt.text(0.80, 0.95, text3, transform=plt.gca().transAxes, fontsize=16,\n",
    "         verticalalignment='top', bbox=dict(boxstyle='round', facecolor='wheat', alpha=0.5));\n",
    "\n",
    "# savefig\n",
    "plt.savefig('./project2_graphs/livingarea_dist.jpeg')"
   ]
  },
  {
   "cell_type": "code",
   "execution_count": 111,
   "metadata": {},
   "outputs": [
    {
     "data": {
      "text/plain": [
       "960     5642.0\n",
       "1885    5095.0\n",
       "616     3820.0\n",
       "1897    3672.0\n",
       "1035    3608.0\n",
       "         ...  \n",
       "1292     498.0\n",
       "1643     492.0\n",
       "1518     480.0\n",
       "432      438.0\n",
       "1428     334.0\n",
       "Name: Gr Liv Area, Length: 2051, dtype: float64"
      ]
     },
     "execution_count": 111,
     "metadata": {},
     "output_type": "execute_result"
    }
   ],
   "source": [
    "df_train_2['Gr Liv Area'].sort_values(ascending = False)"
   ]
  },
  {
   "cell_type": "markdown",
   "metadata": {},
   "source": [
    "--- \n",
    "After some EDA investigation into 'Gr Liv Area', I noticed that it is likely strongly correlated with 2 other highly skewed variables ('1st Flr SF' and 'Total Bsmt SF'). The alrgest values have similar IDs which suggests that the homes that are outliers are the same. <br> \n",
    "\n",
    "Since the distibution shows a strong right skew, I will trim the largest outliers of the feature matrix & target series that I will train the model on. <br>\n",
    "\n",
    "I will only trim the train set, and leave the test set as is."
   ]
  },
  {
   "cell_type": "code",
   "execution_count": 112,
   "metadata": {},
   "outputs": [],
   "source": [
    "# tri anything ABOVE roughly a little more than 3 standard deviations of area within the mean (aka top ~ 0.1%)\n",
    "trim = np.percentile(df_train_2['Gr Liv Area'], 99.9)"
   ]
  },
  {
   "cell_type": "code",
   "execution_count": 113,
   "metadata": {},
   "outputs": [],
   "source": [
    "# make new df, df_train_3\n",
    "df_train_3 = df_train_2[df_train_2['Gr Liv Area'] <= trim]"
   ]
  },
  {
   "cell_type": "code",
   "execution_count": 114,
   "metadata": {},
   "outputs": [],
   "source": [
    "# make new X & y from df_train_3\n",
    "\n",
    "# X\n",
    "X_df3 = df_train_3[features_2]\n",
    "\n",
    "# y\n",
    "y_df3 = df_train_3['SalePrice']"
   ]
  },
  {
   "cell_type": "code",
   "execution_count": 115,
   "metadata": {},
   "outputs": [],
   "source": [
    "# train/test/split\n",
    "X_df3_train, X_df3_test, y_df3_train, y_df3_test = train_test_split(X_df3, y_df3, test_size = 0.2, random_state = 42)"
   ]
  },
  {
   "cell_type": "code",
   "execution_count": 116,
   "metadata": {},
   "outputs": [],
   "source": [
    "# Scale Data\n",
    "sc = StandardScaler()\n",
    "\n",
    "# fit_transform train X\n",
    "Z_df3_train = sc.fit_transform(X_df3_train)\n",
    "\n",
    "# transform test X\n",
    "Z_df3_test = sc.transform(X_df3_test)"
   ]
  },
  {
   "cell_type": "code",
   "execution_count": 117,
   "metadata": {},
   "outputs": [
    {
     "data": {
      "text/html": [
       "<style>#sk-container-id-8 {color: black;background-color: white;}#sk-container-id-8 pre{padding: 0;}#sk-container-id-8 div.sk-toggleable {background-color: white;}#sk-container-id-8 label.sk-toggleable__label {cursor: pointer;display: block;width: 100%;margin-bottom: 0;padding: 0.3em;box-sizing: border-box;text-align: center;}#sk-container-id-8 label.sk-toggleable__label-arrow:before {content: \"▸\";float: left;margin-right: 0.25em;color: #696969;}#sk-container-id-8 label.sk-toggleable__label-arrow:hover:before {color: black;}#sk-container-id-8 div.sk-estimator:hover label.sk-toggleable__label-arrow:before {color: black;}#sk-container-id-8 div.sk-toggleable__content {max-height: 0;max-width: 0;overflow: hidden;text-align: left;background-color: #f0f8ff;}#sk-container-id-8 div.sk-toggleable__content pre {margin: 0.2em;color: black;border-radius: 0.25em;background-color: #f0f8ff;}#sk-container-id-8 input.sk-toggleable__control:checked~div.sk-toggleable__content {max-height: 200px;max-width: 100%;overflow: auto;}#sk-container-id-8 input.sk-toggleable__control:checked~label.sk-toggleable__label-arrow:before {content: \"▾\";}#sk-container-id-8 div.sk-estimator input.sk-toggleable__control:checked~label.sk-toggleable__label {background-color: #d4ebff;}#sk-container-id-8 div.sk-label input.sk-toggleable__control:checked~label.sk-toggleable__label {background-color: #d4ebff;}#sk-container-id-8 input.sk-hidden--visually {border: 0;clip: rect(1px 1px 1px 1px);clip: rect(1px, 1px, 1px, 1px);height: 1px;margin: -1px;overflow: hidden;padding: 0;position: absolute;width: 1px;}#sk-container-id-8 div.sk-estimator {font-family: monospace;background-color: #f0f8ff;border: 1px dotted black;border-radius: 0.25em;box-sizing: border-box;margin-bottom: 0.5em;}#sk-container-id-8 div.sk-estimator:hover {background-color: #d4ebff;}#sk-container-id-8 div.sk-parallel-item::after {content: \"\";width: 100%;border-bottom: 1px solid gray;flex-grow: 1;}#sk-container-id-8 div.sk-label:hover label.sk-toggleable__label {background-color: #d4ebff;}#sk-container-id-8 div.sk-serial::before {content: \"\";position: absolute;border-left: 1px solid gray;box-sizing: border-box;top: 0;bottom: 0;left: 50%;z-index: 0;}#sk-container-id-8 div.sk-serial {display: flex;flex-direction: column;align-items: center;background-color: white;padding-right: 0.2em;padding-left: 0.2em;position: relative;}#sk-container-id-8 div.sk-item {position: relative;z-index: 1;}#sk-container-id-8 div.sk-parallel {display: flex;align-items: stretch;justify-content: center;background-color: white;position: relative;}#sk-container-id-8 div.sk-item::before, #sk-container-id-8 div.sk-parallel-item::before {content: \"\";position: absolute;border-left: 1px solid gray;box-sizing: border-box;top: 0;bottom: 0;left: 50%;z-index: -1;}#sk-container-id-8 div.sk-parallel-item {display: flex;flex-direction: column;z-index: 1;position: relative;background-color: white;}#sk-container-id-8 div.sk-parallel-item:first-child::after {align-self: flex-end;width: 50%;}#sk-container-id-8 div.sk-parallel-item:last-child::after {align-self: flex-start;width: 50%;}#sk-container-id-8 div.sk-parallel-item:only-child::after {width: 0;}#sk-container-id-8 div.sk-dashed-wrapped {border: 1px dashed gray;margin: 0 0.4em 0.5em 0.4em;box-sizing: border-box;padding-bottom: 0.4em;background-color: white;}#sk-container-id-8 div.sk-label label {font-family: monospace;font-weight: bold;display: inline-block;line-height: 1.2em;}#sk-container-id-8 div.sk-label-container {text-align: center;}#sk-container-id-8 div.sk-container {/* jupyter's `normalize.less` sets `[hidden] { display: none; }` but bootstrap.min.css set `[hidden] { display: none !important; }` so we also need the `!important` here to be able to override the default hidden behavior on the sphinx rendered scikit-learn.org. See: https://github.com/scikit-learn/scikit-learn/issues/21755 */display: inline-block !important;position: relative;}#sk-container-id-8 div.sk-text-repr-fallback {display: none;}</style><div id=\"sk-container-id-8\" class=\"sk-top-container\"><div class=\"sk-text-repr-fallback\"><pre>LinearRegression()</pre><b>In a Jupyter environment, please rerun this cell to show the HTML representation or trust the notebook. <br />On GitHub, the HTML representation is unable to render, please try loading this page with nbviewer.org.</b></div><div class=\"sk-container\" hidden><div class=\"sk-item\"><div class=\"sk-estimator sk-toggleable\"><input class=\"sk-toggleable__control sk-hidden--visually\" id=\"sk-estimator-id-12\" type=\"checkbox\" checked><label for=\"sk-estimator-id-12\" class=\"sk-toggleable__label sk-toggleable__label-arrow\">LinearRegression</label><div class=\"sk-toggleable__content\"><pre>LinearRegression()</pre></div></div></div></div></div>"
      ],
      "text/plain": [
       "LinearRegression()"
      ]
     },
     "execution_count": 117,
     "metadata": {},
     "output_type": "execute_result"
    }
   ],
   "source": [
    "# instantiate MLR model and fit on X & y using log transform on y_df3_train\n",
    "model4 = LinearRegression()\n",
    "\n",
    "# fitting\n",
    "model4.fit(Z_df3_train, np.log(y_df3_train))"
   ]
  },
  {
   "cell_type": "code",
   "execution_count": 118,
   "metadata": {},
   "outputs": [
    {
     "name": "stdout",
     "output_type": "stream",
     "text": [
      "0.8632512501746049\n",
      "24586.61822575757\n"
     ]
    }
   ],
   "source": [
    "# model evaluation\n",
    "print(model4.score(Z_df3_train, np.log(y_df3_train)))\n",
    "\n",
    "# predictions\n",
    "y_model4_preds = model4.predict(Z_df3_test)\n",
    "\n",
    "# RMSE\n",
    "print(mean_squared_error(y_df3_test, np.exp(y_model4_preds), squared = False))\n",
    "\n",
    "# store scores\n",
    "model4_scores = {\"Name\": \"MLR Log Model 3\", \"Training\" : round(model4.score(Z_df3_train, np.log(y_df3_train)), 4),\n",
    "                 \"Test\": None,\n",
    "                \"RMSE\" : round(mean_squared_error(y_df3_test, np.exp(y_model4_preds), squared = False), 2)}"
   ]
  },
  {
   "cell_type": "markdown",
   "metadata": {},
   "source": [
    "This is the best model yet. The train score is high and the RMSE has been further minimized."
   ]
  },
  {
   "cell_type": "code",
   "execution_count": 119,
   "metadata": {},
   "outputs": [],
   "source": [
    "# saving & submitting results of this model\n",
    "test5_sc = sc.transform(df_test_2[features_2])\n",
    "\n",
    "sub_model5 = pd.DataFrame(np.exp(model4.predict(test5_sc)), columns = ['SalePrice'], index = testcsv['Id'])\n",
    "\n",
    "sub_model5.to_csv('./project2_output/sub_model5.csv')"
   ]
  },
  {
   "cell_type": "markdown",
   "metadata": {},
   "source": [
    "---\n",
    "### Part VI: Conclusion"
   ]
  },
  {
   "cell_type": "markdown",
   "metadata": {},
   "source": [
    "I determined that the MLR model (model 4) using log transformation performed the best after trimming outliers. The model has a promising training r2 score and it minimized RMSE to a greater extent than its predecessors. To conclude, I will create a short DataFrame to show the performance of each model."
   ]
  },
  {
   "cell_type": "code",
   "execution_count": 120,
   "metadata": {},
   "outputs": [],
   "source": [
    "score_r2 = []\n",
    "score_rmse = []\n",
    "score_value = []\n",
    "model_name = []\n",
    "model = [model1_lr_scores, model2_log_scores, ridge_cv_scores, lasso_cv_scores, model3_scores, lasso_cv_scores2, model4_scores]\n",
    "\n",
    "for m in model:\n",
    "    model_name.append(list(m.values())[0])\n",
    "    score_r2.append(list(m.items())[1][1])\n",
    "    score_rmse.append(list(m.items())[3][1])\n",
    "    score_value.append(list(m.items())[1][1])"
   ]
  },
  {
   "cell_type": "code",
   "execution_count": 121,
   "metadata": {},
   "outputs": [
    {
     "data": {
      "text/html": [
       "<div>\n",
       "<style scoped>\n",
       "    .dataframe tbody tr th:only-of-type {\n",
       "        vertical-align: middle;\n",
       "    }\n",
       "\n",
       "    .dataframe tbody tr th {\n",
       "        vertical-align: top;\n",
       "    }\n",
       "\n",
       "    .dataframe thead th {\n",
       "        text-align: right;\n",
       "    }\n",
       "</style>\n",
       "<table border=\"1\" class=\"dataframe\">\n",
       "  <thead>\n",
       "    <tr style=\"text-align: right;\">\n",
       "      <th></th>\n",
       "      <th>Training r2</th>\n",
       "      <th>RMSE</th>\n",
       "    </tr>\n",
       "  </thead>\n",
       "  <tbody>\n",
       "    <tr>\n",
       "      <th>MLR Log Model 3</th>\n",
       "      <td>0.8633</td>\n",
       "      <td>24586.62</td>\n",
       "    </tr>\n",
       "    <tr>\n",
       "      <th>MLR Log Model 2</th>\n",
       "      <td>0.8369</td>\n",
       "      <td>25896.96</td>\n",
       "    </tr>\n",
       "    <tr>\n",
       "      <th>MLR Log Transform</th>\n",
       "      <td>0.8369</td>\n",
       "      <td>25911.35</td>\n",
       "    </tr>\n",
       "    <tr>\n",
       "      <th>Lasso 2</th>\n",
       "      <td>0.8365</td>\n",
       "      <td>26062.27</td>\n",
       "    </tr>\n",
       "    <tr>\n",
       "      <th>Lasso 1</th>\n",
       "      <td>0.8365</td>\n",
       "      <td>26063.20</td>\n",
       "    </tr>\n",
       "    <tr>\n",
       "      <th>Ridge</th>\n",
       "      <td>0.8357</td>\n",
       "      <td>26559.09</td>\n",
       "    </tr>\n",
       "    <tr>\n",
       "      <th>MLR Model 1</th>\n",
       "      <td>0.8270</td>\n",
       "      <td>27374.59</td>\n",
       "    </tr>\n",
       "  </tbody>\n",
       "</table>\n",
       "</div>"
      ],
      "text/plain": [
       "                   Training r2      RMSE\n",
       "MLR Log Model 3         0.8633  24586.62\n",
       "MLR Log Model 2         0.8369  25896.96\n",
       "MLR Log Transform       0.8369  25911.35\n",
       "Lasso 2                 0.8365  26062.27\n",
       "Lasso 1                 0.8365  26063.20\n",
       "Ridge                   0.8357  26559.09\n",
       "MLR Model 1             0.8270  27374.59"
      ]
     },
     "execution_count": 121,
     "metadata": {},
     "output_type": "execute_result"
    }
   ],
   "source": [
    "model_scores = pd.DataFrame({\"Training r2\":score_r2, \"RMSE\" : score_rmse}, index = model_name).sort_values(by = 'RMSE', ascending = True)\n",
    "\n",
    "model_scores"
   ]
  }
 ],
 "metadata": {
  "kernelspec": {
   "display_name": "Python 3",
   "language": "python",
   "name": "python3"
  },
  "language_info": {
   "codemirror_mode": {
    "name": "ipython",
    "version": 3
   },
   "file_extension": ".py",
   "mimetype": "text/x-python",
   "name": "python",
   "nbconvert_exporter": "python",
   "pygments_lexer": "ipython3",
   "version": "3.8.5"
  }
 },
 "nbformat": 4,
 "nbformat_minor": 4
}
