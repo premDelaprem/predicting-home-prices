{
 "cells": [
  {
   "cell_type": "markdown",
   "metadata": {},
   "source": [
    "#### DRAFT ####\n",
    "My overall strategy for this challenge is as follows:\n",
    "1. Clean data\n",
    "> a. Observe missing values <br>\n",
    "> b. Figure out whether to drop or impute <br>\n",
    "> c. What type of imputation to do\n",
    "\n",
    "2. EDA\n",
    "> a. Scatter plots between key variables <br>\n",
    "> b. Correlations (which are strongest?) <br>\n",
    "> c. Of the strongest, selecting top correlations w/ absolute val >= .70 <br>\n",
    "> d. Compare those w/ featurewiz library \n",
    "\n",
    "3. Modeling & Evaluation\n",
    "> a. 2 models: (1 with my selected features (top 0.50 and above) + (models w/ LASSO) <br>\n",
    "> b. train/test/split training dataset for both models <br>\n",
    "> c. Metrics --> (R2, RMSE) \n",
    "\n",
    "4. Conclusion & Submitting Best Model"
   ]
  },
  {
   "cell_type": "markdown",
   "metadata": {},
   "source": [
    "### Part I: Imports, Reading Data, Basic Info"
   ]
  },
  {
   "cell_type": "code",
   "execution_count": 2,
   "metadata": {},
   "outputs": [
    {
     "name": "stderr",
     "output_type": "stream",
     "text": [
      "/opt/anaconda3/lib/python3.8/site-packages/pandas/core/computation/expressions.py:20: UserWarning: Pandas requires version '2.7.3' or newer of 'numexpr' (version '2.7.1' currently installed).\n",
      "  from pandas.core.computation.check import NUMEXPR_INSTALLED\n"
     ]
    }
   ],
   "source": [
    "# imports! \n",
    "import pandas as pd \n",
    "import numpy as np\n",
    "import matplotlib.pyplot as plt\n",
    "import seaborn as sns\n",
    "\n",
    "# more imports!\n",
    "from sklearn.model_selection import train_test_split, cross_val_score, GridSearchCV\n",
    "from sklearn.linear_model import LinearRegression # model for linear reg \n",
    "from sklearn.linear_model import Lasso, LassoCV, Ridge, RidgeCV # model for lasso & ridge\n",
    "from sklearn.metrics import r2_score, mean_squared_error # metrics for evaluation\n",
    "from sklearn.preprocessing import StandardScaler # for scaling data"
   ]
  },
  {
   "cell_type": "code",
   "execution_count": 3,
   "metadata": {},
   "outputs": [],
   "source": [
    "# reading training and test data\n",
    "df_train = pd.read_csv('./datasets/train.csv')\n",
    "df_test = pd.read_csv('./datasets/test.csv')\n",
    "\n",
    "# goal: clean both datasets together, keep 'test' set away from 'train' to prevent data leakage, don't learn anything from test set"
   ]
  },
  {
   "cell_type": "code",
   "execution_count": 4,
   "metadata": {},
   "outputs": [
    {
     "name": "stdout",
     "output_type": "stream",
     "text": [
      "Original Train: (2051, 81)\n",
      "Original Test: (878, 80)\n",
      "Data has been split roughly 70/30, train/test\n"
     ]
    }
   ],
   "source": [
    "# dimensions of train, test\n",
    "print(f\"Original Train: {df_train.shape}\")\n",
    "print(f\"Original Test: {df_test.shape}\")\n",
    "\n",
    "# as expected, test is 1 column shy (saleprice outcome)\n",
    "# also, it appears train/test have roughly been split 70/30\n",
    "print(\"Data has been split roughly 70/30, train/test\")"
   ]
  },
  {
   "cell_type": "markdown",
   "metadata": {},
   "source": [
    "---"
   ]
  },
  {
   "cell_type": "markdown",
   "metadata": {},
   "source": [
    "### Part II: Data Cleaning"
   ]
  },
  {
   "cell_type": "markdown",
   "metadata": {},
   "source": [
    "First, let's observe what data we have: Numerical vs. Categorical."
   ]
  },
  {
   "cell_type": "code",
   "execution_count": 5,
   "metadata": {},
   "outputs": [
    {
     "data": {
      "text/html": [
       "<div>\n",
       "<style scoped>\n",
       "    .dataframe tbody tr th:only-of-type {\n",
       "        vertical-align: middle;\n",
       "    }\n",
       "\n",
       "    .dataframe tbody tr th {\n",
       "        vertical-align: top;\n",
       "    }\n",
       "\n",
       "    .dataframe thead th {\n",
       "        text-align: right;\n",
       "    }\n",
       "</style>\n",
       "<table border=\"1\" class=\"dataframe\">\n",
       "  <thead>\n",
       "    <tr style=\"text-align: right;\">\n",
       "      <th></th>\n",
       "      <th>Id</th>\n",
       "      <th>PID</th>\n",
       "      <th>MS SubClass</th>\n",
       "      <th>MS Zoning</th>\n",
       "      <th>Lot Frontage</th>\n",
       "      <th>Lot Area</th>\n",
       "      <th>Street</th>\n",
       "      <th>Alley</th>\n",
       "      <th>Lot Shape</th>\n",
       "      <th>Land Contour</th>\n",
       "      <th>...</th>\n",
       "      <th>Screen Porch</th>\n",
       "      <th>Pool Area</th>\n",
       "      <th>Pool QC</th>\n",
       "      <th>Fence</th>\n",
       "      <th>Misc Feature</th>\n",
       "      <th>Misc Val</th>\n",
       "      <th>Mo Sold</th>\n",
       "      <th>Yr Sold</th>\n",
       "      <th>Sale Type</th>\n",
       "      <th>SalePrice</th>\n",
       "    </tr>\n",
       "  </thead>\n",
       "  <tbody>\n",
       "    <tr>\n",
       "      <th>0</th>\n",
       "      <td>109</td>\n",
       "      <td>533352170</td>\n",
       "      <td>60</td>\n",
       "      <td>RL</td>\n",
       "      <td>NaN</td>\n",
       "      <td>13517</td>\n",
       "      <td>Pave</td>\n",
       "      <td>NaN</td>\n",
       "      <td>IR1</td>\n",
       "      <td>Lvl</td>\n",
       "      <td>...</td>\n",
       "      <td>0</td>\n",
       "      <td>0</td>\n",
       "      <td>NaN</td>\n",
       "      <td>NaN</td>\n",
       "      <td>NaN</td>\n",
       "      <td>0</td>\n",
       "      <td>3</td>\n",
       "      <td>2010</td>\n",
       "      <td>WD</td>\n",
       "      <td>130500</td>\n",
       "    </tr>\n",
       "    <tr>\n",
       "      <th>1</th>\n",
       "      <td>544</td>\n",
       "      <td>531379050</td>\n",
       "      <td>60</td>\n",
       "      <td>RL</td>\n",
       "      <td>43.0</td>\n",
       "      <td>11492</td>\n",
       "      <td>Pave</td>\n",
       "      <td>NaN</td>\n",
       "      <td>IR1</td>\n",
       "      <td>Lvl</td>\n",
       "      <td>...</td>\n",
       "      <td>0</td>\n",
       "      <td>0</td>\n",
       "      <td>NaN</td>\n",
       "      <td>NaN</td>\n",
       "      <td>NaN</td>\n",
       "      <td>0</td>\n",
       "      <td>4</td>\n",
       "      <td>2009</td>\n",
       "      <td>WD</td>\n",
       "      <td>220000</td>\n",
       "    </tr>\n",
       "    <tr>\n",
       "      <th>2</th>\n",
       "      <td>153</td>\n",
       "      <td>535304180</td>\n",
       "      <td>20</td>\n",
       "      <td>RL</td>\n",
       "      <td>68.0</td>\n",
       "      <td>7922</td>\n",
       "      <td>Pave</td>\n",
       "      <td>NaN</td>\n",
       "      <td>Reg</td>\n",
       "      <td>Lvl</td>\n",
       "      <td>...</td>\n",
       "      <td>0</td>\n",
       "      <td>0</td>\n",
       "      <td>NaN</td>\n",
       "      <td>NaN</td>\n",
       "      <td>NaN</td>\n",
       "      <td>0</td>\n",
       "      <td>1</td>\n",
       "      <td>2010</td>\n",
       "      <td>WD</td>\n",
       "      <td>109000</td>\n",
       "    </tr>\n",
       "    <tr>\n",
       "      <th>3</th>\n",
       "      <td>318</td>\n",
       "      <td>916386060</td>\n",
       "      <td>60</td>\n",
       "      <td>RL</td>\n",
       "      <td>73.0</td>\n",
       "      <td>9802</td>\n",
       "      <td>Pave</td>\n",
       "      <td>NaN</td>\n",
       "      <td>Reg</td>\n",
       "      <td>Lvl</td>\n",
       "      <td>...</td>\n",
       "      <td>0</td>\n",
       "      <td>0</td>\n",
       "      <td>NaN</td>\n",
       "      <td>NaN</td>\n",
       "      <td>NaN</td>\n",
       "      <td>0</td>\n",
       "      <td>4</td>\n",
       "      <td>2010</td>\n",
       "      <td>WD</td>\n",
       "      <td>174000</td>\n",
       "    </tr>\n",
       "    <tr>\n",
       "      <th>4</th>\n",
       "      <td>255</td>\n",
       "      <td>906425045</td>\n",
       "      <td>50</td>\n",
       "      <td>RL</td>\n",
       "      <td>82.0</td>\n",
       "      <td>14235</td>\n",
       "      <td>Pave</td>\n",
       "      <td>NaN</td>\n",
       "      <td>IR1</td>\n",
       "      <td>Lvl</td>\n",
       "      <td>...</td>\n",
       "      <td>0</td>\n",
       "      <td>0</td>\n",
       "      <td>NaN</td>\n",
       "      <td>NaN</td>\n",
       "      <td>NaN</td>\n",
       "      <td>0</td>\n",
       "      <td>3</td>\n",
       "      <td>2010</td>\n",
       "      <td>WD</td>\n",
       "      <td>138500</td>\n",
       "    </tr>\n",
       "  </tbody>\n",
       "</table>\n",
       "<p>5 rows × 81 columns</p>\n",
       "</div>"
      ],
      "text/plain": [
       "    Id        PID  MS SubClass MS Zoning  Lot Frontage  Lot Area Street Alley  \\\n",
       "0  109  533352170           60        RL           NaN     13517   Pave   NaN   \n",
       "1  544  531379050           60        RL          43.0     11492   Pave   NaN   \n",
       "2  153  535304180           20        RL          68.0      7922   Pave   NaN   \n",
       "3  318  916386060           60        RL          73.0      9802   Pave   NaN   \n",
       "4  255  906425045           50        RL          82.0     14235   Pave   NaN   \n",
       "\n",
       "  Lot Shape Land Contour  ... Screen Porch Pool Area Pool QC Fence  \\\n",
       "0       IR1          Lvl  ...            0         0     NaN   NaN   \n",
       "1       IR1          Lvl  ...            0         0     NaN   NaN   \n",
       "2       Reg          Lvl  ...            0         0     NaN   NaN   \n",
       "3       Reg          Lvl  ...            0         0     NaN   NaN   \n",
       "4       IR1          Lvl  ...            0         0     NaN   NaN   \n",
       "\n",
       "  Misc Feature Misc Val Mo Sold Yr Sold  Sale Type  SalePrice  \n",
       "0          NaN        0       3    2010        WD      130500  \n",
       "1          NaN        0       4    2009        WD      220000  \n",
       "2          NaN        0       1    2010        WD      109000  \n",
       "3          NaN        0       4    2010        WD      174000  \n",
       "4          NaN        0       3    2010        WD      138500  \n",
       "\n",
       "[5 rows x 81 columns]"
      ]
     },
     "execution_count": 5,
     "metadata": {},
     "output_type": "execute_result"
    }
   ],
   "source": [
    "df_train.head()"
   ]
  },
  {
   "cell_type": "code",
   "execution_count": 6,
   "metadata": {},
   "outputs": [],
   "source": [
    "# sigh, had to use ChatGPT already\n",
    "numerical = list(df_train.select_dtypes(exclude = 'object').columns)\n",
    "categorical = list(df_train.select_dtypes(include = 'object').columns)"
   ]
  },
  {
   "cell_type": "markdown",
   "metadata": {},
   "source": [
    "#### All Categorical Variables: \n",
    "['MS Zoning',\n",
    " 'Street',\n",
    " 'Alley',\n",
    " 'Lot Shape',\n",
    " 'Land Contour',\n",
    " 'Utilities',\n",
    " 'Lot Config',\n",
    " 'Land Slope',\n",
    " 'Neighborhood',\n",
    " 'Condition 1',\n",
    " 'Condition 2',\n",
    " 'Bldg Type',\n",
    " 'House Style',\n",
    " 'Roof Style',\n",
    " 'Roof Matl',\n",
    " 'Exterior 1st',\n",
    " 'Exterior 2nd',\n",
    " 'Mas Vnr Type',\n",
    " 'Exter Qual',\n",
    " 'Exter Cond',\n",
    " 'Foundation',\n",
    " 'Bsmt Qual',\n",
    " 'Bsmt Cond',\n",
    " 'Bsmt Exposure',\n",
    " 'BsmtFin Type 1',\n",
    " 'BsmtFin Type 2',\n",
    " 'Heating',\n",
    " 'Heating QC',\n",
    " 'Central Air',\n",
    " 'Electrical',\n",
    " 'Kitchen Qual',\n",
    " 'Functional',\n",
    " 'Fireplace Qu',\n",
    " 'Garage Type',\n",
    " 'Garage Finish',\n",
    " 'Garage Qual',\n",
    " 'Garage Cond',\n",
    " 'Paved Drive',\n",
    " 'Pool QC',\n",
    " 'Fence',\n",
    " 'Misc Feature',\n",
    " 'Sale Type']"
   ]
  },
  {
   "cell_type": "markdown",
   "metadata": {},
   "source": [
    "I used: **df_train[categorical].iloc[:5, start : stop]** to go through the columns and verify these should be categorical. They check out.\n",
    "\n",
    "---"
   ]
  },
  {
   "cell_type": "markdown",
   "metadata": {},
   "source": [
    "#### All Numerical Variables: \n",
    "['Id',\n",
    " 'PID',\n",
    " 'MS SubClass',\n",
    " 'Lot Frontage',\n",
    " 'Lot Area',\n",
    " 'Overall Qual',\n",
    " 'Overall Cond',\n",
    " 'Year Built',\n",
    " 'Year Remod/Add',\n",
    " 'Mas Vnr Area',\n",
    " 'BsmtFin SF 1',\n",
    " 'BsmtFin SF 2',\n",
    " 'Bsmt Unf SF',\n",
    " 'Total Bsmt SF',\n",
    " '1st Flr SF',\n",
    " '2nd Flr SF',\n",
    " 'Low Qual Fin SF',\n",
    " 'Gr Liv Area',\n",
    " 'Bsmt Full Bath',\n",
    " 'Bsmt Half Bath',\n",
    " 'Full Bath',\n",
    " 'Half Bath',\n",
    " 'Bedroom AbvGr',\n",
    " 'Kitchen AbvGr',\n",
    " 'TotRms AbvGrd',\n",
    " 'Fireplaces',\n",
    " 'Garage Yr Blt',\n",
    " 'Garage Cars',\n",
    " 'Garage Area',\n",
    " 'Wood Deck SF',\n",
    " 'Open Porch SF',\n",
    " 'Enclosed Porch',\n",
    " '3Ssn Porch',\n",
    " 'Screen Porch',\n",
    " 'Pool Area',\n",
    " 'Misc Val',\n",
    " 'Mo Sold',\n",
    " 'Yr Sold',\n",
    " 'SalePrice']\n",
    " \n",
    " "
   ]
  },
  {
   "cell_type": "markdown",
   "metadata": {},
   "source": [
    "Again, I used: **df_train[numerical].iloc[:5, start : stop]** to go through the columns and verify if these should be numerical. Notes below!\n",
    "\n",
    "***Don't make sense as numerical*** <br>\n",
    "['Id', 'PID', ]\n",
    "\n",
    "***Change to int (don't make sense as float)*** <br>\n",
    "However, these have NaN values, so I will impute the missing values first before converting both to integer. (Later) <br>\n",
    "['Garage Yr Blt', 'Garage Cars']"
   ]
  },
  {
   "cell_type": "code",
   "execution_count": 12,
   "metadata": {},
   "outputs": [
    {
     "name": "stdout",
     "output_type": "stream",
     "text": [
      "Np.nan in 'Id': False\n",
      "Np.nan in 'PID': False\n"
     ]
    }
   ],
   "source": [
    "# Let's convert Id & PID to 'object' type\n",
    "\n",
    "# First, check if there are any np.nan values in 'Id'\n",
    "print(f\"Np.nan in 'Id': {np.nan in df_train['Id'].value_counts().index}\")\n",
    "print(f\"Np.nan in 'PID': {np.nan in df_train['PID'].value_counts().index}\")"
   ]
  },
  {
   "cell_type": "code",
   "execution_count": 13,
   "metadata": {},
   "outputs": [],
   "source": [
    "# Great, now I can convert both\n",
    "df_train['Id'] = df_train['Id'].astype(object)\n",
    "df_train['PID'] = df_train['PID'].astype(object)\n",
    "\n",
    "# Now, recall Numerical & Categorical lists to update them\n",
    "numerical = list(df_train.select_dtypes(exclude = 'object').columns)    # ID, PID removed\n",
    "categorical = list(df_train.select_dtypes(include = 'object').columns)    # ID, PID added"
   ]
  },
  {
   "cell_type": "markdown",
   "metadata": {},
   "source": [
    "---\n",
    "#### Dealing with Missing Values\n",
    "Here, I want to decide which variables have missing values and how many. If a ton of values are missing, it makes sense to drop the variable altogether. If there aren't too many missing values, it makes sense to impute the values so we can include them in our model (if necessary)."
   ]
  },
  {
   "cell_type": "code",
   "execution_count": 14,
   "metadata": {},
   "outputs": [
    {
     "name": "stdout",
     "output_type": "stream",
     "text": [
      "<class 'pandas.core.frame.DataFrame'>\n",
      "RangeIndex: 2051 entries, 0 to 2050\n",
      "Data columns (total 81 columns):\n",
      " #   Column           Non-Null Count  Dtype  \n",
      "---  ------           --------------  -----  \n",
      " 0   Id               2051 non-null   object \n",
      " 1   PID              2051 non-null   object \n",
      " 2   MS SubClass      2051 non-null   int64  \n",
      " 3   MS Zoning        2051 non-null   object \n",
      " 4   Lot Frontage     1721 non-null   float64\n",
      " 5   Lot Area         2051 non-null   int64  \n",
      " 6   Street           2051 non-null   object \n",
      " 7   Alley            140 non-null    object \n",
      " 8   Lot Shape        2051 non-null   object \n",
      " 9   Land Contour     2051 non-null   object \n",
      " 10  Utilities        2051 non-null   object \n",
      " 11  Lot Config       2051 non-null   object \n",
      " 12  Land Slope       2051 non-null   object \n",
      " 13  Neighborhood     2051 non-null   object \n",
      " 14  Condition 1      2051 non-null   object \n",
      " 15  Condition 2      2051 non-null   object \n",
      " 16  Bldg Type        2051 non-null   object \n",
      " 17  House Style      2051 non-null   object \n",
      " 18  Overall Qual     2051 non-null   int64  \n",
      " 19  Overall Cond     2051 non-null   int64  \n",
      " 20  Year Built       2051 non-null   int64  \n",
      " 21  Year Remod/Add   2051 non-null   int64  \n",
      " 22  Roof Style       2051 non-null   object \n",
      " 23  Roof Matl        2051 non-null   object \n",
      " 24  Exterior 1st     2051 non-null   object \n",
      " 25  Exterior 2nd     2051 non-null   object \n",
      " 26  Mas Vnr Type     2029 non-null   object \n",
      " 27  Mas Vnr Area     2029 non-null   float64\n",
      " 28  Exter Qual       2051 non-null   object \n",
      " 29  Exter Cond       2051 non-null   object \n",
      " 30  Foundation       2051 non-null   object \n",
      " 31  Bsmt Qual        1996 non-null   object \n",
      " 32  Bsmt Cond        1996 non-null   object \n",
      " 33  Bsmt Exposure    1993 non-null   object \n",
      " 34  BsmtFin Type 1   1996 non-null   object \n",
      " 35  BsmtFin SF 1     2050 non-null   float64\n",
      " 36  BsmtFin Type 2   1995 non-null   object \n",
      " 37  BsmtFin SF 2     2050 non-null   float64\n",
      " 38  Bsmt Unf SF      2050 non-null   float64\n",
      " 39  Total Bsmt SF    2050 non-null   float64\n",
      " 40  Heating          2051 non-null   object \n",
      " 41  Heating QC       2051 non-null   object \n",
      " 42  Central Air      2051 non-null   object \n",
      " 43  Electrical       2051 non-null   object \n",
      " 44  1st Flr SF       2051 non-null   int64  \n",
      " 45  2nd Flr SF       2051 non-null   int64  \n",
      " 46  Low Qual Fin SF  2051 non-null   int64  \n",
      " 47  Gr Liv Area      2051 non-null   int64  \n",
      " 48  Bsmt Full Bath   2049 non-null   float64\n",
      " 49  Bsmt Half Bath   2049 non-null   float64\n",
      " 50  Full Bath        2051 non-null   int64  \n",
      " 51  Half Bath        2051 non-null   int64  \n",
      " 52  Bedroom AbvGr    2051 non-null   int64  \n",
      " 53  Kitchen AbvGr    2051 non-null   int64  \n",
      " 54  Kitchen Qual     2051 non-null   object \n",
      " 55  TotRms AbvGrd    2051 non-null   int64  \n",
      " 56  Functional       2051 non-null   object \n",
      " 57  Fireplaces       2051 non-null   int64  \n",
      " 58  Fireplace Qu     1051 non-null   object \n",
      " 59  Garage Type      1938 non-null   object \n",
      " 60  Garage Yr Blt    1937 non-null   float64\n",
      " 61  Garage Finish    1937 non-null   object \n",
      " 62  Garage Cars      2050 non-null   float64\n",
      " 63  Garage Area      2050 non-null   float64\n",
      " 64  Garage Qual      1937 non-null   object \n",
      " 65  Garage Cond      1937 non-null   object \n",
      " 66  Paved Drive      2051 non-null   object \n",
      " 67  Wood Deck SF     2051 non-null   int64  \n",
      " 68  Open Porch SF    2051 non-null   int64  \n",
      " 69  Enclosed Porch   2051 non-null   int64  \n",
      " 70  3Ssn Porch       2051 non-null   int64  \n",
      " 71  Screen Porch     2051 non-null   int64  \n",
      " 72  Pool Area        2051 non-null   int64  \n",
      " 73  Pool QC          9 non-null      object \n",
      " 74  Fence            400 non-null    object \n",
      " 75  Misc Feature     65 non-null     object \n",
      " 76  Misc Val         2051 non-null   int64  \n",
      " 77  Mo Sold          2051 non-null   int64  \n",
      " 78  Yr Sold          2051 non-null   int64  \n",
      " 79  Sale Type        2051 non-null   object \n",
      " 80  SalePrice        2051 non-null   int64  \n",
      "dtypes: float64(11), int64(26), object(44)\n",
      "memory usage: 1.3+ MB\n"
     ]
    }
   ],
   "source": [
    "# hard to view which columns have how many missing values\n",
    "df_train.info()"
   ]
  },
  {
   "cell_type": "code",
   "execution_count": 15,
   "metadata": {},
   "outputs": [
    {
     "data": {
      "text/plain": [
       "Id                0\n",
       "PID               0\n",
       "MS SubClass       0\n",
       "MS Zoning         0\n",
       "Lot Frontage    330\n",
       "               ... \n",
       "Misc Val          0\n",
       "Mo Sold           0\n",
       "Yr Sold           0\n",
       "Sale Type         0\n",
       "SalePrice         0\n",
       "Length: 81, dtype: int64"
      ]
     },
     "execution_count": 15,
     "metadata": {},
     "output_type": "execute_result"
    }
   ],
   "source": [
    "df_train.isnull().sum()"
   ]
  },
  {
   "cell_type": "code",
   "execution_count": 16,
   "metadata": {},
   "outputs": [
    {
     "data": {
      "text/html": [
       "<div>\n",
       "<style scoped>\n",
       "    .dataframe tbody tr th:only-of-type {\n",
       "        vertical-align: middle;\n",
       "    }\n",
       "\n",
       "    .dataframe tbody tr th {\n",
       "        vertical-align: top;\n",
       "    }\n",
       "\n",
       "    .dataframe thead th {\n",
       "        text-align: right;\n",
       "    }\n",
       "</style>\n",
       "<table border=\"1\" class=\"dataframe\">\n",
       "  <thead>\n",
       "    <tr style=\"text-align: right;\">\n",
       "      <th></th>\n",
       "      <th>Avg. Missing</th>\n",
       "      <th>Total Missing</th>\n",
       "    </tr>\n",
       "  </thead>\n",
       "  <tbody>\n",
       "    <tr>\n",
       "      <th>Pool QC</th>\n",
       "      <td>0.995612</td>\n",
       "      <td>2042</td>\n",
       "    </tr>\n",
       "    <tr>\n",
       "      <th>Misc Feature</th>\n",
       "      <td>0.968308</td>\n",
       "      <td>1986</td>\n",
       "    </tr>\n",
       "    <tr>\n",
       "      <th>Alley</th>\n",
       "      <td>0.931741</td>\n",
       "      <td>1911</td>\n",
       "    </tr>\n",
       "    <tr>\n",
       "      <th>Fence</th>\n",
       "      <td>0.804973</td>\n",
       "      <td>1651</td>\n",
       "    </tr>\n",
       "    <tr>\n",
       "      <th>Fireplace Qu</th>\n",
       "      <td>0.487567</td>\n",
       "      <td>1000</td>\n",
       "    </tr>\n",
       "    <tr>\n",
       "      <th>Lot Frontage</th>\n",
       "      <td>0.160897</td>\n",
       "      <td>330</td>\n",
       "    </tr>\n",
       "    <tr>\n",
       "      <th>Garage Finish</th>\n",
       "      <td>0.055583</td>\n",
       "      <td>114</td>\n",
       "    </tr>\n",
       "    <tr>\n",
       "      <th>Garage Qual</th>\n",
       "      <td>0.055583</td>\n",
       "      <td>114</td>\n",
       "    </tr>\n",
       "    <tr>\n",
       "      <th>Garage Yr Blt</th>\n",
       "      <td>0.055583</td>\n",
       "      <td>114</td>\n",
       "    </tr>\n",
       "    <tr>\n",
       "      <th>Garage Cond</th>\n",
       "      <td>0.055583</td>\n",
       "      <td>114</td>\n",
       "    </tr>\n",
       "    <tr>\n",
       "      <th>Garage Type</th>\n",
       "      <td>0.055095</td>\n",
       "      <td>113</td>\n",
       "    </tr>\n",
       "    <tr>\n",
       "      <th>Bsmt Exposure</th>\n",
       "      <td>0.028279</td>\n",
       "      <td>58</td>\n",
       "    </tr>\n",
       "    <tr>\n",
       "      <th>BsmtFin Type 2</th>\n",
       "      <td>0.027304</td>\n",
       "      <td>56</td>\n",
       "    </tr>\n",
       "    <tr>\n",
       "      <th>BsmtFin Type 1</th>\n",
       "      <td>0.026816</td>\n",
       "      <td>55</td>\n",
       "    </tr>\n",
       "    <tr>\n",
       "      <th>Bsmt Cond</th>\n",
       "      <td>0.026816</td>\n",
       "      <td>55</td>\n",
       "    </tr>\n",
       "    <tr>\n",
       "      <th>Bsmt Qual</th>\n",
       "      <td>0.026816</td>\n",
       "      <td>55</td>\n",
       "    </tr>\n",
       "    <tr>\n",
       "      <th>Mas Vnr Area</th>\n",
       "      <td>0.010726</td>\n",
       "      <td>22</td>\n",
       "    </tr>\n",
       "    <tr>\n",
       "      <th>Mas Vnr Type</th>\n",
       "      <td>0.010726</td>\n",
       "      <td>22</td>\n",
       "    </tr>\n",
       "    <tr>\n",
       "      <th>Bsmt Half Bath</th>\n",
       "      <td>0.000975</td>\n",
       "      <td>2</td>\n",
       "    </tr>\n",
       "    <tr>\n",
       "      <th>Bsmt Full Bath</th>\n",
       "      <td>0.000975</td>\n",
       "      <td>2</td>\n",
       "    </tr>\n",
       "    <tr>\n",
       "      <th>Garage Area</th>\n",
       "      <td>0.000488</td>\n",
       "      <td>1</td>\n",
       "    </tr>\n",
       "    <tr>\n",
       "      <th>Total Bsmt SF</th>\n",
       "      <td>0.000488</td>\n",
       "      <td>1</td>\n",
       "    </tr>\n",
       "    <tr>\n",
       "      <th>Bsmt Unf SF</th>\n",
       "      <td>0.000488</td>\n",
       "      <td>1</td>\n",
       "    </tr>\n",
       "    <tr>\n",
       "      <th>BsmtFin SF 2</th>\n",
       "      <td>0.000488</td>\n",
       "      <td>1</td>\n",
       "    </tr>\n",
       "    <tr>\n",
       "      <th>BsmtFin SF 1</th>\n",
       "      <td>0.000488</td>\n",
       "      <td>1</td>\n",
       "    </tr>\n",
       "    <tr>\n",
       "      <th>Garage Cars</th>\n",
       "      <td>0.000488</td>\n",
       "      <td>1</td>\n",
       "    </tr>\n",
       "  </tbody>\n",
       "</table>\n",
       "</div>"
      ],
      "text/plain": [
       "                Avg. Missing  Total Missing\n",
       "Pool QC             0.995612           2042\n",
       "Misc Feature        0.968308           1986\n",
       "Alley               0.931741           1911\n",
       "Fence               0.804973           1651\n",
       "Fireplace Qu        0.487567           1000\n",
       "Lot Frontage        0.160897            330\n",
       "Garage Finish       0.055583            114\n",
       "Garage Qual         0.055583            114\n",
       "Garage Yr Blt       0.055583            114\n",
       "Garage Cond         0.055583            114\n",
       "Garage Type         0.055095            113\n",
       "Bsmt Exposure       0.028279             58\n",
       "BsmtFin Type 2      0.027304             56\n",
       "BsmtFin Type 1      0.026816             55\n",
       "Bsmt Cond           0.026816             55\n",
       "Bsmt Qual           0.026816             55\n",
       "Mas Vnr Area        0.010726             22\n",
       "Mas Vnr Type        0.010726             22\n",
       "Bsmt Half Bath      0.000975              2\n",
       "Bsmt Full Bath      0.000975              2\n",
       "Garage Area         0.000488              1\n",
       "Total Bsmt SF       0.000488              1\n",
       "Bsmt Unf SF         0.000488              1\n",
       "BsmtFin SF 2        0.000488              1\n",
       "BsmtFin SF 1        0.000488              1\n",
       "Garage Cars         0.000488              1"
      ]
     },
     "execution_count": 16,
     "metadata": {},
     "output_type": "execute_result"
    }
   ],
   "source": [
    "# making a missing values DF\n",
    "train_missing_vals = pd.DataFrame(df_train.isnull().mean(), columns = ['Avg. Missing']).sort_values(by = 'Avg. Missing', ascending = False)\n",
    "train_missing_vals['Total Missing'] = df_train.isnull().sum()\n",
    "\n",
    "# let's see which have missing values at all --> 26 total vars have missing values > 0\n",
    "train_missing_vals[train_missing_vals['Avg. Missing'] > 0]"
   ]
  },
  {
   "cell_type": "code",
   "execution_count": 17,
   "metadata": {},
   "outputs": [
    {
     "data": {
      "image/png": "[encoded data removed]",
      "text/plain": [
       "<Figure size 1008x720 with 1 Axes>"
      ]
     },
     "metadata": {
      "needs_background": "light"
     },
     "output_type": "display_data"
    }
   ],
   "source": [
    "# graphing the number of missing values\n",
    "plt.figure(figsize = (14,10))\n",
    "plt.barh(y = train_missing_vals[train_missing_vals['Avg. Missing'] > 0].index, width = train_missing_vals[train_missing_vals['Avg. Missing'] > 0]['Avg. Missing'])\n",
    "plt.title('Average Missing Values', size = 16)\n",
    "plt.ylabel('Variable', size = 14)\n",
    "plt.xlabel('Average % Missing', size = 14);\n",
    "\n",
    "# saving\n",
    "plt.savefig('./project2_graphs/missing_vals.pdf')"
   ]
  },
  {
   "cell_type": "markdown",
   "metadata": {},
   "source": [
    "Based on the chart, it makes sense to drop: **['Fireplace Qu', 'Fence', 'Alley', 'Misc Feature', 'Pool QC'].** <br>\n",
    "For the rest, we can impute missing values using mean, median, or mode."
   ]
  },
  {
   "cell_type": "code",
   "execution_count": 18,
   "metadata": {},
   "outputs": [],
   "source": [
    "#### MAJOR ALTERATION OF KEY DATAFRAME ####\n",
    "\n",
    "# Dropping ['Fireplace Qu', 'Fence', 'Alley', 'Misc Feature', 'Pool QC'] from df_train\n",
    "\n",
    "df_train.drop(columns = ['Fireplace Qu', 'Fence', 'Alley', 'Misc Feature', 'Pool QC'], inplace = True)"
   ]
  },
  {
   "cell_type": "code",
   "execution_count": 19,
   "metadata": {},
   "outputs": [
    {
     "data": {
      "text/plain": [
       "(2051, 76)"
      ]
     },
     "execution_count": 19,
     "metadata": {},
     "output_type": "execute_result"
    }
   ],
   "source": [
    "# Verifying: 5 fewer columns\n",
    "df_train.shape"
   ]
  },
  {
   "cell_type": "code",
   "execution_count": 20,
   "metadata": {},
   "outputs": [],
   "source": [
    "# let's add another column to represent the type of variable\n",
    "train_missing_vals['Var Type'] = ['numerical' if i in numerical else 'categorical' for i in train_missing_vals.index ]\n",
    "\n",
    "# these are the variables we need to do some imputations for\n",
    "impute_vars = train_missing_vals[(train_missing_vals['Avg. Missing'] > 0) & (train_missing_vals['Avg. Missing'] < 0.4)]"
   ]
  },
  {
   "cell_type": "code",
   "execution_count": 21,
   "metadata": {},
   "outputs": [
    {
     "data": {
      "text/html": [
       "<div>\n",
       "<style scoped>\n",
       "    .dataframe tbody tr th:only-of-type {\n",
       "        vertical-align: middle;\n",
       "    }\n",
       "\n",
       "    .dataframe tbody tr th {\n",
       "        vertical-align: top;\n",
       "    }\n",
       "\n",
       "    .dataframe thead th {\n",
       "        text-align: right;\n",
       "    }\n",
       "</style>\n",
       "<table border=\"1\" class=\"dataframe\">\n",
       "  <thead>\n",
       "    <tr style=\"text-align: right;\">\n",
       "      <th></th>\n",
       "      <th>Avg. Missing</th>\n",
       "      <th>Total Missing</th>\n",
       "      <th>Var Type</th>\n",
       "    </tr>\n",
       "  </thead>\n",
       "  <tbody>\n",
       "    <tr>\n",
       "      <th>Lot Frontage</th>\n",
       "      <td>0.160897</td>\n",
       "      <td>330</td>\n",
       "      <td>numerical</td>\n",
       "    </tr>\n",
       "    <tr>\n",
       "      <th>Garage Finish</th>\n",
       "      <td>0.055583</td>\n",
       "      <td>114</td>\n",
       "      <td>categorical</td>\n",
       "    </tr>\n",
       "    <tr>\n",
       "      <th>Garage Qual</th>\n",
       "      <td>0.055583</td>\n",
       "      <td>114</td>\n",
       "      <td>categorical</td>\n",
       "    </tr>\n",
       "    <tr>\n",
       "      <th>Garage Yr Blt</th>\n",
       "      <td>0.055583</td>\n",
       "      <td>114</td>\n",
       "      <td>numerical</td>\n",
       "    </tr>\n",
       "    <tr>\n",
       "      <th>Garage Cond</th>\n",
       "      <td>0.055583</td>\n",
       "      <td>114</td>\n",
       "      <td>categorical</td>\n",
       "    </tr>\n",
       "    <tr>\n",
       "      <th>Garage Type</th>\n",
       "      <td>0.055095</td>\n",
       "      <td>113</td>\n",
       "      <td>categorical</td>\n",
       "    </tr>\n",
       "    <tr>\n",
       "      <th>Bsmt Exposure</th>\n",
       "      <td>0.028279</td>\n",
       "      <td>58</td>\n",
       "      <td>categorical</td>\n",
       "    </tr>\n",
       "    <tr>\n",
       "      <th>BsmtFin Type 2</th>\n",
       "      <td>0.027304</td>\n",
       "      <td>56</td>\n",
       "      <td>categorical</td>\n",
       "    </tr>\n",
       "    <tr>\n",
       "      <th>BsmtFin Type 1</th>\n",
       "      <td>0.026816</td>\n",
       "      <td>55</td>\n",
       "      <td>categorical</td>\n",
       "    </tr>\n",
       "    <tr>\n",
       "      <th>Bsmt Cond</th>\n",
       "      <td>0.026816</td>\n",
       "      <td>55</td>\n",
       "      <td>categorical</td>\n",
       "    </tr>\n",
       "    <tr>\n",
       "      <th>Bsmt Qual</th>\n",
       "      <td>0.026816</td>\n",
       "      <td>55</td>\n",
       "      <td>categorical</td>\n",
       "    </tr>\n",
       "    <tr>\n",
       "      <th>Mas Vnr Area</th>\n",
       "      <td>0.010726</td>\n",
       "      <td>22</td>\n",
       "      <td>numerical</td>\n",
       "    </tr>\n",
       "    <tr>\n",
       "      <th>Mas Vnr Type</th>\n",
       "      <td>0.010726</td>\n",
       "      <td>22</td>\n",
       "      <td>categorical</td>\n",
       "    </tr>\n",
       "    <tr>\n",
       "      <th>Bsmt Half Bath</th>\n",
       "      <td>0.000975</td>\n",
       "      <td>2</td>\n",
       "      <td>numerical</td>\n",
       "    </tr>\n",
       "    <tr>\n",
       "      <th>Bsmt Full Bath</th>\n",
       "      <td>0.000975</td>\n",
       "      <td>2</td>\n",
       "      <td>numerical</td>\n",
       "    </tr>\n",
       "    <tr>\n",
       "      <th>Garage Area</th>\n",
       "      <td>0.000488</td>\n",
       "      <td>1</td>\n",
       "      <td>numerical</td>\n",
       "    </tr>\n",
       "    <tr>\n",
       "      <th>Total Bsmt SF</th>\n",
       "      <td>0.000488</td>\n",
       "      <td>1</td>\n",
       "      <td>numerical</td>\n",
       "    </tr>\n",
       "    <tr>\n",
       "      <th>Bsmt Unf SF</th>\n",
       "      <td>0.000488</td>\n",
       "      <td>1</td>\n",
       "      <td>numerical</td>\n",
       "    </tr>\n",
       "    <tr>\n",
       "      <th>BsmtFin SF 2</th>\n",
       "      <td>0.000488</td>\n",
       "      <td>1</td>\n",
       "      <td>numerical</td>\n",
       "    </tr>\n",
       "    <tr>\n",
       "      <th>BsmtFin SF 1</th>\n",
       "      <td>0.000488</td>\n",
       "      <td>1</td>\n",
       "      <td>numerical</td>\n",
       "    </tr>\n",
       "    <tr>\n",
       "      <th>Garage Cars</th>\n",
       "      <td>0.000488</td>\n",
       "      <td>1</td>\n",
       "      <td>numerical</td>\n",
       "    </tr>\n",
       "  </tbody>\n",
       "</table>\n",
       "</div>"
      ],
      "text/plain": [
       "                Avg. Missing  Total Missing     Var Type\n",
       "Lot Frontage        0.160897            330    numerical\n",
       "Garage Finish       0.055583            114  categorical\n",
       "Garage Qual         0.055583            114  categorical\n",
       "Garage Yr Blt       0.055583            114    numerical\n",
       "Garage Cond         0.055583            114  categorical\n",
       "Garage Type         0.055095            113  categorical\n",
       "Bsmt Exposure       0.028279             58  categorical\n",
       "BsmtFin Type 2      0.027304             56  categorical\n",
       "BsmtFin Type 1      0.026816             55  categorical\n",
       "Bsmt Cond           0.026816             55  categorical\n",
       "Bsmt Qual           0.026816             55  categorical\n",
       "Mas Vnr Area        0.010726             22    numerical\n",
       "Mas Vnr Type        0.010726             22  categorical\n",
       "Bsmt Half Bath      0.000975              2    numerical\n",
       "Bsmt Full Bath      0.000975              2    numerical\n",
       "Garage Area         0.000488              1    numerical\n",
       "Total Bsmt SF       0.000488              1    numerical\n",
       "Bsmt Unf SF         0.000488              1    numerical\n",
       "BsmtFin SF 2        0.000488              1    numerical\n",
       "BsmtFin SF 1        0.000488              1    numerical\n",
       "Garage Cars         0.000488              1    numerical"
      ]
     },
     "execution_count": 21,
     "metadata": {},
     "output_type": "execute_result"
    }
   ],
   "source": [
    "impute_vars"
   ]
  },
  {
   "cell_type": "markdown",
   "metadata": {},
   "source": [
    "#### Imputing Categorical Variables\n",
    "For the categorical ones, I'll use the **mode** to fill in the missing values. First, I'll test it on one (with inplace = False). After confirming my code works, I will write a loop to go through **all** categorical vars in ***impute_vars*** dataframe."
   ]
  },
  {
   "cell_type": "code",
   "execution_count": 22,
   "metadata": {},
   "outputs": [
    {
     "name": "stdout",
     "output_type": "stream",
     "text": [
      "Before Impute: 849\n",
      "After Impute: 963\n",
      "The count for 'Unf' went up by 114. There were 114 missing values for this variable, so this implies that our imputation using mode works. Noice. 😎\n"
     ]
    }
   ],
   "source": [
    "# This whole test is just me testing the imputation using mode for 'Garage Finish' (a categorical var)\n",
    "print(f\"Before Impute: {df_train['Garage Finish'].value_counts()[0]}\")\n",
    "print(f\"After Impute: {df_train['Garage Finish'].fillna(value = df_train['Garage Finish'].mode()[0]).value_counts()[0]}\")\n",
    "\n",
    "print(\"The count for 'Unf' went up by 114. There were 114 missing values for this variable, so this implies that our imputation using mode works. Noice. 😎\")"
   ]
  },
  {
   "cell_type": "code",
   "execution_count": 23,
   "metadata": {},
   "outputs": [],
   "source": [
    "# Now, let's apply the above to ALL categorical variables that need imputing using the 'for' loop I wrote below:\n",
    "\n",
    "for i, val in impute_vars['Var Type'].iteritems():    # Shoutout ChatGPT for .iteritems()\n",
    "    if val == 'categorical':\n",
    "        df_train[i].fillna(value = df_train[i].mode()[0], inplace = True)"
   ]
  },
  {
   "cell_type": "code",
   "execution_count": 24,
   "metadata": {},
   "outputs": [
    {
     "data": {
      "text/plain": [
       "0"
      ]
     },
     "execution_count": 24,
     "metadata": {},
     "output_type": "execute_result"
    }
   ],
   "source": [
    "# Testing!\n",
    "df_train['Garage Qual'].isna().sum()    # missing values taken care of"
   ]
  },
  {
   "cell_type": "markdown",
   "metadata": {},
   "source": [
    "#### Imputing Numerical Variables\n",
    "This will be more tricky, since I want to first decide whether to use the mean or median. From my stats classes, I remember that typically a variable is about normal if the mean is equal to the median and mode. <br> \n",
    "To determine whether to use mean or median, I will calculate the **skewness** for each numerical value. <br>\n",
    "Per \"https://community.gooddata.com/metrics-and-maql-kb-articles-43/normality-testing-skewness-and-kurtosis-241\", skewness > 1 or < -1 indicates high level of skew, which could imply presence of outliers.\n",
    "> 1. If skewness for the variable > 1 or < -1, I will impute with the median.\n",
    "> 2. Otherwise, I'll use the mean."
   ]
  },
  {
   "cell_type": "code",
   "execution_count": 25,
   "metadata": {},
   "outputs": [
    {
     "data": {
      "text/plain": [
       "0"
      ]
     },
     "execution_count": 25,
     "metadata": {},
     "output_type": "execute_result"
    }
   ],
   "source": [
    "# testing on 'Lot Frontage' variable w/out 'inplace = True'\n",
    "df_train['Lot Frontage'].fillna(value = df_train['Lot Frontage'].mean()).isna().sum()"
   ]
  },
  {
   "cell_type": "code",
   "execution_count": 26,
   "metadata": {},
   "outputs": [],
   "source": [
    "# Like before, let's apply the .fillna() to all numerical vars\n",
    "\n",
    "for i, val in impute_vars['Var Type'].iteritems():\n",
    "    if val == 'numerical':\n",
    "        if abs(df_train[i].skew()) > 1: # highly skewed, impute w/ median\n",
    "            df_train[i].fillna(value = df_train[i].median(), inplace = True)     \n",
    "        else: # impute w/ mean\n",
    "            df_train[i].fillna(value = df_train[i].mean(), inplace = True)"
   ]
  },
  {
   "cell_type": "code",
   "execution_count": 27,
   "metadata": {},
   "outputs": [
    {
     "data": {
      "text/plain": [
       "0"
      ]
     },
     "execution_count": 27,
     "metadata": {},
     "output_type": "execute_result"
    }
   ],
   "source": [
    "# Testing!\n",
    "df_train.isna().sum().max()    # no more missing vals"
   ]
  },
  {
   "cell_type": "code",
   "execution_count": 28,
   "metadata": {},
   "outputs": [],
   "source": [
    "# Lastly, I'll also drop ID & PID since these won't be necessary for my regressions\n",
    "df_train.drop(columns = ['Id', 'PID'], inplace = True)"
   ]
  },
  {
   "cell_type": "markdown",
   "metadata": {},
   "source": [
    "---"
   ]
  },
  {
   "cell_type": "markdown",
   "metadata": {},
   "source": [
    "### Part III: Feature Processing & Engineering"
   ]
  },
  {
   "cell_type": "code",
   "execution_count": 29,
   "metadata": {},
   "outputs": [
    {
     "data": {
      "text/html": [
       "<div>\n",
       "<style scoped>\n",
       "    .dataframe tbody tr th:only-of-type {\n",
       "        vertical-align: middle;\n",
       "    }\n",
       "\n",
       "    .dataframe tbody tr th {\n",
       "        vertical-align: top;\n",
       "    }\n",
       "\n",
       "    .dataframe thead th {\n",
       "        text-align: right;\n",
       "    }\n",
       "</style>\n",
       "<table border=\"1\" class=\"dataframe\">\n",
       "  <thead>\n",
       "    <tr style=\"text-align: right;\">\n",
       "      <th></th>\n",
       "      <th>MS SubClass</th>\n",
       "      <th>MS Zoning</th>\n",
       "      <th>Lot Frontage</th>\n",
       "      <th>Lot Area</th>\n",
       "      <th>Street</th>\n",
       "      <th>Lot Shape</th>\n",
       "      <th>Land Contour</th>\n",
       "      <th>Utilities</th>\n",
       "      <th>Lot Config</th>\n",
       "      <th>Land Slope</th>\n",
       "      <th>...</th>\n",
       "      <th>Open Porch SF</th>\n",
       "      <th>Enclosed Porch</th>\n",
       "      <th>3Ssn Porch</th>\n",
       "      <th>Screen Porch</th>\n",
       "      <th>Pool Area</th>\n",
       "      <th>Misc Val</th>\n",
       "      <th>Mo Sold</th>\n",
       "      <th>Yr Sold</th>\n",
       "      <th>Sale Type</th>\n",
       "      <th>SalePrice</th>\n",
       "    </tr>\n",
       "  </thead>\n",
       "  <tbody>\n",
       "    <tr>\n",
       "      <th>0</th>\n",
       "      <td>60</td>\n",
       "      <td>RL</td>\n",
       "      <td>68.0</td>\n",
       "      <td>13517</td>\n",
       "      <td>Pave</td>\n",
       "      <td>IR1</td>\n",
       "      <td>Lvl</td>\n",
       "      <td>AllPub</td>\n",
       "      <td>CulDSac</td>\n",
       "      <td>Gtl</td>\n",
       "      <td>...</td>\n",
       "      <td>44</td>\n",
       "      <td>0</td>\n",
       "      <td>0</td>\n",
       "      <td>0</td>\n",
       "      <td>0</td>\n",
       "      <td>0</td>\n",
       "      <td>3</td>\n",
       "      <td>2010</td>\n",
       "      <td>WD</td>\n",
       "      <td>130500</td>\n",
       "    </tr>\n",
       "    <tr>\n",
       "      <th>1</th>\n",
       "      <td>60</td>\n",
       "      <td>RL</td>\n",
       "      <td>43.0</td>\n",
       "      <td>11492</td>\n",
       "      <td>Pave</td>\n",
       "      <td>IR1</td>\n",
       "      <td>Lvl</td>\n",
       "      <td>AllPub</td>\n",
       "      <td>CulDSac</td>\n",
       "      <td>Gtl</td>\n",
       "      <td>...</td>\n",
       "      <td>74</td>\n",
       "      <td>0</td>\n",
       "      <td>0</td>\n",
       "      <td>0</td>\n",
       "      <td>0</td>\n",
       "      <td>0</td>\n",
       "      <td>4</td>\n",
       "      <td>2009</td>\n",
       "      <td>WD</td>\n",
       "      <td>220000</td>\n",
       "    </tr>\n",
       "    <tr>\n",
       "      <th>2</th>\n",
       "      <td>20</td>\n",
       "      <td>RL</td>\n",
       "      <td>68.0</td>\n",
       "      <td>7922</td>\n",
       "      <td>Pave</td>\n",
       "      <td>Reg</td>\n",
       "      <td>Lvl</td>\n",
       "      <td>AllPub</td>\n",
       "      <td>Inside</td>\n",
       "      <td>Gtl</td>\n",
       "      <td>...</td>\n",
       "      <td>52</td>\n",
       "      <td>0</td>\n",
       "      <td>0</td>\n",
       "      <td>0</td>\n",
       "      <td>0</td>\n",
       "      <td>0</td>\n",
       "      <td>1</td>\n",
       "      <td>2010</td>\n",
       "      <td>WD</td>\n",
       "      <td>109000</td>\n",
       "    </tr>\n",
       "    <tr>\n",
       "      <th>3</th>\n",
       "      <td>60</td>\n",
       "      <td>RL</td>\n",
       "      <td>73.0</td>\n",
       "      <td>9802</td>\n",
       "      <td>Pave</td>\n",
       "      <td>Reg</td>\n",
       "      <td>Lvl</td>\n",
       "      <td>AllPub</td>\n",
       "      <td>Inside</td>\n",
       "      <td>Gtl</td>\n",
       "      <td>...</td>\n",
       "      <td>0</td>\n",
       "      <td>0</td>\n",
       "      <td>0</td>\n",
       "      <td>0</td>\n",
       "      <td>0</td>\n",
       "      <td>0</td>\n",
       "      <td>4</td>\n",
       "      <td>2010</td>\n",
       "      <td>WD</td>\n",
       "      <td>174000</td>\n",
       "    </tr>\n",
       "    <tr>\n",
       "      <th>4</th>\n",
       "      <td>50</td>\n",
       "      <td>RL</td>\n",
       "      <td>82.0</td>\n",
       "      <td>14235</td>\n",
       "      <td>Pave</td>\n",
       "      <td>IR1</td>\n",
       "      <td>Lvl</td>\n",
       "      <td>AllPub</td>\n",
       "      <td>Inside</td>\n",
       "      <td>Gtl</td>\n",
       "      <td>...</td>\n",
       "      <td>59</td>\n",
       "      <td>0</td>\n",
       "      <td>0</td>\n",
       "      <td>0</td>\n",
       "      <td>0</td>\n",
       "      <td>0</td>\n",
       "      <td>3</td>\n",
       "      <td>2010</td>\n",
       "      <td>WD</td>\n",
       "      <td>138500</td>\n",
       "    </tr>\n",
       "  </tbody>\n",
       "</table>\n",
       "<p>5 rows × 74 columns</p>\n",
       "</div>"
      ],
      "text/plain": [
       "   MS SubClass MS Zoning  Lot Frontage  Lot Area Street Lot Shape  \\\n",
       "0           60        RL          68.0     13517   Pave       IR1   \n",
       "1           60        RL          43.0     11492   Pave       IR1   \n",
       "2           20        RL          68.0      7922   Pave       Reg   \n",
       "3           60        RL          73.0      9802   Pave       Reg   \n",
       "4           50        RL          82.0     14235   Pave       IR1   \n",
       "\n",
       "  Land Contour Utilities Lot Config Land Slope  ... Open Porch SF  \\\n",
       "0          Lvl    AllPub    CulDSac        Gtl  ...            44   \n",
       "1          Lvl    AllPub    CulDSac        Gtl  ...            74   \n",
       "2          Lvl    AllPub     Inside        Gtl  ...            52   \n",
       "3          Lvl    AllPub     Inside        Gtl  ...             0   \n",
       "4          Lvl    AllPub     Inside        Gtl  ...            59   \n",
       "\n",
       "  Enclosed Porch 3Ssn Porch Screen Porch Pool Area  Misc Val  Mo Sold  \\\n",
       "0              0          0            0         0         0        3   \n",
       "1              0          0            0         0         0        4   \n",
       "2              0          0            0         0         0        1   \n",
       "3              0          0            0         0         0        4   \n",
       "4              0          0            0         0         0        3   \n",
       "\n",
       "   Yr Sold  Sale Type SalePrice  \n",
       "0     2010        WD     130500  \n",
       "1     2009        WD     220000  \n",
       "2     2010        WD     109000  \n",
       "3     2010        WD     174000  \n",
       "4     2010        WD     138500  \n",
       "\n",
       "[5 rows x 74 columns]"
      ]
     },
     "execution_count": 29,
     "metadata": {},
     "output_type": "execute_result"
    }
   ],
   "source": [
    "df_train.head()"
   ]
  },
  {
   "cell_type": "code",
   "execution_count": 30,
   "metadata": {},
   "outputs": [],
   "source": [
    "# Since several changes have been made, I'll recall which variables are numerical vs. categorical\n",
    "numerical = list(df_train.select_dtypes(exclude = 'object').columns)\n",
    "categorical = list(df_train.select_dtypes(include = 'object').columns)"
   ]
  },
  {
   "cell_type": "markdown",
   "metadata": {},
   "source": [
    "Before continuing, I will process some of the numerical columns first, and then move to the categorical columns."
   ]
  },
  {
   "cell_type": "markdown",
   "metadata": {},
   "source": [
    "#### Numerical"
   ]
  },
  {
   "cell_type": "code",
   "execution_count": 31,
   "metadata": {},
   "outputs": [
    {
     "data": {
      "text/html": [
       "<div>\n",
       "<style scoped>\n",
       "    .dataframe tbody tr th:only-of-type {\n",
       "        vertical-align: middle;\n",
       "    }\n",
       "\n",
       "    .dataframe tbody tr th {\n",
       "        vertical-align: top;\n",
       "    }\n",
       "\n",
       "    .dataframe thead th {\n",
       "        text-align: right;\n",
       "    }\n",
       "</style>\n",
       "<table border=\"1\" class=\"dataframe\">\n",
       "  <thead>\n",
       "    <tr style=\"text-align: right;\">\n",
       "      <th></th>\n",
       "      <th>MS SubClass</th>\n",
       "      <th>Lot Frontage</th>\n",
       "      <th>Lot Area</th>\n",
       "      <th>Overall Qual</th>\n",
       "      <th>Overall Cond</th>\n",
       "      <th>Year Built</th>\n",
       "      <th>Year Remod/Add</th>\n",
       "      <th>Mas Vnr Area</th>\n",
       "      <th>BsmtFin SF 1</th>\n",
       "      <th>BsmtFin SF 2</th>\n",
       "    </tr>\n",
       "  </thead>\n",
       "  <tbody>\n",
       "    <tr>\n",
       "      <th>0</th>\n",
       "      <td>60</td>\n",
       "      <td>68.0</td>\n",
       "      <td>13517</td>\n",
       "      <td>6</td>\n",
       "      <td>8</td>\n",
       "      <td>1976</td>\n",
       "      <td>2005</td>\n",
       "      <td>289.0</td>\n",
       "      <td>533.0</td>\n",
       "      <td>0.0</td>\n",
       "    </tr>\n",
       "    <tr>\n",
       "      <th>1</th>\n",
       "      <td>60</td>\n",
       "      <td>43.0</td>\n",
       "      <td>11492</td>\n",
       "      <td>7</td>\n",
       "      <td>5</td>\n",
       "      <td>1996</td>\n",
       "      <td>1997</td>\n",
       "      <td>132.0</td>\n",
       "      <td>637.0</td>\n",
       "      <td>0.0</td>\n",
       "    </tr>\n",
       "    <tr>\n",
       "      <th>2</th>\n",
       "      <td>20</td>\n",
       "      <td>68.0</td>\n",
       "      <td>7922</td>\n",
       "      <td>5</td>\n",
       "      <td>7</td>\n",
       "      <td>1953</td>\n",
       "      <td>2007</td>\n",
       "      <td>0.0</td>\n",
       "      <td>731.0</td>\n",
       "      <td>0.0</td>\n",
       "    </tr>\n",
       "    <tr>\n",
       "      <th>3</th>\n",
       "      <td>60</td>\n",
       "      <td>73.0</td>\n",
       "      <td>9802</td>\n",
       "      <td>5</td>\n",
       "      <td>5</td>\n",
       "      <td>2006</td>\n",
       "      <td>2007</td>\n",
       "      <td>0.0</td>\n",
       "      <td>0.0</td>\n",
       "      <td>0.0</td>\n",
       "    </tr>\n",
       "    <tr>\n",
       "      <th>4</th>\n",
       "      <td>50</td>\n",
       "      <td>82.0</td>\n",
       "      <td>14235</td>\n",
       "      <td>6</td>\n",
       "      <td>8</td>\n",
       "      <td>1900</td>\n",
       "      <td>1993</td>\n",
       "      <td>0.0</td>\n",
       "      <td>0.0</td>\n",
       "      <td>0.0</td>\n",
       "    </tr>\n",
       "  </tbody>\n",
       "</table>\n",
       "</div>"
      ],
      "text/plain": [
       "   MS SubClass  Lot Frontage  Lot Area  Overall Qual  Overall Cond  \\\n",
       "0           60          68.0     13517             6             8   \n",
       "1           60          43.0     11492             7             5   \n",
       "2           20          68.0      7922             5             7   \n",
       "3           60          73.0      9802             5             5   \n",
       "4           50          82.0     14235             6             8   \n",
       "\n",
       "   Year Built  Year Remod/Add  Mas Vnr Area  BsmtFin SF 1  BsmtFin SF 2  \n",
       "0        1976            2005         289.0         533.0           0.0  \n",
       "1        1996            1997         132.0         637.0           0.0  \n",
       "2        1953            2007           0.0         731.0           0.0  \n",
       "3        2006            2007           0.0           0.0           0.0  \n",
       "4        1900            1993           0.0           0.0           0.0  "
      ]
     },
     "execution_count": 31,
     "metadata": {},
     "output_type": "execute_result"
    }
   ],
   "source": [
    "df_train[numerical].iloc[:5,:10]"
   ]
  },
  {
   "cell_type": "code",
   "execution_count": 32,
   "metadata": {},
   "outputs": [
    {
     "data": {
      "text/plain": [
       "0       60\n",
       "1       60\n",
       "2       20\n",
       "3       60\n",
       "4       50\n",
       "        ..\n",
       "2046    20\n",
       "2047    30\n",
       "2048    50\n",
       "2049    20\n",
       "2050    60\n",
       "Name: MS SubClass, Length: 2051, dtype: object"
      ]
     },
     "execution_count": 32,
     "metadata": {},
     "output_type": "execute_result"
    }
   ],
   "source": [
    "# MS SubClass should be an 'object' instead\n",
    "df_train['MS SubClass'].astype(object)"
   ]
  },
  {
   "cell_type": "code",
   "execution_count": 33,
   "metadata": {},
   "outputs": [],
   "source": [
    "# making 'age' variables using year columns --> dataset collected in 2011, using 2011 as base\n",
    "df_train['age'] = 2011 - df_train['Year Built']\n",
    "df_train['sold_age'] = 2011 - df_train['Yr Sold']\n",
    "df_train['remodel_age'] = 2011 - df_train['Year Remod/Add']\n",
    "df_train['garage_age'] = 2011 - df_train['Garage Yr Blt']"
   ]
  },
  {
   "cell_type": "code",
   "execution_count": 34,
   "metadata": {},
   "outputs": [],
   "source": [
    "# now, dropping the year columns\n",
    "df_train.drop(columns = ['Year Built'], inplace = True)\n",
    "df_train.drop(columns = ['Yr Sold'], inplace = True)\n",
    "df_train.drop(columns = ['Year Remod/Add'], inplace = True)\n",
    "df_train.drop(columns = ['Garage Yr Blt'], inplace = True)"
   ]
  },
  {
   "cell_type": "code",
   "execution_count": 35,
   "metadata": {},
   "outputs": [],
   "source": [
    "# redefining numerical\n",
    "numerical = list(df_train.select_dtypes(exclude = 'object').columns)"
   ]
  },
  {
   "cell_type": "code",
   "execution_count": 36,
   "metadata": {},
   "outputs": [
    {
     "data": {
      "text/html": [
       "<div>\n",
       "<style scoped>\n",
       "    .dataframe tbody tr th:only-of-type {\n",
       "        vertical-align: middle;\n",
       "    }\n",
       "\n",
       "    .dataframe tbody tr th {\n",
       "        vertical-align: top;\n",
       "    }\n",
       "\n",
       "    .dataframe thead th {\n",
       "        text-align: right;\n",
       "    }\n",
       "</style>\n",
       "<table border=\"1\" class=\"dataframe\">\n",
       "  <thead>\n",
       "    <tr style=\"text-align: right;\">\n",
       "      <th></th>\n",
       "      <th>Misc Val</th>\n",
       "      <th>Mo Sold</th>\n",
       "      <th>SalePrice</th>\n",
       "      <th>age</th>\n",
       "      <th>sold_age</th>\n",
       "      <th>remodel_age</th>\n",
       "      <th>garage_age</th>\n",
       "    </tr>\n",
       "  </thead>\n",
       "  <tbody>\n",
       "    <tr>\n",
       "      <th>0</th>\n",
       "      <td>0</td>\n",
       "      <td>3</td>\n",
       "      <td>130500</td>\n",
       "      <td>35</td>\n",
       "      <td>1</td>\n",
       "      <td>6</td>\n",
       "      <td>35.0</td>\n",
       "    </tr>\n",
       "    <tr>\n",
       "      <th>1</th>\n",
       "      <td>0</td>\n",
       "      <td>4</td>\n",
       "      <td>220000</td>\n",
       "      <td>15</td>\n",
       "      <td>2</td>\n",
       "      <td>14</td>\n",
       "      <td>14.0</td>\n",
       "    </tr>\n",
       "    <tr>\n",
       "      <th>2</th>\n",
       "      <td>0</td>\n",
       "      <td>1</td>\n",
       "      <td>109000</td>\n",
       "      <td>58</td>\n",
       "      <td>1</td>\n",
       "      <td>4</td>\n",
       "      <td>58.0</td>\n",
       "    </tr>\n",
       "    <tr>\n",
       "      <th>3</th>\n",
       "      <td>0</td>\n",
       "      <td>4</td>\n",
       "      <td>174000</td>\n",
       "      <td>5</td>\n",
       "      <td>1</td>\n",
       "      <td>4</td>\n",
       "      <td>4.0</td>\n",
       "    </tr>\n",
       "    <tr>\n",
       "      <th>4</th>\n",
       "      <td>0</td>\n",
       "      <td>3</td>\n",
       "      <td>138500</td>\n",
       "      <td>111</td>\n",
       "      <td>1</td>\n",
       "      <td>18</td>\n",
       "      <td>54.0</td>\n",
       "    </tr>\n",
       "  </tbody>\n",
       "</table>\n",
       "</div>"
      ],
      "text/plain": [
       "   Misc Val  Mo Sold  SalePrice  age  sold_age  remodel_age  garage_age\n",
       "0         0        3     130500   35         1            6        35.0\n",
       "1         0        4     220000   15         2           14        14.0\n",
       "2         0        1     109000   58         1            4        58.0\n",
       "3         0        4     174000    5         1            4         4.0\n",
       "4         0        3     138500  111         1           18        54.0"
      ]
     },
     "execution_count": 36,
     "metadata": {},
     "output_type": "execute_result"
    }
   ],
   "source": [
    "df_train[numerical].iloc[:5, 30:]"
   ]
  },
  {
   "cell_type": "code",
   "execution_count": 37,
   "metadata": {},
   "outputs": [],
   "source": [
    "# Creating Binary Variables for certain home features\n",
    "# 1 = yes, 0 = no\n",
    "\n",
    "# Basement? \n",
    "df_train['basement_binary'] = [1 if i > 0 else 0 for i in df_train['Total Bsmt SF'].values]\n",
    "\n",
    "# Fireplace?\n",
    "df_train['fireplace_binary'] = [1 if i > 0 else 0 for i in df_train['Fireplaces'].values]\n",
    "\n",
    "# Garage?\n",
    "df_train['garage_binary'] = [1 if i > 0 else 0 for i in df_train['Garage Area'].values]\n",
    "\n",
    "# Wood Deck?\n",
    "df_train['wooddeck_binary'] = [1 if i > 0 else 0 for i in df_train['Wood Deck SF'].values]\n",
    "\n",
    "# TOTAL PORCH SQ_FT\n",
    "df_train['total_porch_sqft'] = df_train['Open Porch SF'] + df_train['Enclosed Porch'] + df_train['3Ssn Porch'] + df_train['Screen Porch']\n",
    "\n",
    "# Has porch? (any porch at all?)\n",
    "df_train['porch_binary'] = [1 if i > 0 else 0 for i in df_train['total_porch_sqft'].values]\n",
    "\n",
    "# Pool?\n",
    "df_train['pool_binary'] = [1 if i > 0 else 0 for i in df_train['Pool Area'].values]"
   ]
  },
  {
   "cell_type": "markdown",
   "metadata": {},
   "source": [
    "I made the above 7 variables to get a better sense of whether these features are actually present in the home or not, instead of representing every bit by numbers or square footage."
   ]
  },
  {
   "cell_type": "code",
   "execution_count": 38,
   "metadata": {},
   "outputs": [],
   "source": [
    "# redefining numerical\n",
    "numerical = list(df_train.select_dtypes(exclude = 'object').columns)"
   ]
  },
  {
   "cell_type": "markdown",
   "metadata": {},
   "source": [
    "#### Categorical"
   ]
  },
  {
   "cell_type": "code",
   "execution_count": 39,
   "metadata": {},
   "outputs": [
    {
     "data": {
      "text/html": [
       "<div>\n",
       "<style scoped>\n",
       "    .dataframe tbody tr th:only-of-type {\n",
       "        vertical-align: middle;\n",
       "    }\n",
       "\n",
       "    .dataframe tbody tr th {\n",
       "        vertical-align: top;\n",
       "    }\n",
       "\n",
       "    .dataframe thead th {\n",
       "        text-align: right;\n",
       "    }\n",
       "</style>\n",
       "<table border=\"1\" class=\"dataframe\">\n",
       "  <thead>\n",
       "    <tr style=\"text-align: right;\">\n",
       "      <th></th>\n",
       "      <th>Functional</th>\n",
       "      <th>Garage Type</th>\n",
       "      <th>Garage Finish</th>\n",
       "      <th>Garage Qual</th>\n",
       "      <th>Garage Cond</th>\n",
       "      <th>Paved Drive</th>\n",
       "      <th>Sale Type</th>\n",
       "    </tr>\n",
       "  </thead>\n",
       "  <tbody>\n",
       "    <tr>\n",
       "      <th>0</th>\n",
       "      <td>Typ</td>\n",
       "      <td>Attchd</td>\n",
       "      <td>RFn</td>\n",
       "      <td>TA</td>\n",
       "      <td>TA</td>\n",
       "      <td>Y</td>\n",
       "      <td>WD</td>\n",
       "    </tr>\n",
       "    <tr>\n",
       "      <th>1</th>\n",
       "      <td>Typ</td>\n",
       "      <td>Attchd</td>\n",
       "      <td>RFn</td>\n",
       "      <td>TA</td>\n",
       "      <td>TA</td>\n",
       "      <td>Y</td>\n",
       "      <td>WD</td>\n",
       "    </tr>\n",
       "    <tr>\n",
       "      <th>2</th>\n",
       "      <td>Typ</td>\n",
       "      <td>Detchd</td>\n",
       "      <td>Unf</td>\n",
       "      <td>TA</td>\n",
       "      <td>TA</td>\n",
       "      <td>Y</td>\n",
       "      <td>WD</td>\n",
       "    </tr>\n",
       "    <tr>\n",
       "      <th>3</th>\n",
       "      <td>Typ</td>\n",
       "      <td>BuiltIn</td>\n",
       "      <td>Fin</td>\n",
       "      <td>TA</td>\n",
       "      <td>TA</td>\n",
       "      <td>Y</td>\n",
       "      <td>WD</td>\n",
       "    </tr>\n",
       "    <tr>\n",
       "      <th>4</th>\n",
       "      <td>Typ</td>\n",
       "      <td>Detchd</td>\n",
       "      <td>Unf</td>\n",
       "      <td>TA</td>\n",
       "      <td>TA</td>\n",
       "      <td>N</td>\n",
       "      <td>WD</td>\n",
       "    </tr>\n",
       "  </tbody>\n",
       "</table>\n",
       "</div>"
      ],
      "text/plain": [
       "  Functional Garage Type Garage Finish Garage Qual Garage Cond Paved Drive  \\\n",
       "0        Typ      Attchd           RFn          TA          TA           Y   \n",
       "1        Typ      Attchd           RFn          TA          TA           Y   \n",
       "2        Typ      Detchd           Unf          TA          TA           Y   \n",
       "3        Typ     BuiltIn           Fin          TA          TA           Y   \n",
       "4        Typ      Detchd           Unf          TA          TA           N   \n",
       "\n",
       "  Sale Type  \n",
       "0       WD   \n",
       "1       WD   \n",
       "2       WD   \n",
       "3       WD   \n",
       "4       WD   "
      ]
     },
     "execution_count": 39,
     "metadata": {},
     "output_type": "execute_result"
    }
   ],
   "source": [
    "# go through the columns and observe (alter col index)\n",
    "df_train[categorical].iloc[:5, 30:]"
   ]
  },
  {
   "cell_type": "code",
   "execution_count": 40,
   "metadata": {},
   "outputs": [],
   "source": [
    "# binarize Central Air to 1 or 0 --> indicate whether house has central air\n",
    "df_train['Central Air'].replace({'Y': 1, 'N': 0}, inplace = True)"
   ]
  },
  {
   "cell_type": "code",
   "execution_count": 41,
   "metadata": {},
   "outputs": [],
   "source": [
    "# binarize Paved Drive to 1 or 0\n",
    "df_train['Paved Drive'].replace({'Y' : 1, 'P' : 1, 'N' : 0}, inplace = True)"
   ]
  },
  {
   "cell_type": "code",
   "execution_count": 42,
   "metadata": {},
   "outputs": [],
   "source": [
    "# renaming\n",
    "df_train.rename(columns = {'Central Air' : 'air_binary', 'Paved Drive' : 'paved_binary'}, inplace = True)"
   ]
  },
  {
   "cell_type": "code",
   "execution_count": 43,
   "metadata": {},
   "outputs": [],
   "source": [
    "# redefining categorical\n",
    "categorical = list(df_train.select_dtypes(include = 'object').columns)"
   ]
  },
  {
   "cell_type": "markdown",
   "metadata": {},
   "source": [
    "Binarizing the couple variables above would have made 2 new numerical vars. I will now redefine categorical, just to keep the list updated (like I did with numerical)."
   ]
  },
  {
   "cell_type": "code",
   "execution_count": 44,
   "metadata": {},
   "outputs": [
    {
     "data": {
      "text/plain": [
       "(2051, 81)"
      ]
     },
     "execution_count": 44,
     "metadata": {},
     "output_type": "execute_result"
    }
   ],
   "source": [
    "# new df_train dimensions\n",
    "df_train.shape"
   ]
  },
  {
   "cell_type": "markdown",
   "metadata": {},
   "source": [
    "Now, I will run **pd.get_dummies()** on my *categorical* variables!"
   ]
  },
  {
   "cell_type": "code",
   "execution_count": 45,
   "metadata": {},
   "outputs": [
    {
     "data": {
      "text/plain": [
       "(2051, 239)"
      ]
     },
     "execution_count": 45,
     "metadata": {},
     "output_type": "execute_result"
    }
   ],
   "source": [
    "# store into a NEW dataframe \n",
    "df_train_2 = pd.get_dummies(df_train, columns = categorical, drop_first = True)\n",
    "\n",
    "df_train_2.shape"
   ]
  },
  {
   "cell_type": "markdown",
   "metadata": {},
   "source": [
    "Great, now we have a ton of variables/features to work with. I will now move on to EDA to mostly perform correlation analysis and choose the best features."
   ]
  },
  {
   "cell_type": "markdown",
   "metadata": {},
   "source": [
    "---\n",
    "\n",
    "### Part IV: Quick EDA & Feature Selection Set 1"
   ]
  },
  {
   "cell_type": "markdown",
   "metadata": {},
   "source": [
    "**sqrt(2051) = ~ 45, target is to stay under 45 features**"
   ]
  },
  {
   "cell_type": "code",
   "execution_count": 46,
   "metadata": {},
   "outputs": [],
   "source": [
    "corrs = pd.DataFrame(df_train_2.corr()['SalePrice']).sort_values(by = 'SalePrice', ascending = False)"
   ]
  },
  {
   "cell_type": "code",
   "execution_count": 47,
   "metadata": {},
   "outputs": [
    {
     "data": {
      "text/html": [
       "<div>\n",
       "<style scoped>\n",
       "    .dataframe tbody tr th:only-of-type {\n",
       "        vertical-align: middle;\n",
       "    }\n",
       "\n",
       "    .dataframe tbody tr th {\n",
       "        vertical-align: top;\n",
       "    }\n",
       "\n",
       "    .dataframe thead th {\n",
       "        text-align: right;\n",
       "    }\n",
       "</style>\n",
       "<table border=\"1\" class=\"dataframe\">\n",
       "  <thead>\n",
       "    <tr style=\"text-align: right;\">\n",
       "      <th></th>\n",
       "      <th>SalePrice</th>\n",
       "    </tr>\n",
       "  </thead>\n",
       "  <tbody>\n",
       "    <tr>\n",
       "      <th>Overall Qual</th>\n",
       "      <td>0.800207</td>\n",
       "    </tr>\n",
       "    <tr>\n",
       "      <th>Gr Liv Area</th>\n",
       "      <td>0.697038</td>\n",
       "    </tr>\n",
       "    <tr>\n",
       "      <th>Garage Area</th>\n",
       "      <td>0.650246</td>\n",
       "    </tr>\n",
       "    <tr>\n",
       "      <th>Garage Cars</th>\n",
       "      <td>0.648197</td>\n",
       "    </tr>\n",
       "    <tr>\n",
       "      <th>Total Bsmt SF</th>\n",
       "      <td>0.628754</td>\n",
       "    </tr>\n",
       "    <tr>\n",
       "      <th>1st Flr SF</th>\n",
       "      <td>0.618486</td>\n",
       "    </tr>\n",
       "    <tr>\n",
       "      <th>Full Bath</th>\n",
       "      <td>0.537969</td>\n",
       "    </tr>\n",
       "    <tr>\n",
       "      <th>Foundation_PConc</th>\n",
       "      <td>0.529047</td>\n",
       "    </tr>\n",
       "    <tr>\n",
       "      <th>TotRms AbvGrd</th>\n",
       "      <td>0.504014</td>\n",
       "    </tr>\n",
       "    <tr>\n",
       "      <th>Mas Vnr Area</th>\n",
       "      <td>0.503579</td>\n",
       "    </tr>\n",
       "    <tr>\n",
       "      <th>Bsmt Qual_TA</th>\n",
       "      <td>-0.505320</td>\n",
       "    </tr>\n",
       "    <tr>\n",
       "      <th>garage_age</th>\n",
       "      <td>-0.516738</td>\n",
       "    </tr>\n",
       "    <tr>\n",
       "      <th>Garage Finish_Unf</th>\n",
       "      <td>-0.532545</td>\n",
       "    </tr>\n",
       "    <tr>\n",
       "      <th>Kitchen Qual_TA</th>\n",
       "      <td>-0.540860</td>\n",
       "    </tr>\n",
       "    <tr>\n",
       "      <th>remodel_age</th>\n",
       "      <td>-0.550370</td>\n",
       "    </tr>\n",
       "    <tr>\n",
       "      <th>age</th>\n",
       "      <td>-0.571849</td>\n",
       "    </tr>\n",
       "    <tr>\n",
       "      <th>Exter Qual_TA</th>\n",
       "      <td>-0.600362</td>\n",
       "    </tr>\n",
       "  </tbody>\n",
       "</table>\n",
       "</div>"
      ],
      "text/plain": [
       "                   SalePrice\n",
       "Overall Qual        0.800207\n",
       "Gr Liv Area         0.697038\n",
       "Garage Area         0.650246\n",
       "Garage Cars         0.648197\n",
       "Total Bsmt SF       0.628754\n",
       "1st Flr SF          0.618486\n",
       "Full Bath           0.537969\n",
       "Foundation_PConc    0.529047\n",
       "TotRms AbvGrd       0.504014\n",
       "Mas Vnr Area        0.503579\n",
       "Bsmt Qual_TA       -0.505320\n",
       "garage_age         -0.516738\n",
       "Garage Finish_Unf  -0.532545\n",
       "Kitchen Qual_TA    -0.540860\n",
       "remodel_age        -0.550370\n",
       "age                -0.571849\n",
       "Exter Qual_TA      -0.600362"
      ]
     },
     "execution_count": 47,
     "metadata": {},
     "output_type": "execute_result"
    }
   ],
   "source": [
    "# let's choose our first features by filtering abs(correlation) > 0.5\n",
    "corrs[(abs(corrs['SalePrice']) > 0.5) & (corrs.index != 'SalePrice')]"
   ]
  },
  {
   "cell_type": "code",
   "execution_count": 48,
   "metadata": {},
   "outputs": [
    {
     "data": {
      "image/png": "[encoded data removed]",
      "text/plain": [
       "<Figure size 576x720 with 2 Axes>"
      ]
     },
     "metadata": {
      "needs_background": "light"
     },
     "output_type": "display_data"
    }
   ],
   "source": [
    "# let's plot a heatmap of correlations and visually see any that are abs() > 0.5\n",
    "plt.figure(figsize = (8, 10))\n",
    "sns.heatmap(corrs[(abs(corrs['SalePrice']) > 0.5) & (corrs.index != 'SalePrice')], vmin = -1, vmax = 1, annot = True);"
   ]
  },
  {
   "cell_type": "code",
   "execution_count": 67,
   "metadata": {},
   "outputs": [],
   "source": [
    "# storing feature set 1 into a list\n",
    "features_1 = list(corrs[(abs(corrs['SalePrice']) > 0.5) & (corrs.index != 'SalePrice')].index)"
   ]
  },
  {
   "cell_type": "code",
   "execution_count": 68,
   "metadata": {},
   "outputs": [
    {
     "data": {
      "text/plain": [
       "['Overall Qual',\n",
       " 'Gr Liv Area',\n",
       " 'Garage Area',\n",
       " 'Garage Cars',\n",
       " 'Total Bsmt SF',\n",
       " '1st Flr SF',\n",
       " 'Full Bath',\n",
       " 'Foundation_PConc',\n",
       " 'TotRms AbvGrd',\n",
       " 'Mas Vnr Area',\n",
       " 'Bsmt Qual_TA',\n",
       " 'garage_age',\n",
       " 'Garage Finish_Unf',\n",
       " 'Kitchen Qual_TA',\n",
       " 'remodel_age',\n",
       " 'age',\n",
       " 'Exter Qual_TA']"
      ]
     },
     "execution_count": 68,
     "metadata": {},
     "output_type": "execute_result"
    }
   ],
   "source": [
    "# However, this feature set contains dummy variables, some of which are missing their complementary dummies\n",
    "# So, let's add them in as features\n",
    "features_1"
   ]
  },
  {
   "cell_type": "code",
   "execution_count": 69,
   "metadata": {},
   "outputs": [],
   "source": [
    "for i in list(df_train_2.columns): \n",
    "    if 'Foundation_' in i:\n",
    "        features_1.append(i)\n",
    "    elif 'Bsmt Qual_' in i:\n",
    "        features_1.append(i)\n",
    "    elif 'Garage Finish_' in i:\n",
    "        features_1.append(i)\n",
    "    elif 'Kitchen Qual_' in i:\n",
    "        features_1.append(i)\n",
    "    elif 'Exter Qual_' in i:\n",
    "        features_1.append(i)\n",
    "    else:\n",
    "        pass"
   ]
  },
  {
   "cell_type": "code",
   "execution_count": 85,
   "metadata": {},
   "outputs": [
    {
     "data": {
      "text/plain": [
       "['Overall Qual',\n",
       " 'Gr Liv Area',\n",
       " 'Garage Area',\n",
       " 'Garage Cars',\n",
       " 'Total Bsmt SF',\n",
       " '1st Flr SF',\n",
       " 'Full Bath',\n",
       " 'Foundation_PConc',\n",
       " 'TotRms AbvGrd',\n",
       " 'Mas Vnr Area',\n",
       " 'Bsmt Qual_TA',\n",
       " 'garage_age',\n",
       " 'Garage Finish_Unf',\n",
       " 'Kitchen Qual_TA',\n",
       " 'remodel_age',\n",
       " 'age',\n",
       " 'Exter Qual_TA',\n",
       " 'Exter Qual_Fa',\n",
       " 'Exter Qual_Gd',\n",
       " 'Exter Qual_TA',\n",
       " 'Foundation_CBlock',\n",
       " 'Foundation_PConc',\n",
       " 'Foundation_Slab',\n",
       " 'Foundation_Stone',\n",
       " 'Foundation_Wood',\n",
       " 'Bsmt Qual_Fa',\n",
       " 'Bsmt Qual_Gd',\n",
       " 'Bsmt Qual_Po',\n",
       " 'Bsmt Qual_TA',\n",
       " 'Kitchen Qual_Fa',\n",
       " 'Kitchen Qual_Gd',\n",
       " 'Kitchen Qual_TA',\n",
       " 'Garage Finish_RFn',\n",
       " 'Garage Finish_Unf']"
      ]
     },
     "execution_count": 85,
     "metadata": {},
     "output_type": "execute_result"
    }
   ],
   "source": [
    "# great, now we have a more full feature set #1\n",
    "features_1"
   ]
  },
  {
   "cell_type": "markdown",
   "metadata": {},
   "source": [
    "### Testing Feature Set 1 Performance"
   ]
  },
  {
   "cell_type": "code",
   "execution_count": 88,
   "metadata": {},
   "outputs": [],
   "source": [
    "# Let's make X & y for this first round of performance testing\n",
    "X_set1 = df_train_2[features_1]\n",
    "y_set1 = df_train_2['SalePrice']"
   ]
  },
  {
   "cell_type": "code",
   "execution_count": 99,
   "metadata": {},
   "outputs": [],
   "source": [
    "# train/test splits\n",
    "X_set1_train, X_set1_test, y_set1_train, y_set1_test = train_test_split(X_set1, y_set1, test_size = 0.2, random_state = 42) # random_state for replicability"
   ]
  },
  {
   "cell_type": "code",
   "execution_count": 100,
   "metadata": {},
   "outputs": [],
   "source": [
    "# Scaling the data\n",
    "sc = StandardScaler()\n",
    "\n",
    "# fit_transform the X_set1_train\n",
    "Z_set1_train = sc.fit_transform(X_set1_train)\n",
    "\n",
    "# just transform X_set1_test\n",
    "Z_set1_test = sc.transform(X_set1_test)"
   ]
  },
  {
   "cell_type": "markdown",
   "metadata": {},
   "source": [
    "#### 1. Model 1 - MLR"
   ]
  },
  {
   "cell_type": "code",
   "execution_count": 127,
   "metadata": {},
   "outputs": [
    {
     "data": {
      "text/html": [
       "<style>#sk-container-id-2 {color: black;background-color: white;}#sk-container-id-2 pre{padding: 0;}#sk-container-id-2 div.sk-toggleable {background-color: white;}#sk-container-id-2 label.sk-toggleable__label {cursor: pointer;display: block;width: 100%;margin-bottom: 0;padding: 0.3em;box-sizing: border-box;text-align: center;}#sk-container-id-2 label.sk-toggleable__label-arrow:before {content: \"▸\";float: left;margin-right: 0.25em;color: #696969;}#sk-container-id-2 label.sk-toggleable__label-arrow:hover:before {color: black;}#sk-container-id-2 div.sk-estimator:hover label.sk-toggleable__label-arrow:before {color: black;}#sk-container-id-2 div.sk-toggleable__content {max-height: 0;max-width: 0;overflow: hidden;text-align: left;background-color: #f0f8ff;}#sk-container-id-2 div.sk-toggleable__content pre {margin: 0.2em;color: black;border-radius: 0.25em;background-color: #f0f8ff;}#sk-container-id-2 input.sk-toggleable__control:checked~div.sk-toggleable__content {max-height: 200px;max-width: 100%;overflow: auto;}#sk-container-id-2 input.sk-toggleable__control:checked~label.sk-toggleable__label-arrow:before {content: \"▾\";}#sk-container-id-2 div.sk-estimator input.sk-toggleable__control:checked~label.sk-toggleable__label {background-color: #d4ebff;}#sk-container-id-2 div.sk-label input.sk-toggleable__control:checked~label.sk-toggleable__label {background-color: #d4ebff;}#sk-container-id-2 input.sk-hidden--visually {border: 0;clip: rect(1px 1px 1px 1px);clip: rect(1px, 1px, 1px, 1px);height: 1px;margin: -1px;overflow: hidden;padding: 0;position: absolute;width: 1px;}#sk-container-id-2 div.sk-estimator {font-family: monospace;background-color: #f0f8ff;border: 1px dotted black;border-radius: 0.25em;box-sizing: border-box;margin-bottom: 0.5em;}#sk-container-id-2 div.sk-estimator:hover {background-color: #d4ebff;}#sk-container-id-2 div.sk-parallel-item::after {content: \"\";width: 100%;border-bottom: 1px solid gray;flex-grow: 1;}#sk-container-id-2 div.sk-label:hover label.sk-toggleable__label {background-color: #d4ebff;}#sk-container-id-2 div.sk-serial::before {content: \"\";position: absolute;border-left: 1px solid gray;box-sizing: border-box;top: 0;bottom: 0;left: 50%;z-index: 0;}#sk-container-id-2 div.sk-serial {display: flex;flex-direction: column;align-items: center;background-color: white;padding-right: 0.2em;padding-left: 0.2em;position: relative;}#sk-container-id-2 div.sk-item {position: relative;z-index: 1;}#sk-container-id-2 div.sk-parallel {display: flex;align-items: stretch;justify-content: center;background-color: white;position: relative;}#sk-container-id-2 div.sk-item::before, #sk-container-id-2 div.sk-parallel-item::before {content: \"\";position: absolute;border-left: 1px solid gray;box-sizing: border-box;top: 0;bottom: 0;left: 50%;z-index: -1;}#sk-container-id-2 div.sk-parallel-item {display: flex;flex-direction: column;z-index: 1;position: relative;background-color: white;}#sk-container-id-2 div.sk-parallel-item:first-child::after {align-self: flex-end;width: 50%;}#sk-container-id-2 div.sk-parallel-item:last-child::after {align-self: flex-start;width: 50%;}#sk-container-id-2 div.sk-parallel-item:only-child::after {width: 0;}#sk-container-id-2 div.sk-dashed-wrapped {border: 1px dashed gray;margin: 0 0.4em 0.5em 0.4em;box-sizing: border-box;padding-bottom: 0.4em;background-color: white;}#sk-container-id-2 div.sk-label label {font-family: monospace;font-weight: bold;display: inline-block;line-height: 1.2em;}#sk-container-id-2 div.sk-label-container {text-align: center;}#sk-container-id-2 div.sk-container {/* jupyter's `normalize.less` sets `[hidden] { display: none; }` but bootstrap.min.css set `[hidden] { display: none !important; }` so we also need the `!important` here to be able to override the default hidden behavior on the sphinx rendered scikit-learn.org. See: https://github.com/scikit-learn/scikit-learn/issues/21755 */display: inline-block !important;position: relative;}#sk-container-id-2 div.sk-text-repr-fallback {display: none;}</style><div id=\"sk-container-id-2\" class=\"sk-top-container\"><div class=\"sk-text-repr-fallback\"><pre>LinearRegression()</pre><b>In a Jupyter environment, please rerun this cell to show the HTML representation or trust the notebook. <br />On GitHub, the HTML representation is unable to render, please try loading this page with nbviewer.org.</b></div><div class=\"sk-container\" hidden><div class=\"sk-item\"><div class=\"sk-estimator sk-toggleable\"><input class=\"sk-toggleable__control sk-hidden--visually\" id=\"sk-estimator-id-2\" type=\"checkbox\" checked><label for=\"sk-estimator-id-2\" class=\"sk-toggleable__label sk-toggleable__label-arrow\">LinearRegression</label><div class=\"sk-toggleable__content\"><pre>LinearRegression()</pre></div></div></div></div></div>"
      ],
      "text/plain": [
       "LinearRegression()"
      ]
     },
     "execution_count": 127,
     "metadata": {},
     "output_type": "execute_result"
    }
   ],
   "source": [
    "# instantiate model\n",
    "model1_lr = LinearRegression()\n",
    "\n",
    "# fit the model on transformed TRAIN data\n",
    "model1_lr.fit(Z_set1_train, y_set1_train)"
   ]
  },
  {
   "cell_type": "code",
   "execution_count": 128,
   "metadata": {},
   "outputs": [
    {
     "name": "stdout",
     "output_type": "stream",
     "text": [
      "LinearRegression - Training Score: 0.827\n",
      "LinearRegression - Test Score: 0.8738\n"
     ]
    }
   ],
   "source": [
    "print(f\"LinearRegression - Training Score: {round(model1_lr.score(Z_set1_train, y_set1_train), 4)}\")\n",
    "print(f\"LinearRegression - Test Score: {round(model1_lr.score(Z_set1_test, y_set1_test), 4)}\")"
   ]
  },
  {
   "cell_type": "markdown",
   "metadata": {},
   "source": [
    "These R2 scores seem encouraging, though I am a bit skeptical that the model performed better on the test set that it did on the training set. <br>\n",
    "Since the data has been scaled, the coefficients aren't much use to us from an interpretability standpoint, so making inferences will be difficult. <br> \n",
    "However, the model may have some merit for predictive purposes."
   ]
  },
  {
   "cell_type": "code",
   "execution_count": 137,
   "metadata": {},
   "outputs": [],
   "source": [
    "# Now, let's predict y's using the testing set and observe the RMSE\n",
    "y_set1_preds = model1_lr.predict(Z_set1_test)"
   ]
  },
  {
   "cell_type": "code",
   "execution_count": 141,
   "metadata": {},
   "outputs": [
    {
     "data": {
      "text/plain": [
       "27377.863294855182"
      ]
     },
     "execution_count": 141,
     "metadata": {},
     "output_type": "execute_result"
    }
   ],
   "source": [
    "# RMSE\n",
    "mean_squared_error(y_set1_test, y_set1_preds, squared = False )"
   ]
  },
  {
   "cell_type": "code",
   "execution_count": 146,
   "metadata": {},
   "outputs": [],
   "source": [
    "# storing evaluation metrics for this model\n",
    "model1_lr_scores = {\"Training\": round(model1_lr.score(Z_set1_train, y_set1_train), 4),\n",
    "                   \"Test\": round(model1_lr.score(Z_set1_test, y_set1_test), 4),\n",
    "                   \"RMSE\": round(mean_squared_error(y_set1_test, y_set1_preds, squared = False ), 2)} "
   ]
  },
  {
   "cell_type": "code",
   "execution_count": null,
   "metadata": {},
   "outputs": [],
   "source": []
  },
  {
   "cell_type": "code",
   "execution_count": null,
   "metadata": {},
   "outputs": [],
   "source": []
  },
  {
   "cell_type": "markdown",
   "metadata": {},
   "source": [
    "# CLEANING UP THE TEST DATA CSV"
   ]
  },
  {
   "cell_type": "code",
   "execution_count": 150,
   "metadata": {},
   "outputs": [
    {
     "ename": "KeyError",
     "evalue": "'Id'",
     "output_type": "error",
     "traceback": [
      "\u001b[0;31m---------------------------------------------------------------------------\u001b[0m",
      "\u001b[0;31mKeyError\u001b[0m                                  Traceback (most recent call last)",
      "\u001b[0;32m/opt/anaconda3/lib/python3.8/site-packages/pandas/core/indexes/base.py\u001b[0m in \u001b[0;36mget_loc\u001b[0;34m(self, key, method, tolerance)\u001b[0m\n\u001b[1;32m   3801\u001b[0m             \u001b[0;32mtry\u001b[0m\u001b[0;34m:\u001b[0m\u001b[0;34m\u001b[0m\u001b[0;34m\u001b[0m\u001b[0m\n\u001b[0;32m-> 3802\u001b[0;31m                 \u001b[0;32mreturn\u001b[0m \u001b[0mself\u001b[0m\u001b[0;34m.\u001b[0m\u001b[0m_engine\u001b[0m\u001b[0;34m.\u001b[0m\u001b[0mget_loc\u001b[0m\u001b[0;34m(\u001b[0m\u001b[0mcasted_key\u001b[0m\u001b[0;34m)\u001b[0m\u001b[0;34m\u001b[0m\u001b[0;34m\u001b[0m\u001b[0m\n\u001b[0m\u001b[1;32m   3803\u001b[0m             \u001b[0;32mexcept\u001b[0m \u001b[0mKeyError\u001b[0m \u001b[0;32mas\u001b[0m \u001b[0merr\u001b[0m\u001b[0;34m:\u001b[0m\u001b[0;34m\u001b[0m\u001b[0;34m\u001b[0m\u001b[0m\n",
      "\u001b[0;32m/opt/anaconda3/lib/python3.8/site-packages/pandas/_libs/index.pyx\u001b[0m in \u001b[0;36mpandas._libs.index.IndexEngine.get_loc\u001b[0;34m()\u001b[0m\n",
      "\u001b[0;32m/opt/anaconda3/lib/python3.8/site-packages/pandas/_libs/index.pyx\u001b[0m in \u001b[0;36mpandas._libs.index.IndexEngine.get_loc\u001b[0;34m()\u001b[0m\n",
      "\u001b[0;32mpandas/_libs/hashtable_class_helper.pxi\u001b[0m in \u001b[0;36mpandas._libs.hashtable.PyObjectHashTable.get_item\u001b[0;34m()\u001b[0m\n",
      "\u001b[0;32mpandas/_libs/hashtable_class_helper.pxi\u001b[0m in \u001b[0;36mpandas._libs.hashtable.PyObjectHashTable.get_item\u001b[0;34m()\u001b[0m\n",
      "\u001b[0;31mKeyError\u001b[0m: 'Id'",
      "\nThe above exception was the direct cause of the following exception:\n",
      "\u001b[0;31mKeyError\u001b[0m                                  Traceback (most recent call last)",
      "\u001b[0;32m<ipython-input-150-a36940139711>\u001b[0m in \u001b[0;36m<module>\u001b[0;34m\u001b[0m\n\u001b[1;32m      7\u001b[0m \u001b[0;34m\u001b[0m\u001b[0m\n\u001b[1;32m      8\u001b[0m \u001b[0;31m# Great, now I can convert both\u001b[0m\u001b[0;34m\u001b[0m\u001b[0;34m\u001b[0m\u001b[0;34m\u001b[0m\u001b[0m\n\u001b[0;32m----> 9\u001b[0;31m \u001b[0mdf_test\u001b[0m\u001b[0;34m[\u001b[0m\u001b[0;34m'Id'\u001b[0m\u001b[0;34m]\u001b[0m \u001b[0;34m=\u001b[0m \u001b[0mdf_test\u001b[0m\u001b[0;34m[\u001b[0m\u001b[0;34m'Id'\u001b[0m\u001b[0;34m]\u001b[0m\u001b[0;34m.\u001b[0m\u001b[0mastype\u001b[0m\u001b[0;34m(\u001b[0m\u001b[0mobject\u001b[0m\u001b[0;34m)\u001b[0m\u001b[0;34m\u001b[0m\u001b[0;34m\u001b[0m\u001b[0m\n\u001b[0m\u001b[1;32m     10\u001b[0m \u001b[0mdf_test\u001b[0m\u001b[0;34m[\u001b[0m\u001b[0;34m'PID'\u001b[0m\u001b[0;34m]\u001b[0m \u001b[0;34m=\u001b[0m \u001b[0mdf_test\u001b[0m\u001b[0;34m[\u001b[0m\u001b[0;34m'PID'\u001b[0m\u001b[0;34m]\u001b[0m\u001b[0;34m.\u001b[0m\u001b[0mastype\u001b[0m\u001b[0;34m(\u001b[0m\u001b[0mobject\u001b[0m\u001b[0;34m)\u001b[0m\u001b[0;34m\u001b[0m\u001b[0;34m\u001b[0m\u001b[0m\n\u001b[1;32m     11\u001b[0m \u001b[0;34m\u001b[0m\u001b[0m\n",
      "\u001b[0;32m/opt/anaconda3/lib/python3.8/site-packages/pandas/core/frame.py\u001b[0m in \u001b[0;36m__getitem__\u001b[0;34m(self, key)\u001b[0m\n\u001b[1;32m   3805\u001b[0m             \u001b[0;32mif\u001b[0m \u001b[0mself\u001b[0m\u001b[0;34m.\u001b[0m\u001b[0mcolumns\u001b[0m\u001b[0;34m.\u001b[0m\u001b[0mnlevels\u001b[0m \u001b[0;34m>\u001b[0m \u001b[0;36m1\u001b[0m\u001b[0;34m:\u001b[0m\u001b[0;34m\u001b[0m\u001b[0;34m\u001b[0m\u001b[0m\n\u001b[1;32m   3806\u001b[0m                 \u001b[0;32mreturn\u001b[0m \u001b[0mself\u001b[0m\u001b[0;34m.\u001b[0m\u001b[0m_getitem_multilevel\u001b[0m\u001b[0;34m(\u001b[0m\u001b[0mkey\u001b[0m\u001b[0;34m)\u001b[0m\u001b[0;34m\u001b[0m\u001b[0;34m\u001b[0m\u001b[0m\n\u001b[0;32m-> 3807\u001b[0;31m             \u001b[0mindexer\u001b[0m \u001b[0;34m=\u001b[0m \u001b[0mself\u001b[0m\u001b[0;34m.\u001b[0m\u001b[0mcolumns\u001b[0m\u001b[0;34m.\u001b[0m\u001b[0mget_loc\u001b[0m\u001b[0;34m(\u001b[0m\u001b[0mkey\u001b[0m\u001b[0;34m)\u001b[0m\u001b[0;34m\u001b[0m\u001b[0;34m\u001b[0m\u001b[0m\n\u001b[0m\u001b[1;32m   3808\u001b[0m             \u001b[0;32mif\u001b[0m \u001b[0mis_integer\u001b[0m\u001b[0;34m(\u001b[0m\u001b[0mindexer\u001b[0m\u001b[0;34m)\u001b[0m\u001b[0;34m:\u001b[0m\u001b[0;34m\u001b[0m\u001b[0;34m\u001b[0m\u001b[0m\n\u001b[1;32m   3809\u001b[0m                 \u001b[0mindexer\u001b[0m \u001b[0;34m=\u001b[0m \u001b[0;34m[\u001b[0m\u001b[0mindexer\u001b[0m\u001b[0;34m]\u001b[0m\u001b[0;34m\u001b[0m\u001b[0;34m\u001b[0m\u001b[0m\n",
      "\u001b[0;32m/opt/anaconda3/lib/python3.8/site-packages/pandas/core/indexes/base.py\u001b[0m in \u001b[0;36mget_loc\u001b[0;34m(self, key, method, tolerance)\u001b[0m\n\u001b[1;32m   3802\u001b[0m                 \u001b[0;32mreturn\u001b[0m \u001b[0mself\u001b[0m\u001b[0;34m.\u001b[0m\u001b[0m_engine\u001b[0m\u001b[0;34m.\u001b[0m\u001b[0mget_loc\u001b[0m\u001b[0;34m(\u001b[0m\u001b[0mcasted_key\u001b[0m\u001b[0;34m)\u001b[0m\u001b[0;34m\u001b[0m\u001b[0;34m\u001b[0m\u001b[0m\n\u001b[1;32m   3803\u001b[0m             \u001b[0;32mexcept\u001b[0m \u001b[0mKeyError\u001b[0m \u001b[0;32mas\u001b[0m \u001b[0merr\u001b[0m\u001b[0;34m:\u001b[0m\u001b[0;34m\u001b[0m\u001b[0;34m\u001b[0m\u001b[0m\n\u001b[0;32m-> 3804\u001b[0;31m                 \u001b[0;32mraise\u001b[0m \u001b[0mKeyError\u001b[0m\u001b[0;34m(\u001b[0m\u001b[0mkey\u001b[0m\u001b[0;34m)\u001b[0m \u001b[0;32mfrom\u001b[0m \u001b[0merr\u001b[0m\u001b[0;34m\u001b[0m\u001b[0;34m\u001b[0m\u001b[0m\n\u001b[0m\u001b[1;32m   3805\u001b[0m             \u001b[0;32mexcept\u001b[0m \u001b[0mTypeError\u001b[0m\u001b[0;34m:\u001b[0m\u001b[0;34m\u001b[0m\u001b[0;34m\u001b[0m\u001b[0m\n\u001b[1;32m   3806\u001b[0m                 \u001b[0;31m# If we have a listlike key, _check_indexing_error will raise\u001b[0m\u001b[0;34m\u001b[0m\u001b[0;34m\u001b[0m\u001b[0;34m\u001b[0m\u001b[0m\n",
      "\u001b[0;31mKeyError\u001b[0m: 'Id'"
     ]
    }
   ],
   "source": [
    "### SETTING UP SAME CLEANING PROCESS FOR TEST.CSV ###\n",
    "\n",
    "# sigh, had to use ChatGPT already\n",
    "numerical_test = list(df_test.select_dtypes(exclude = 'object').columns)\n",
    "categorical_test = list(df_test.select_dtypes(include = 'object').columns)\n",
    "\n",
    "\n",
    "# Great, now I can convert both\n",
    "df_test['Id'] = df_test['Id'].astype(object)\n",
    "df_test['PID'] = df_test['PID'].astype(object)\n",
    "\n",
    "# Now, recall Numerical & Categorical lists to update them\n",
    "numerical_test = list(df_test.select_dtypes(exclude = 'object').columns)    # ID, PID removed\n",
    "categorical_test = list(df_test.select_dtypes(include = 'object').columns)    # ID, PID added\n",
    "\n",
    "\n",
    "\n",
    "# making a missing values DF\n",
    "test_missing_vals = pd.DataFrame(df_test.isnull().mean(), columns = ['Avg. Missing']).sort_values(by = 'Avg. Missing', ascending = False)\n",
    "test_missing_vals['Total Missing'] = df_test.isnull().sum()\n",
    "\n",
    "# let's see which have missing values at all --> 26 total vars have missing values > 0\n",
    "test_missing_vals[test_missing_vals['Avg. Missing'] > 0]\n",
    "\n",
    "\n",
    "\n",
    "df_test.drop(columns = ['Fireplace Qu', 'Fence', 'Alley', 'Misc Feature', 'Pool QC'], inplace = True)\n",
    "\n",
    "\n",
    "# let's add another column to represent the type of variable\n",
    "test_missing_vals['Var Type'] = ['numerical' if i in numerical else 'categorical' for i in test_missing_vals.index ]\n",
    "\n",
    "# these are the variables we need to do some imputations for\n",
    "impute_vars_test = test_missing_vals[(test_missing_vals['Avg. Missing'] > 0) & (test_missing_vals['Avg. Missing'] < 0.4)]\n",
    "\n",
    "\n",
    "\n",
    "for i, val in impute_vars_test['Var Type'].iteritems():    # Shoutout ChatGPT for .iteritems()\n",
    "    if val == 'categorical':\n",
    "        df_test[i].fillna(value = df_test[i].mode()[0], inplace = True)\n",
    "        \n",
    "        \n",
    "        \n",
    "for i, val in impute_vars['Var Type'].iteritems():\n",
    "    if val == 'numerical':\n",
    "        if abs(df_test[i].skew()) > 1: # highly skewed, impute w/ median\n",
    "            df_test[i].fillna(value = df_test[i].median(), inplace = True)     \n",
    "        else: # impute w/ mean\n",
    "            df_test[i].fillna(value = df_test[i].mean(), inplace = True)\n",
    "            \n",
    "            \n",
    "df_test.drop(columns = ['Id', 'PID'], inplace = True)\n",
    "\n",
    "\n",
    "\n",
    "df_test['MS SubClass'].astype(object)\n",
    "\n",
    "\n",
    "df_test['age'] = 2011 - df_test['Year Built']\n",
    "df_test['sold_age'] = 2011 - df_test['Yr Sold']\n",
    "df_test['remodel_age'] = 2011 - df_test['Year Remod/Add']\n",
    "df_test['garage_age'] = 2011 - df_test['Garage Yr Blt']\n",
    "\n",
    "\n",
    "\n",
    "\n",
    "\n",
    "df_test.drop(columns = ['Year Built'], inplace = True)\n",
    "df_test.drop(columns = ['Yr Sold'], inplace = True)\n",
    "df_test.drop(columns = ['Year Remod/Add'], inplace = True)\n",
    "df_test.drop(columns = ['Garage Yr Blt'], inplace = True)\n",
    "\n",
    "\n",
    "\n",
    "\n",
    "\n",
    "\n",
    "\n",
    "# Creating Binary Variables for certain home features\n",
    "# 1 = yes, 0 = no\n",
    "\n",
    "# Basement? \n",
    "df_test['basement_binary'] = [1 if i > 0 else 0 for i in df_test['Total Bsmt SF'].values]\n",
    "\n",
    "# Fireplace?\n",
    "df_test['fireplace_binary'] = [1 if i > 0 else 0 for i in df_test['Fireplaces'].values]\n",
    "\n",
    "# Garage?\n",
    "df_test['garage_binary'] = [1 if i > 0 else 0 for i in df_test['Garage Area'].values]\n",
    "\n",
    "# Wood Deck?\n",
    "df_test['wooddeck_binary'] = [1 if i > 0 else 0 for i in df_test['Wood Deck SF'].values]\n",
    "\n",
    "# TOTAL PORCH SQ_FT\n",
    "df_test['total_porch_sqft'] = df_test['Open Porch SF'] + df_test['Enclosed Porch'] + df_test['3Ssn Porch'] + df_test['Screen Porch']\n",
    "\n",
    "# Has porch? (any porch at all?)\n",
    "df_test['porch_binary'] = [1 if i > 0 else 0 for i in df_test['total_porch_sqft'].values]\n",
    "\n",
    "# Pool?\n",
    "df_test['pool_binary'] = [1 if i > 0 else 0 for i in df_test['Pool Area'].values]\n",
    "\n",
    "\n",
    "\n",
    "\n",
    "\n",
    "df_test['Central Air'].replace({'Y': 1, 'N': 0}, inplace = True)\n",
    "df_test['Paved Drive'].replace({'Y' : 1, 'P' : 1, 'N' : 0}, inplace = True)\n",
    "df_test.rename(columns = {'Central Air' : 'air_binary', 'Paved Drive' : 'paved_binary'}, inplace = True)\n",
    "\n",
    "\n"
   ]
  },
  {
   "cell_type": "code",
   "execution_count": null,
   "metadata": {},
   "outputs": [],
   "source": []
  },
  {
   "cell_type": "code",
   "execution_count": 152,
   "metadata": {},
   "outputs": [],
   "source": [
    "# redefine numerical and categorical for test\n",
    "numerical_test = list(df_test.select_dtypes(exclude = 'object').columns)   \n",
    "categorical_test = list(df_test.select_dtypes(include = 'object').columns) "
   ]
  },
  {
   "cell_type": "code",
   "execution_count": 165,
   "metadata": {},
   "outputs": [
    {
     "data": {
      "text/plain": [
       "['MS Zoning',\n",
       " 'Street',\n",
       " 'Lot Shape',\n",
       " 'Land Contour',\n",
       " 'Utilities',\n",
       " 'Lot Config',\n",
       " 'Land Slope',\n",
       " 'Neighborhood',\n",
       " 'Condition 1',\n",
       " 'Condition 2',\n",
       " 'Bldg Type',\n",
       " 'House Style',\n",
       " 'Roof Style',\n",
       " 'Roof Matl',\n",
       " 'Exterior 1st',\n",
       " 'Exterior 2nd',\n",
       " 'Mas Vnr Type',\n",
       " 'Exter Qual',\n",
       " 'Exter Cond',\n",
       " 'Foundation',\n",
       " 'Bsmt Qual',\n",
       " 'Bsmt Cond',\n",
       " 'Bsmt Exposure',\n",
       " 'BsmtFin Type 1',\n",
       " 'BsmtFin Type 2',\n",
       " 'Heating',\n",
       " 'Heating QC',\n",
       " 'Electrical',\n",
       " 'Kitchen Qual',\n",
       " 'Functional',\n",
       " 'Garage Type',\n",
       " 'Garage Finish',\n",
       " 'Garage Qual',\n",
       " 'Garage Cond',\n",
       " 'Sale Type']"
      ]
     },
     "execution_count": 165,
     "metadata": {},
     "output_type": "execute_result"
    }
   ],
   "source": [
    "categorical_test"
   ]
  },
  {
   "cell_type": "code",
   "execution_count": 163,
   "metadata": {},
   "outputs": [],
   "source": [
    "df_test_2 = pd.get_dummies(df_test, columns = categorical_test, drop_first = True)\n"
   ]
  },
  {
   "cell_type": "code",
   "execution_count": 164,
   "metadata": {},
   "outputs": [
    {
     "ename": "KeyError",
     "evalue": "\"['SalePrice', 'MS Zoning_C (all)', 'Utilities_NoSeWa', 'Neighborhood_GrnHill', 'Neighborhood_Landmrk', 'Condition 2_Feedr', 'Condition 2_PosN', 'Condition 2_RRAe', 'Condition 2_RRAn', 'Condition 2_RRNn', 'Roof Matl_CompShg', 'Roof Matl_Membran', 'Exterior 1st_CBlock', 'Exterior 1st_ImStucc', 'Exterior 1st_Stone', 'Exterior 2nd_Stone', 'Bsmt Cond_Fa', 'Bsmt Cond_Po', 'Heating_OthW', 'Heating_Wall', 'Heating QC_Po', 'Electrical_Mix', 'Functional_Sal', 'Functional_Sev', 'Garage Qual_Fa'] not in index\"",
     "output_type": "error",
     "traceback": [
      "\u001b[0;31m---------------------------------------------------------------------------\u001b[0m",
      "\u001b[0;31mKeyError\u001b[0m                                  Traceback (most recent call last)",
      "\u001b[0;32m<ipython-input-164-95fbeff761a7>\u001b[0m in \u001b[0;36m<module>\u001b[0;34m\u001b[0m\n\u001b[0;32m----> 1\u001b[0;31m \u001b[0mdf_test_2\u001b[0m\u001b[0;34m[\u001b[0m\u001b[0mlist\u001b[0m\u001b[0;34m(\u001b[0m\u001b[0mdf_train_2\u001b[0m\u001b[0;34m.\u001b[0m\u001b[0mcolumns\u001b[0m\u001b[0;34m)\u001b[0m\u001b[0;34m]\u001b[0m\u001b[0;34m\u001b[0m\u001b[0;34m\u001b[0m\u001b[0m\n\u001b[0m",
      "\u001b[0;32m/opt/anaconda3/lib/python3.8/site-packages/pandas/core/frame.py\u001b[0m in \u001b[0;36m__getitem__\u001b[0;34m(self, key)\u001b[0m\n\u001b[1;32m   3811\u001b[0m             \u001b[0;32mif\u001b[0m \u001b[0mis_iterator\u001b[0m\u001b[0;34m(\u001b[0m\u001b[0mkey\u001b[0m\u001b[0;34m)\u001b[0m\u001b[0;34m:\u001b[0m\u001b[0;34m\u001b[0m\u001b[0;34m\u001b[0m\u001b[0m\n\u001b[1;32m   3812\u001b[0m                 \u001b[0mkey\u001b[0m \u001b[0;34m=\u001b[0m \u001b[0mlist\u001b[0m\u001b[0;34m(\u001b[0m\u001b[0mkey\u001b[0m\u001b[0;34m)\u001b[0m\u001b[0;34m\u001b[0m\u001b[0;34m\u001b[0m\u001b[0m\n\u001b[0;32m-> 3813\u001b[0;31m             \u001b[0mindexer\u001b[0m \u001b[0;34m=\u001b[0m \u001b[0mself\u001b[0m\u001b[0;34m.\u001b[0m\u001b[0mcolumns\u001b[0m\u001b[0;34m.\u001b[0m\u001b[0m_get_indexer_strict\u001b[0m\u001b[0;34m(\u001b[0m\u001b[0mkey\u001b[0m\u001b[0;34m,\u001b[0m \u001b[0;34m\"columns\"\u001b[0m\u001b[0;34m)\u001b[0m\u001b[0;34m[\u001b[0m\u001b[0;36m1\u001b[0m\u001b[0;34m]\u001b[0m\u001b[0;34m\u001b[0m\u001b[0;34m\u001b[0m\u001b[0m\n\u001b[0m\u001b[1;32m   3814\u001b[0m \u001b[0;34m\u001b[0m\u001b[0m\n\u001b[1;32m   3815\u001b[0m         \u001b[0;31m# take() does not accept boolean indexers\u001b[0m\u001b[0;34m\u001b[0m\u001b[0;34m\u001b[0m\u001b[0;34m\u001b[0m\u001b[0m\n",
      "\u001b[0;32m/opt/anaconda3/lib/python3.8/site-packages/pandas/core/indexes/base.py\u001b[0m in \u001b[0;36m_get_indexer_strict\u001b[0;34m(self, key, axis_name)\u001b[0m\n\u001b[1;32m   6068\u001b[0m             \u001b[0mkeyarr\u001b[0m\u001b[0;34m,\u001b[0m \u001b[0mindexer\u001b[0m\u001b[0;34m,\u001b[0m \u001b[0mnew_indexer\u001b[0m \u001b[0;34m=\u001b[0m \u001b[0mself\u001b[0m\u001b[0;34m.\u001b[0m\u001b[0m_reindex_non_unique\u001b[0m\u001b[0;34m(\u001b[0m\u001b[0mkeyarr\u001b[0m\u001b[0;34m)\u001b[0m\u001b[0;34m\u001b[0m\u001b[0;34m\u001b[0m\u001b[0m\n\u001b[1;32m   6069\u001b[0m \u001b[0;34m\u001b[0m\u001b[0m\n\u001b[0;32m-> 6070\u001b[0;31m         \u001b[0mself\u001b[0m\u001b[0;34m.\u001b[0m\u001b[0m_raise_if_missing\u001b[0m\u001b[0;34m(\u001b[0m\u001b[0mkeyarr\u001b[0m\u001b[0;34m,\u001b[0m \u001b[0mindexer\u001b[0m\u001b[0;34m,\u001b[0m \u001b[0maxis_name\u001b[0m\u001b[0;34m)\u001b[0m\u001b[0;34m\u001b[0m\u001b[0;34m\u001b[0m\u001b[0m\n\u001b[0m\u001b[1;32m   6071\u001b[0m \u001b[0;34m\u001b[0m\u001b[0m\n\u001b[1;32m   6072\u001b[0m         \u001b[0mkeyarr\u001b[0m \u001b[0;34m=\u001b[0m \u001b[0mself\u001b[0m\u001b[0;34m.\u001b[0m\u001b[0mtake\u001b[0m\u001b[0;34m(\u001b[0m\u001b[0mindexer\u001b[0m\u001b[0;34m)\u001b[0m\u001b[0;34m\u001b[0m\u001b[0;34m\u001b[0m\u001b[0m\n",
      "\u001b[0;32m/opt/anaconda3/lib/python3.8/site-packages/pandas/core/indexes/base.py\u001b[0m in \u001b[0;36m_raise_if_missing\u001b[0;34m(self, key, indexer, axis_name)\u001b[0m\n\u001b[1;32m   6131\u001b[0m \u001b[0;34m\u001b[0m\u001b[0m\n\u001b[1;32m   6132\u001b[0m             \u001b[0mnot_found\u001b[0m \u001b[0;34m=\u001b[0m \u001b[0mlist\u001b[0m\u001b[0;34m(\u001b[0m\u001b[0mensure_index\u001b[0m\u001b[0;34m(\u001b[0m\u001b[0mkey\u001b[0m\u001b[0;34m)\u001b[0m\u001b[0;34m[\u001b[0m\u001b[0mmissing_mask\u001b[0m\u001b[0;34m.\u001b[0m\u001b[0mnonzero\u001b[0m\u001b[0;34m(\u001b[0m\u001b[0;34m)\u001b[0m\u001b[0;34m[\u001b[0m\u001b[0;36m0\u001b[0m\u001b[0;34m]\u001b[0m\u001b[0;34m]\u001b[0m\u001b[0;34m.\u001b[0m\u001b[0munique\u001b[0m\u001b[0;34m(\u001b[0m\u001b[0;34m)\u001b[0m\u001b[0;34m)\u001b[0m\u001b[0;34m\u001b[0m\u001b[0;34m\u001b[0m\u001b[0m\n\u001b[0;32m-> 6133\u001b[0;31m             \u001b[0;32mraise\u001b[0m \u001b[0mKeyError\u001b[0m\u001b[0;34m(\u001b[0m\u001b[0;34mf\"{not_found} not in index\"\u001b[0m\u001b[0;34m)\u001b[0m\u001b[0;34m\u001b[0m\u001b[0;34m\u001b[0m\u001b[0m\n\u001b[0m\u001b[1;32m   6134\u001b[0m \u001b[0;34m\u001b[0m\u001b[0m\n\u001b[1;32m   6135\u001b[0m     \u001b[0;34m@\u001b[0m\u001b[0moverload\u001b[0m\u001b[0;34m\u001b[0m\u001b[0;34m\u001b[0m\u001b[0m\n",
      "\u001b[0;31mKeyError\u001b[0m: \"['SalePrice', 'MS Zoning_C (all)', 'Utilities_NoSeWa', 'Neighborhood_GrnHill', 'Neighborhood_Landmrk', 'Condition 2_Feedr', 'Condition 2_PosN', 'Condition 2_RRAe', 'Condition 2_RRAn', 'Condition 2_RRNn', 'Roof Matl_CompShg', 'Roof Matl_Membran', 'Exterior 1st_CBlock', 'Exterior 1st_ImStucc', 'Exterior 1st_Stone', 'Exterior 2nd_Stone', 'Bsmt Cond_Fa', 'Bsmt Cond_Po', 'Heating_OthW', 'Heating_Wall', 'Heating QC_Po', 'Electrical_Mix', 'Functional_Sal', 'Functional_Sev', 'Garage Qual_Fa'] not in index\""
     ]
    }
   ],
   "source": [
    "df_test_2[list(df_train_2.columns)]"
   ]
  },
  {
   "cell_type": "code",
   "execution_count": 161,
   "metadata": {},
   "outputs": [
    {
     "data": {
      "text/plain": [
       "['MS SubClass',\n",
       " 'Lot Frontage',\n",
       " 'Lot Area',\n",
       " 'Overall Qual',\n",
       " 'Overall Cond',\n",
       " 'Mas Vnr Area',\n",
       " 'BsmtFin SF 1',\n",
       " 'BsmtFin SF 2',\n",
       " 'Bsmt Unf SF',\n",
       " 'Total Bsmt SF',\n",
       " 'air_binary',\n",
       " '1st Flr SF',\n",
       " '2nd Flr SF',\n",
       " 'Low Qual Fin SF',\n",
       " 'Gr Liv Area',\n",
       " 'Bsmt Full Bath',\n",
       " 'Bsmt Half Bath',\n",
       " 'Full Bath',\n",
       " 'Half Bath',\n",
       " 'Bedroom AbvGr',\n",
       " 'Kitchen AbvGr',\n",
       " 'TotRms AbvGrd',\n",
       " 'Fireplaces',\n",
       " 'Garage Cars',\n",
       " 'Garage Area',\n",
       " 'paved_binary',\n",
       " 'Wood Deck SF',\n",
       " 'Open Porch SF',\n",
       " 'Enclosed Porch',\n",
       " '3Ssn Porch',\n",
       " 'Screen Porch',\n",
       " 'Pool Area',\n",
       " 'Misc Val',\n",
       " 'Mo Sold',\n",
       " 'SalePrice',\n",
       " 'age',\n",
       " 'sold_age',\n",
       " 'remodel_age',\n",
       " 'garage_age',\n",
       " 'basement_binary',\n",
       " 'fireplace_binary',\n",
       " 'garage_binary',\n",
       " 'wooddeck_binary',\n",
       " 'total_porch_sqft',\n",
       " 'porch_binary',\n",
       " 'pool_binary',\n",
       " 'MS Zoning_C (all)',\n",
       " 'MS Zoning_FV',\n",
       " 'MS Zoning_I (all)',\n",
       " 'MS Zoning_RH',\n",
       " 'MS Zoning_RL',\n",
       " 'MS Zoning_RM',\n",
       " 'Street_Pave',\n",
       " 'Lot Shape_IR2',\n",
       " 'Lot Shape_IR3',\n",
       " 'Lot Shape_Reg',\n",
       " 'Land Contour_HLS',\n",
       " 'Land Contour_Low',\n",
       " 'Land Contour_Lvl',\n",
       " 'Utilities_NoSeWa',\n",
       " 'Utilities_NoSewr',\n",
       " 'Lot Config_CulDSac',\n",
       " 'Lot Config_FR2',\n",
       " 'Lot Config_FR3',\n",
       " 'Lot Config_Inside',\n",
       " 'Land Slope_Mod',\n",
       " 'Land Slope_Sev',\n",
       " 'Neighborhood_Blueste',\n",
       " 'Neighborhood_BrDale',\n",
       " 'Neighborhood_BrkSide',\n",
       " 'Neighborhood_ClearCr',\n",
       " 'Neighborhood_CollgCr',\n",
       " 'Neighborhood_Crawfor',\n",
       " 'Neighborhood_Edwards',\n",
       " 'Neighborhood_Gilbert',\n",
       " 'Neighborhood_Greens',\n",
       " 'Neighborhood_GrnHill',\n",
       " 'Neighborhood_IDOTRR',\n",
       " 'Neighborhood_Landmrk',\n",
       " 'Neighborhood_MeadowV',\n",
       " 'Neighborhood_Mitchel',\n",
       " 'Neighborhood_NAmes',\n",
       " 'Neighborhood_NPkVill',\n",
       " 'Neighborhood_NWAmes',\n",
       " 'Neighborhood_NoRidge',\n",
       " 'Neighborhood_NridgHt',\n",
       " 'Neighborhood_OldTown',\n",
       " 'Neighborhood_SWISU',\n",
       " 'Neighborhood_Sawyer',\n",
       " 'Neighborhood_SawyerW',\n",
       " 'Neighborhood_Somerst',\n",
       " 'Neighborhood_StoneBr',\n",
       " 'Neighborhood_Timber',\n",
       " 'Neighborhood_Veenker',\n",
       " 'Condition 1_Feedr',\n",
       " 'Condition 1_Norm',\n",
       " 'Condition 1_PosA',\n",
       " 'Condition 1_PosN',\n",
       " 'Condition 1_RRAe',\n",
       " 'Condition 1_RRAn',\n",
       " 'Condition 1_RRNe',\n",
       " 'Condition 1_RRNn',\n",
       " 'Condition 2_Feedr',\n",
       " 'Condition 2_Norm',\n",
       " 'Condition 2_PosA',\n",
       " 'Condition 2_PosN',\n",
       " 'Condition 2_RRAe',\n",
       " 'Condition 2_RRAn',\n",
       " 'Condition 2_RRNn',\n",
       " 'Bldg Type_2fmCon',\n",
       " 'Bldg Type_Duplex',\n",
       " 'Bldg Type_Twnhs',\n",
       " 'Bldg Type_TwnhsE',\n",
       " 'House Style_1.5Unf',\n",
       " 'House Style_1Story',\n",
       " 'House Style_2.5Fin',\n",
       " 'House Style_2.5Unf',\n",
       " 'House Style_2Story',\n",
       " 'House Style_SFoyer',\n",
       " 'House Style_SLvl',\n",
       " 'Roof Style_Gable',\n",
       " 'Roof Style_Gambrel',\n",
       " 'Roof Style_Hip',\n",
       " 'Roof Style_Mansard',\n",
       " 'Roof Style_Shed',\n",
       " 'Roof Matl_CompShg',\n",
       " 'Roof Matl_Membran',\n",
       " 'Roof Matl_Tar&Grv',\n",
       " 'Roof Matl_WdShake',\n",
       " 'Roof Matl_WdShngl',\n",
       " 'Exterior 1st_AsphShn',\n",
       " 'Exterior 1st_BrkComm',\n",
       " 'Exterior 1st_BrkFace',\n",
       " 'Exterior 1st_CBlock',\n",
       " 'Exterior 1st_CemntBd',\n",
       " 'Exterior 1st_HdBoard',\n",
       " 'Exterior 1st_ImStucc',\n",
       " 'Exterior 1st_MetalSd',\n",
       " 'Exterior 1st_Plywood',\n",
       " 'Exterior 1st_Stone',\n",
       " 'Exterior 1st_Stucco',\n",
       " 'Exterior 1st_VinylSd',\n",
       " 'Exterior 1st_Wd Sdng',\n",
       " 'Exterior 1st_WdShing',\n",
       " 'Exterior 2nd_AsphShn',\n",
       " 'Exterior 2nd_Brk Cmn',\n",
       " 'Exterior 2nd_BrkFace',\n",
       " 'Exterior 2nd_CBlock',\n",
       " 'Exterior 2nd_CmentBd',\n",
       " 'Exterior 2nd_HdBoard',\n",
       " 'Exterior 2nd_ImStucc',\n",
       " 'Exterior 2nd_MetalSd',\n",
       " 'Exterior 2nd_Plywood',\n",
       " 'Exterior 2nd_Stone',\n",
       " 'Exterior 2nd_Stucco',\n",
       " 'Exterior 2nd_VinylSd',\n",
       " 'Exterior 2nd_Wd Sdng',\n",
       " 'Exterior 2nd_Wd Shng',\n",
       " 'Mas Vnr Type_BrkFace',\n",
       " 'Mas Vnr Type_None',\n",
       " 'Mas Vnr Type_Stone',\n",
       " 'Exter Qual_Fa',\n",
       " 'Exter Qual_Gd',\n",
       " 'Exter Qual_TA',\n",
       " 'Exter Cond_Fa',\n",
       " 'Exter Cond_Gd',\n",
       " 'Exter Cond_Po',\n",
       " 'Exter Cond_TA',\n",
       " 'Foundation_CBlock',\n",
       " 'Foundation_PConc',\n",
       " 'Foundation_Slab',\n",
       " 'Foundation_Stone',\n",
       " 'Foundation_Wood',\n",
       " 'Bsmt Qual_Fa',\n",
       " 'Bsmt Qual_Gd',\n",
       " 'Bsmt Qual_Po',\n",
       " 'Bsmt Qual_TA',\n",
       " 'Bsmt Cond_Fa',\n",
       " 'Bsmt Cond_Gd',\n",
       " 'Bsmt Cond_Po',\n",
       " 'Bsmt Cond_TA',\n",
       " 'Bsmt Exposure_Gd',\n",
       " 'Bsmt Exposure_Mn',\n",
       " 'Bsmt Exposure_No',\n",
       " 'BsmtFin Type 1_BLQ',\n",
       " 'BsmtFin Type 1_GLQ',\n",
       " 'BsmtFin Type 1_LwQ',\n",
       " 'BsmtFin Type 1_Rec',\n",
       " 'BsmtFin Type 1_Unf',\n",
       " 'BsmtFin Type 2_BLQ',\n",
       " 'BsmtFin Type 2_GLQ',\n",
       " 'BsmtFin Type 2_LwQ',\n",
       " 'BsmtFin Type 2_Rec',\n",
       " 'BsmtFin Type 2_Unf',\n",
       " 'Heating_GasW',\n",
       " 'Heating_Grav',\n",
       " 'Heating_OthW',\n",
       " 'Heating_Wall',\n",
       " 'Heating QC_Fa',\n",
       " 'Heating QC_Gd',\n",
       " 'Heating QC_Po',\n",
       " 'Heating QC_TA',\n",
       " 'Electrical_FuseF',\n",
       " 'Electrical_FuseP',\n",
       " 'Electrical_Mix',\n",
       " 'Electrical_SBrkr',\n",
       " 'Kitchen Qual_Fa',\n",
       " 'Kitchen Qual_Gd',\n",
       " 'Kitchen Qual_TA',\n",
       " 'Functional_Maj2',\n",
       " 'Functional_Min1',\n",
       " 'Functional_Min2',\n",
       " 'Functional_Mod',\n",
       " 'Functional_Sal',\n",
       " 'Functional_Sev',\n",
       " 'Functional_Typ',\n",
       " 'Garage Type_Attchd',\n",
       " 'Garage Type_Basment',\n",
       " 'Garage Type_BuiltIn',\n",
       " 'Garage Type_CarPort',\n",
       " 'Garage Type_Detchd',\n",
       " 'Garage Finish_RFn',\n",
       " 'Garage Finish_Unf',\n",
       " 'Garage Qual_Fa',\n",
       " 'Garage Qual_Gd',\n",
       " 'Garage Qual_Po',\n",
       " 'Garage Qual_TA',\n",
       " 'Garage Cond_Fa',\n",
       " 'Garage Cond_Gd',\n",
       " 'Garage Cond_Po',\n",
       " 'Garage Cond_TA',\n",
       " 'Sale Type_CWD',\n",
       " 'Sale Type_Con',\n",
       " 'Sale Type_ConLD',\n",
       " 'Sale Type_ConLI',\n",
       " 'Sale Type_ConLw',\n",
       " 'Sale Type_New',\n",
       " 'Sale Type_Oth',\n",
       " 'Sale Type_WD ']"
      ]
     },
     "execution_count": 161,
     "metadata": {},
     "output_type": "execute_result"
    }
   ],
   "source": [
    "list(df_train_2.columns)"
   ]
  },
  {
   "cell_type": "code",
   "execution_count": null,
   "metadata": {},
   "outputs": [],
   "source": []
  },
  {
   "cell_type": "code",
   "execution_count": null,
   "metadata": {},
   "outputs": [],
   "source": []
  },
  {
   "cell_type": "code",
   "execution_count": null,
   "metadata": {},
   "outputs": [],
   "source": []
  },
  {
   "cell_type": "code",
   "execution_count": null,
   "metadata": {},
   "outputs": [],
   "source": []
  },
  {
   "cell_type": "code",
   "execution_count": null,
   "metadata": {},
   "outputs": [],
   "source": []
  },
  {
   "cell_type": "code",
   "execution_count": null,
   "metadata": {},
   "outputs": [],
   "source": []
  },
  {
   "cell_type": "code",
   "execution_count": null,
   "metadata": {},
   "outputs": [],
   "source": []
  },
  {
   "cell_type": "code",
   "execution_count": null,
   "metadata": {},
   "outputs": [],
   "source": []
  },
  {
   "cell_type": "code",
   "execution_count": null,
   "metadata": {},
   "outputs": [],
   "source": []
  },
  {
   "cell_type": "code",
   "execution_count": null,
   "metadata": {},
   "outputs": [],
   "source": []
  },
  {
   "cell_type": "code",
   "execution_count": null,
   "metadata": {},
   "outputs": [],
   "source": []
  },
  {
   "cell_type": "code",
   "execution_count": null,
   "metadata": {},
   "outputs": [],
   "source": []
  },
  {
   "cell_type": "code",
   "execution_count": null,
   "metadata": {},
   "outputs": [],
   "source": []
  },
  {
   "cell_type": "code",
   "execution_count": null,
   "metadata": {},
   "outputs": [],
   "source": []
  },
  {
   "cell_type": "code",
   "execution_count": null,
   "metadata": {},
   "outputs": [],
   "source": []
  },
  {
   "cell_type": "code",
   "execution_count": null,
   "metadata": {},
   "outputs": [],
   "source": []
  },
  {
   "cell_type": "code",
   "execution_count": null,
   "metadata": {},
   "outputs": [],
   "source": []
  },
  {
   "cell_type": "code",
   "execution_count": null,
   "metadata": {},
   "outputs": [],
   "source": []
  },
  {
   "cell_type": "code",
   "execution_count": null,
   "metadata": {},
   "outputs": [],
   "source": []
  },
  {
   "cell_type": "code",
   "execution_count": null,
   "metadata": {},
   "outputs": [],
   "source": []
  },
  {
   "cell_type": "code",
   "execution_count": null,
   "metadata": {},
   "outputs": [],
   "source": []
  },
  {
   "cell_type": "code",
   "execution_count": null,
   "metadata": {},
   "outputs": [],
   "source": []
  },
  {
   "cell_type": "code",
   "execution_count": null,
   "metadata": {},
   "outputs": [],
   "source": []
  },
  {
   "cell_type": "code",
   "execution_count": null,
   "metadata": {},
   "outputs": [],
   "source": []
  },
  {
   "cell_type": "code",
   "execution_count": null,
   "metadata": {},
   "outputs": [],
   "source": []
  },
  {
   "cell_type": "code",
   "execution_count": null,
   "metadata": {},
   "outputs": [],
   "source": []
  },
  {
   "cell_type": "code",
   "execution_count": null,
   "metadata": {},
   "outputs": [],
   "source": []
  },
  {
   "cell_type": "code",
   "execution_count": null,
   "metadata": {},
   "outputs": [],
   "source": []
  },
  {
   "cell_type": "code",
   "execution_count": null,
   "metadata": {},
   "outputs": [],
   "source": []
  },
  {
   "cell_type": "code",
   "execution_count": null,
   "metadata": {},
   "outputs": [],
   "source": []
  },
  {
   "cell_type": "code",
   "execution_count": null,
   "metadata": {},
   "outputs": [],
   "source": []
  }
 ],
 "metadata": {
  "kernelspec": {
   "display_name": "Python 3",
   "language": "python",
   "name": "python3"
  },
  "language_info": {
   "codemirror_mode": {
    "name": "ipython",
    "version": 3
   },
   "file_extension": ".py",
   "mimetype": "text/x-python",
   "name": "python",
   "nbconvert_exporter": "python",
   "pygments_lexer": "ipython3",
   "version": "3.8.5"
  }
 },
 "nbformat": 4,
 "nbformat_minor": 4
}
